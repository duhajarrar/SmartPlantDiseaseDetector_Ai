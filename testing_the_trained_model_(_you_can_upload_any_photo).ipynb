{
  "cells": [
    {
      "cell_type": "markdown",
      "metadata": {
        "id": "view-in-github",
        "colab_type": "text"
      },
      "source": [
        "<a href=\"https://colab.research.google.com/github/duhajarrar/SmartPlantDiseaseDetector_Ai/blob/main/testing_the_trained_model_(_you_can_upload_any_photo).ipynb\" target=\"_parent\"><img src=\"https://colab.research.google.com/assets/colab-badge.svg\" alt=\"Open In Colab\"/></a>"
      ]
    },
    {
      "cell_type": "code",
      "execution_count": 14,
      "metadata": {
        "id": "Fkt9cR7J1j4-",
        "colab": {
          "base_uri": "https://localhost:8080/"
        },
        "outputId": "fb708b92-ad8a-47fd-a8bc-c71717efc9e1"
      },
      "outputs": [
        {
          "output_type": "stream",
          "name": "stdout",
          "text": [
            "Requirement already satisfied: transformers in /usr/local/lib/python3.10/dist-packages (4.32.0)\n",
            "Requirement already satisfied: filelock in /usr/local/lib/python3.10/dist-packages (from transformers) (3.12.2)\n",
            "Requirement already satisfied: huggingface-hub<1.0,>=0.15.1 in /usr/local/lib/python3.10/dist-packages (from transformers) (0.16.4)\n",
            "Requirement already satisfied: numpy>=1.17 in /usr/local/lib/python3.10/dist-packages (from transformers) (1.23.5)\n",
            "Requirement already satisfied: packaging>=20.0 in /usr/local/lib/python3.10/dist-packages (from transformers) (23.1)\n",
            "Requirement already satisfied: pyyaml>=5.1 in /usr/local/lib/python3.10/dist-packages (from transformers) (6.0.1)\n",
            "Requirement already satisfied: regex!=2019.12.17 in /usr/local/lib/python3.10/dist-packages (from transformers) (2023.6.3)\n",
            "Requirement already satisfied: requests in /usr/local/lib/python3.10/dist-packages (from transformers) (2.31.0)\n",
            "Requirement already satisfied: tokenizers!=0.11.3,<0.14,>=0.11.1 in /usr/local/lib/python3.10/dist-packages (from transformers) (0.13.3)\n",
            "Requirement already satisfied: safetensors>=0.3.1 in /usr/local/lib/python3.10/dist-packages (from transformers) (0.3.3)\n",
            "Requirement already satisfied: tqdm>=4.27 in /usr/local/lib/python3.10/dist-packages (from transformers) (4.66.1)\n",
            "Requirement already satisfied: fsspec in /usr/local/lib/python3.10/dist-packages (from huggingface-hub<1.0,>=0.15.1->transformers) (2023.6.0)\n",
            "Requirement already satisfied: typing-extensions>=3.7.4.3 in /usr/local/lib/python3.10/dist-packages (from huggingface-hub<1.0,>=0.15.1->transformers) (4.7.1)\n",
            "Requirement already satisfied: charset-normalizer<4,>=2 in /usr/local/lib/python3.10/dist-packages (from requests->transformers) (3.2.0)\n",
            "Requirement already satisfied: idna<4,>=2.5 in /usr/local/lib/python3.10/dist-packages (from requests->transformers) (3.4)\n",
            "Requirement already satisfied: urllib3<3,>=1.21.1 in /usr/local/lib/python3.10/dist-packages (from requests->transformers) (2.0.4)\n",
            "Requirement already satisfied: certifi>=2017.4.17 in /usr/local/lib/python3.10/dist-packages (from requests->transformers) (2023.7.22)\n",
            "Requirement already satisfied: datasets in /usr/local/lib/python3.10/dist-packages (2.14.4)\n",
            "Requirement already satisfied: numpy>=1.17 in /usr/local/lib/python3.10/dist-packages (from datasets) (1.23.5)\n",
            "Requirement already satisfied: pyarrow>=8.0.0 in /usr/local/lib/python3.10/dist-packages (from datasets) (9.0.0)\n",
            "Requirement already satisfied: dill<0.3.8,>=0.3.0 in /usr/local/lib/python3.10/dist-packages (from datasets) (0.3.7)\n",
            "Requirement already satisfied: pandas in /usr/local/lib/python3.10/dist-packages (from datasets) (1.5.3)\n",
            "Requirement already satisfied: requests>=2.19.0 in /usr/local/lib/python3.10/dist-packages (from datasets) (2.31.0)\n",
            "Requirement already satisfied: tqdm>=4.62.1 in /usr/local/lib/python3.10/dist-packages (from datasets) (4.66.1)\n",
            "Requirement already satisfied: xxhash in /usr/local/lib/python3.10/dist-packages (from datasets) (3.3.0)\n",
            "Requirement already satisfied: multiprocess in /usr/local/lib/python3.10/dist-packages (from datasets) (0.70.15)\n",
            "Requirement already satisfied: fsspec[http]>=2021.11.1 in /usr/local/lib/python3.10/dist-packages (from datasets) (2023.6.0)\n",
            "Requirement already satisfied: aiohttp in /usr/local/lib/python3.10/dist-packages (from datasets) (3.8.5)\n",
            "Requirement already satisfied: huggingface-hub<1.0.0,>=0.14.0 in /usr/local/lib/python3.10/dist-packages (from datasets) (0.16.4)\n",
            "Requirement already satisfied: packaging in /usr/local/lib/python3.10/dist-packages (from datasets) (23.1)\n",
            "Requirement already satisfied: pyyaml>=5.1 in /usr/local/lib/python3.10/dist-packages (from datasets) (6.0.1)\n",
            "Requirement already satisfied: attrs>=17.3.0 in /usr/local/lib/python3.10/dist-packages (from aiohttp->datasets) (23.1.0)\n",
            "Requirement already satisfied: charset-normalizer<4.0,>=2.0 in /usr/local/lib/python3.10/dist-packages (from aiohttp->datasets) (3.2.0)\n",
            "Requirement already satisfied: multidict<7.0,>=4.5 in /usr/local/lib/python3.10/dist-packages (from aiohttp->datasets) (6.0.4)\n",
            "Requirement already satisfied: async-timeout<5.0,>=4.0.0a3 in /usr/local/lib/python3.10/dist-packages (from aiohttp->datasets) (4.0.3)\n",
            "Requirement already satisfied: yarl<2.0,>=1.0 in /usr/local/lib/python3.10/dist-packages (from aiohttp->datasets) (1.9.2)\n",
            "Requirement already satisfied: frozenlist>=1.1.1 in /usr/local/lib/python3.10/dist-packages (from aiohttp->datasets) (1.4.0)\n",
            "Requirement already satisfied: aiosignal>=1.1.2 in /usr/local/lib/python3.10/dist-packages (from aiohttp->datasets) (1.3.1)\n",
            "Requirement already satisfied: filelock in /usr/local/lib/python3.10/dist-packages (from huggingface-hub<1.0.0,>=0.14.0->datasets) (3.12.2)\n",
            "Requirement already satisfied: typing-extensions>=3.7.4.3 in /usr/local/lib/python3.10/dist-packages (from huggingface-hub<1.0.0,>=0.14.0->datasets) (4.7.1)\n",
            "Requirement already satisfied: idna<4,>=2.5 in /usr/local/lib/python3.10/dist-packages (from requests>=2.19.0->datasets) (3.4)\n",
            "Requirement already satisfied: urllib3<3,>=1.21.1 in /usr/local/lib/python3.10/dist-packages (from requests>=2.19.0->datasets) (2.0.4)\n",
            "Requirement already satisfied: certifi>=2017.4.17 in /usr/local/lib/python3.10/dist-packages (from requests>=2.19.0->datasets) (2023.7.22)\n",
            "Requirement already satisfied: python-dateutil>=2.8.1 in /usr/local/lib/python3.10/dist-packages (from pandas->datasets) (2.8.2)\n",
            "Requirement already satisfied: pytz>=2020.1 in /usr/local/lib/python3.10/dist-packages (from pandas->datasets) (2023.3)\n",
            "Requirement already satisfied: six>=1.5 in /usr/local/lib/python3.10/dist-packages (from python-dateutil>=2.8.1->pandas->datasets) (1.16.0)\n"
          ]
        }
      ],
      "source": [
        "!pip install transformers\n",
        "!pip install datasets"
      ]
    },
    {
      "cell_type": "code",
      "execution_count": 15,
      "metadata": {
        "id": "nz3BSogLaBND"
      },
      "outputs": [],
      "source": [
        "import os\n",
        "from zipfile import ZipFile\n",
        "import seaborn as sns\n",
        "import matplotlib.pyplot as plt\n",
        "import pandas as pd\n",
        "from sklearn.model_selection import train_test_split\n",
        "\n",
        "\n",
        "\n",
        "\n",
        "import torch\n",
        "import torch.nn as nn\n",
        "import torch.optim as optim\n",
        "import torch.utils.data as data\n",
        "import torchvision.transforms as transforms\n",
        "import torchvision.models as models\n",
        "from torch.utils.data import DataLoader\n",
        "import albumentations as album\n",
        "\n",
        "from PIL import Image\n",
        "import requests"
      ]
    },
    {
      "cell_type": "code",
      "source": [
        "#save the model to my drive\n",
        "from google.colab import drive\n",
        "drive.mount('/content/drive')"
      ],
      "metadata": {
        "colab": {
          "base_uri": "https://localhost:8080/"
        },
        "id": "Gui65yNVzkp-",
        "outputId": "ea4d643a-d1e3-48fd-b50c-cf0f63efbe2f"
      },
      "execution_count": 16,
      "outputs": [
        {
          "output_type": "stream",
          "name": "stdout",
          "text": [
            "Drive already mounted at /content/drive; to attempt to forcibly remount, call drive.mount(\"/content/drive\", force_remount=True).\n"
          ]
        }
      ]
    },
    {
      "cell_type": "code",
      "source": [
        "!gdown --id 1-9TGKq9ro7JZ3Oik2Wl2iGn-L4x965im -O /content/model.pth"
      ],
      "metadata": {
        "colab": {
          "base_uri": "https://localhost:8080/"
        },
        "id": "LtDYMUNnb5oT",
        "outputId": "0208c6ad-13aa-43d6-c5e7-a8a3f00351de"
      },
      "execution_count": 17,
      "outputs": [
        {
          "output_type": "stream",
          "name": "stdout",
          "text": [
            "/usr/local/lib/python3.10/dist-packages/gdown/cli.py:121: FutureWarning: Option `--id` was deprecated in version 4.3.1 and will be removed in 5.0. You don't need to pass it anymore to use a file ID.\n",
            "  warnings.warn(\n",
            "Downloading...\n",
            "From: https://drive.google.com/uc?id=1-9TGKq9ro7JZ3Oik2Wl2iGn-L4x965im\n",
            "To: /content/model.pth\n",
            "100% 242M/242M [00:01<00:00, 130MB/s]\n"
          ]
        }
      ]
    },
    {
      "cell_type": "code",
      "source": [
        "from transformers import ResNetConfig, ResNetForImageClassification\n",
        "\n",
        "# Load the model state dict\n",
        "model_state_dict = torch.load(\"model.pth\")\n",
        "configuration = ResNetConfig()\n",
        "\n",
        "# Create a new model instance\n",
        "model = ResNetForImageClassification(configuration).from_pretrained('microsoft/resnet-152')\n",
        "\n",
        "# Load the state dict into the new model\n",
        "model.load_state_dict(model_state_dict)\n"
      ],
      "metadata": {
        "colab": {
          "base_uri": "https://localhost:8080/"
        },
        "id": "1o4L3NMTkfPa",
        "outputId": "11499a5d-16d2-4287-d5fe-89ac0eed3a76"
      },
      "execution_count": 18,
      "outputs": [
        {
          "output_type": "execute_result",
          "data": {
            "text/plain": [
              "<All keys matched successfully>"
            ]
          },
          "metadata": {},
          "execution_count": 18
        }
      ]
    },
    {
      "cell_type": "code",
      "source": [],
      "metadata": {
        "id": "ndv8oSu60D-d"
      },
      "execution_count": 18,
      "outputs": []
    },
    {
      "cell_type": "code",
      "source": [],
      "metadata": {
        "id": "sU_nP_TS0JxR"
      },
      "execution_count": 18,
      "outputs": []
    },
    {
      "cell_type": "code",
      "source": [
        "classes=['Tomato__Target_Spot',\n",
        " 'Tomato_Late_blight',\n",
        " 'Pepper__bell___healthy',\n",
        " 'Potato___Late_blight',\n",
        " 'Tomato__Tomato_YellowLeaf__Curl_Virus',\n",
        " 'Tomato_Spider_mites_Two_spotted_spider_mite',\n",
        " 'Pepper__bell___Bacterial_spot',\n",
        " 'Tomato_Septoria_leaf_spot',\n",
        " 'Tomato_Leaf_Mold',\n",
        " 'Potato___healthy',\n",
        " 'Tomato__Tomato_mosaic_virus',\n",
        " 'Tomato_Bacterial_spot',\n",
        " 'Tomato_Early_blight',\n",
        " 'Tomato_healthy',\n",
        " 'Potato___Early_blight']"
      ],
      "metadata": {
        "id": "OjVpdwJZk7Vh"
      },
      "execution_count": 21,
      "outputs": []
    },
    {
      "cell_type": "code",
      "source": [
        "class_dict = {\n",
        "    0: {\n",
        "        'name': 'Tomato__Target_Spot',\n",
        "        'plant': 'Tomato',\n",
        "        'healthy': False,\n",
        "        'disease': 'Target Spot'\n",
        "    },\n",
        "    1: {\n",
        "        'name': 'Tomato_Late_blight',\n",
        "        'plant': 'Tomato',\n",
        "        'healthy': False,\n",
        "        'disease': 'Late Blight'\n",
        "    },\n",
        "    2: {\n",
        "        'name': 'Pepper__bell___healthy',\n",
        "        'plant': 'Pepper',\n",
        "        'healthy': True,\n",
        "        'disease': None\n",
        "    },\n",
        "    3: {\n",
        "        'name': 'Potato___Late_blight',\n",
        "        'plant': 'Potato',\n",
        "        'healthy': False,\n",
        "        'disease': 'Late Blight'\n",
        "    },\n",
        "    4: {\n",
        "        'name': 'Tomato__Tomato_YellowLeaf__Curl_Virus',\n",
        "        'plant': 'Tomato',\n",
        "        'healthy': False,\n",
        "        'disease': 'Tomato Yellow Leaf Curl Virus'\n",
        "    },\n",
        "    5: {\n",
        "        'name': 'Tomato_Spider_mites_Two_spotted_spider_mite',\n",
        "        'plant': 'Tomato',\n",
        "        'healthy': False,\n",
        "        'disease': 'Spider Mites (Two-Spotted Spider Mite)'\n",
        "    },\n",
        "    6: {\n",
        "        'name': 'Pepper__bell___Bacterial_spot',\n",
        "        'plant': 'Pepper',\n",
        "        'healthy': False,\n",
        "        'disease': 'Bacterial Spot'\n",
        "    },\n",
        "    7: {\n",
        "        'name': 'Tomato_Septoria_leaf_spot',\n",
        "        'plant': 'Tomato',\n",
        "        'healthy': False,\n",
        "        'disease': 'Septoria Leaf Spot'\n",
        "    },\n",
        "    8: {\n",
        "        'name': 'Tomato_Leaf_Mold',\n",
        "        'plant': 'Tomato',\n",
        "        'healthy': False,\n",
        "        'disease': 'Leaf Mold'\n",
        "    },\n",
        "    9: {\n",
        "        'name': 'Potato___healthy',\n",
        "        'plant': 'Potato',\n",
        "        'healthy': True,\n",
        "        'disease': None\n",
        "    },\n",
        "    10: {\n",
        "        'name': 'Tomato__Tomato_mosaic_virus',\n",
        "        'plant': 'Tomato',\n",
        "        'healthy': False,\n",
        "        'disease': 'Tomato Mosaic Virus'\n",
        "    },\n",
        "    11: {\n",
        "        'name': 'Tomato_Bacterial_spot',\n",
        "        'plant': 'Tomato',\n",
        "        'healthy': False,\n",
        "        'disease': 'Bacterial Spot'\n",
        "    },\n",
        "    12: {\n",
        "        'name': 'Tomato_Early_blight',\n",
        "        'plant': 'Tomato',\n",
        "        'healthy': False,\n",
        "        'disease': 'Early Blight'\n",
        "    },\n",
        "    13: {\n",
        "        'name': 'Tomato_healthy',\n",
        "        'plant': 'Tomato',\n",
        "        'healthy': True,\n",
        "        'disease': None\n",
        "    },\n",
        "    14: {\n",
        "        'name': 'Potato___Early_blight',\n",
        "        'plant': 'Potato',\n",
        "        'healthy': False,\n",
        "        'disease': 'Early Blight'\n",
        "    }\n",
        "}\n"
      ],
      "metadata": {
        "id": "p2JNyHu9oVRa"
      },
      "execution_count": 23,
      "outputs": []
    },
    {
      "cell_type": "markdown",
      "source": [
        "#Test the model"
      ],
      "metadata": {
        "id": "kOYGpTi20LXh"
      }
    },
    {
      "cell_type": "code",
      "source": [
        "data_path='/content'\n",
        "os.chdir(data_path)"
      ],
      "metadata": {
        "id": "T53_O-aa1EjU"
      },
      "execution_count": 19,
      "outputs": []
    },
    {
      "cell_type": "code",
      "source": [
        "from google.colab import files\n",
        "files.upload()"
      ],
      "metadata": {
        "id": "nCjxtHZc0MXy"
      },
      "execution_count": null,
      "outputs": []
    },
    {
      "cell_type": "code",
      "source": [],
      "metadata": {
        "id": "wAVlOkIek7SQ"
      },
      "execution_count": 20,
      "outputs": []
    },
    {
      "cell_type": "code",
      "source": [
        "# Read the JPEG photo\n",
        "image =Image.open('/content/can-you-eat-potato-leaves.jpg').convert(\"RGB\")\n",
        "\n",
        "# Define a transform to resize the image to 64x64\n",
        "predict_transform = transforms.Compose([\n",
        "    transforms.Resize((64, 64)),\n",
        "    transforms.ToTensor()\n",
        "])\n",
        "\n",
        "# Convert the image to a tensor\n",
        "img_tensor = predict_transform(image).unsqueeze(dim=0)\n",
        "outputs=model(img_tensor)\n",
        "outputs = model(img_tensor)\n",
        "\n",
        "_, predicted = torch.max(outputs.logits, 1)\n",
        "\n",
        "\n",
        "\n",
        "print(\"Class Name:\", class_dict[int(predicted)]['name'])\n",
        "print(\"Plant Name:\", class_dict[int(predicted)]['plant'])\n",
        "print(\"Is Healthy:\", class_dict[int(predicted)]['healthy'])\n",
        "print(\"Disease Name:\", class_dict[int(predicted)]['disease'])\n"
      ],
      "metadata": {
        "colab": {
          "base_uri": "https://localhost:8080/"
        },
        "id": "goM9O4yQ0rbN",
        "outputId": "8d7b9d3a-e415-4acd-a87f-03c92c6d0e39"
      },
      "execution_count": 37,
      "outputs": [
        {
          "output_type": "stream",
          "name": "stdout",
          "text": [
            "Class Name: Tomato_Late_blight\n",
            "Plant Name: Tomato\n",
            "Is Healthy: False\n",
            "Disease Name: Late Blight\n"
          ]
        }
      ]
    }
  ],
  "metadata": {
    "accelerator": "GPU",
    "colab": {
      "machine_shape": "hm",
      "provenance": [],
      "gpuType": "T4",
      "authorship_tag": "ABX9TyP4g5WT7loP5tEaTRKSp8iG",
      "include_colab_link": true
    },
    "kernelspec": {
      "display_name": "Python 3",
      "name": "python3"
    },
    "language_info": {
      "name": "python"
    }
  },
  "nbformat": 4,
  "nbformat_minor": 0
}
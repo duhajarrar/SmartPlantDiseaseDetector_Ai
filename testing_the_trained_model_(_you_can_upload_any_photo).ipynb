{
  "cells": [
    {
      "cell_type": "markdown",
      "metadata": {
        "id": "view-in-github",
        "colab_type": "text"
      },
      "source": [
        "<a href=\"https://colab.research.google.com/github/duhajarrar/SmartPlantDiseaseDetector_Ai/blob/main/testing_the_trained_model_(_you_can_upload_any_photo).ipynb\" target=\"_parent\"><img src=\"https://colab.research.google.com/assets/colab-badge.svg\" alt=\"Open In Colab\"/></a>"
      ]
    },
    {
      "cell_type": "code",
      "execution_count": 1,
      "metadata": {
        "id": "Fkt9cR7J1j4-",
        "colab": {
          "base_uri": "https://localhost:8080/"
        },
        "outputId": "f848603f-78ea-4311-a5b0-78b6c887dcd3"
      },
      "outputs": [
        {
          "output_type": "stream",
          "name": "stdout",
          "text": [
            "Collecting transformers\n",
            "  Downloading transformers-4.32.0-py3-none-any.whl (7.5 MB)\n",
            "\u001b[2K     \u001b[90m━━━━━━━━━━━━━━━━━━━━━━━━━━━━━━━━━━━━━━━━\u001b[0m \u001b[32m7.5/7.5 MB\u001b[0m \u001b[31m17.0 MB/s\u001b[0m eta \u001b[36m0:00:00\u001b[0m\n",
            "\u001b[?25hRequirement already satisfied: filelock in /usr/local/lib/python3.10/dist-packages (from transformers) (3.12.2)\n",
            "Collecting huggingface-hub<1.0,>=0.15.1 (from transformers)\n",
            "  Downloading huggingface_hub-0.16.4-py3-none-any.whl (268 kB)\n",
            "\u001b[2K     \u001b[90m━━━━━━━━━━━━━━━━━━━━━━━━━━━━━━━━━━━━━━\u001b[0m \u001b[32m268.8/268.8 kB\u001b[0m \u001b[31m20.6 MB/s\u001b[0m eta \u001b[36m0:00:00\u001b[0m\n",
            "\u001b[?25hRequirement already satisfied: numpy>=1.17 in /usr/local/lib/python3.10/dist-packages (from transformers) (1.23.5)\n",
            "Requirement already satisfied: packaging>=20.0 in /usr/local/lib/python3.10/dist-packages (from transformers) (23.1)\n",
            "Requirement already satisfied: pyyaml>=5.1 in /usr/local/lib/python3.10/dist-packages (from transformers) (6.0.1)\n",
            "Requirement already satisfied: regex!=2019.12.17 in /usr/local/lib/python3.10/dist-packages (from transformers) (2023.6.3)\n",
            "Requirement already satisfied: requests in /usr/local/lib/python3.10/dist-packages (from transformers) (2.31.0)\n",
            "Collecting tokenizers!=0.11.3,<0.14,>=0.11.1 (from transformers)\n",
            "  Downloading tokenizers-0.13.3-cp310-cp310-manylinux_2_17_x86_64.manylinux2014_x86_64.whl (7.8 MB)\n",
            "\u001b[2K     \u001b[90m━━━━━━━━━━━━━━━━━━━━━━━━━━━━━━━━━━━━━━━━\u001b[0m \u001b[32m7.8/7.8 MB\u001b[0m \u001b[31m40.8 MB/s\u001b[0m eta \u001b[36m0:00:00\u001b[0m\n",
            "\u001b[?25hCollecting safetensors>=0.3.1 (from transformers)\n",
            "  Downloading safetensors-0.3.3-cp310-cp310-manylinux_2_17_x86_64.manylinux2014_x86_64.whl (1.3 MB)\n",
            "\u001b[2K     \u001b[90m━━━━━━━━━━━━━━━━━━━━━━━━━━━━━━━━━━━━━━━━\u001b[0m \u001b[32m1.3/1.3 MB\u001b[0m \u001b[31m50.3 MB/s\u001b[0m eta \u001b[36m0:00:00\u001b[0m\n",
            "\u001b[?25hRequirement already satisfied: tqdm>=4.27 in /usr/local/lib/python3.10/dist-packages (from transformers) (4.66.1)\n",
            "Requirement already satisfied: fsspec in /usr/local/lib/python3.10/dist-packages (from huggingface-hub<1.0,>=0.15.1->transformers) (2023.6.0)\n",
            "Requirement already satisfied: typing-extensions>=3.7.4.3 in /usr/local/lib/python3.10/dist-packages (from huggingface-hub<1.0,>=0.15.1->transformers) (4.7.1)\n",
            "Requirement already satisfied: charset-normalizer<4,>=2 in /usr/local/lib/python3.10/dist-packages (from requests->transformers) (3.2.0)\n",
            "Requirement already satisfied: idna<4,>=2.5 in /usr/local/lib/python3.10/dist-packages (from requests->transformers) (3.4)\n",
            "Requirement already satisfied: urllib3<3,>=1.21.1 in /usr/local/lib/python3.10/dist-packages (from requests->transformers) (2.0.4)\n",
            "Requirement already satisfied: certifi>=2017.4.17 in /usr/local/lib/python3.10/dist-packages (from requests->transformers) (2023.7.22)\n",
            "Installing collected packages: tokenizers, safetensors, huggingface-hub, transformers\n",
            "Successfully installed huggingface-hub-0.16.4 safetensors-0.3.3 tokenizers-0.13.3 transformers-4.32.0\n",
            "Collecting datasets\n",
            "  Downloading datasets-2.14.4-py3-none-any.whl (519 kB)\n",
            "\u001b[2K     \u001b[90m━━━━━━━━━━━━━━━━━━━━━━━━━━━━━━━━━━━━━━━\u001b[0m \u001b[32m519.3/519.3 kB\u001b[0m \u001b[31m4.9 MB/s\u001b[0m eta \u001b[36m0:00:00\u001b[0m\n",
            "\u001b[?25hRequirement already satisfied: numpy>=1.17 in /usr/local/lib/python3.10/dist-packages (from datasets) (1.23.5)\n",
            "Requirement already satisfied: pyarrow>=8.0.0 in /usr/local/lib/python3.10/dist-packages (from datasets) (9.0.0)\n",
            "Collecting dill<0.3.8,>=0.3.0 (from datasets)\n",
            "  Downloading dill-0.3.7-py3-none-any.whl (115 kB)\n",
            "\u001b[2K     \u001b[90m━━━━━━━━━━━━━━━━━━━━━━━━━━━━━━━━━━━━━━━\u001b[0m \u001b[32m115.3/115.3 kB\u001b[0m \u001b[31m6.1 MB/s\u001b[0m eta \u001b[36m0:00:00\u001b[0m\n",
            "\u001b[?25hRequirement already satisfied: pandas in /usr/local/lib/python3.10/dist-packages (from datasets) (1.5.3)\n",
            "Requirement already satisfied: requests>=2.19.0 in /usr/local/lib/python3.10/dist-packages (from datasets) (2.31.0)\n",
            "Requirement already satisfied: tqdm>=4.62.1 in /usr/local/lib/python3.10/dist-packages (from datasets) (4.66.1)\n",
            "Collecting xxhash (from datasets)\n",
            "  Downloading xxhash-3.3.0-cp310-cp310-manylinux_2_17_x86_64.manylinux2014_x86_64.whl (194 kB)\n",
            "\u001b[2K     \u001b[90m━━━━━━━━━━━━━━━━━━━━━━━━━━━━━━━━━━━━━━━\u001b[0m \u001b[32m194.1/194.1 kB\u001b[0m \u001b[31m6.6 MB/s\u001b[0m eta \u001b[36m0:00:00\u001b[0m\n",
            "\u001b[?25hCollecting multiprocess (from datasets)\n",
            "  Downloading multiprocess-0.70.15-py310-none-any.whl (134 kB)\n",
            "\u001b[2K     \u001b[90m━━━━━━━━━━━━━━━━━━━━━━━━━━━━━━━━━━━━━━━\u001b[0m \u001b[32m134.8/134.8 kB\u001b[0m \u001b[31m5.9 MB/s\u001b[0m eta \u001b[36m0:00:00\u001b[0m\n",
            "\u001b[?25hRequirement already satisfied: fsspec[http]>=2021.11.1 in /usr/local/lib/python3.10/dist-packages (from datasets) (2023.6.0)\n",
            "Requirement already satisfied: aiohttp in /usr/local/lib/python3.10/dist-packages (from datasets) (3.8.5)\n",
            "Requirement already satisfied: huggingface-hub<1.0.0,>=0.14.0 in /usr/local/lib/python3.10/dist-packages (from datasets) (0.16.4)\n",
            "Requirement already satisfied: packaging in /usr/local/lib/python3.10/dist-packages (from datasets) (23.1)\n",
            "Requirement already satisfied: pyyaml>=5.1 in /usr/local/lib/python3.10/dist-packages (from datasets) (6.0.1)\n",
            "Requirement already satisfied: attrs>=17.3.0 in /usr/local/lib/python3.10/dist-packages (from aiohttp->datasets) (23.1.0)\n",
            "Requirement already satisfied: charset-normalizer<4.0,>=2.0 in /usr/local/lib/python3.10/dist-packages (from aiohttp->datasets) (3.2.0)\n",
            "Requirement already satisfied: multidict<7.0,>=4.5 in /usr/local/lib/python3.10/dist-packages (from aiohttp->datasets) (6.0.4)\n",
            "Requirement already satisfied: async-timeout<5.0,>=4.0.0a3 in /usr/local/lib/python3.10/dist-packages (from aiohttp->datasets) (4.0.3)\n",
            "Requirement already satisfied: yarl<2.0,>=1.0 in /usr/local/lib/python3.10/dist-packages (from aiohttp->datasets) (1.9.2)\n",
            "Requirement already satisfied: frozenlist>=1.1.1 in /usr/local/lib/python3.10/dist-packages (from aiohttp->datasets) (1.4.0)\n",
            "Requirement already satisfied: aiosignal>=1.1.2 in /usr/local/lib/python3.10/dist-packages (from aiohttp->datasets) (1.3.1)\n",
            "Requirement already satisfied: filelock in /usr/local/lib/python3.10/dist-packages (from huggingface-hub<1.0.0,>=0.14.0->datasets) (3.12.2)\n",
            "Requirement already satisfied: typing-extensions>=3.7.4.3 in /usr/local/lib/python3.10/dist-packages (from huggingface-hub<1.0.0,>=0.14.0->datasets) (4.7.1)\n",
            "Requirement already satisfied: idna<4,>=2.5 in /usr/local/lib/python3.10/dist-packages (from requests>=2.19.0->datasets) (3.4)\n",
            "Requirement already satisfied: urllib3<3,>=1.21.1 in /usr/local/lib/python3.10/dist-packages (from requests>=2.19.0->datasets) (2.0.4)\n",
            "Requirement already satisfied: certifi>=2017.4.17 in /usr/local/lib/python3.10/dist-packages (from requests>=2.19.0->datasets) (2023.7.22)\n",
            "Requirement already satisfied: python-dateutil>=2.8.1 in /usr/local/lib/python3.10/dist-packages (from pandas->datasets) (2.8.2)\n",
            "Requirement already satisfied: pytz>=2020.1 in /usr/local/lib/python3.10/dist-packages (from pandas->datasets) (2023.3)\n",
            "Requirement already satisfied: six>=1.5 in /usr/local/lib/python3.10/dist-packages (from python-dateutil>=2.8.1->pandas->datasets) (1.16.0)\n",
            "Installing collected packages: xxhash, dill, multiprocess, datasets\n",
            "Successfully installed datasets-2.14.4 dill-0.3.7 multiprocess-0.70.15 xxhash-3.3.0\n"
          ]
        }
      ],
      "source": [
        "!pip install transformers\n",
        "!pip install datasets"
      ]
    },
    {
      "cell_type": "code",
      "execution_count": 2,
      "metadata": {
        "id": "nz3BSogLaBND"
      },
      "outputs": [],
      "source": [
        "import os\n",
        "from zipfile import ZipFile\n",
        "import seaborn as sns\n",
        "import matplotlib.pyplot as plt\n",
        "import pandas as pd\n",
        "from sklearn.model_selection import train_test_split\n",
        "\n",
        "\n",
        "\n",
        "\n",
        "import torch\n",
        "import torch.nn as nn\n",
        "import torch.optim as optim\n",
        "import torch.utils.data as data\n",
        "import torchvision.transforms as transforms\n",
        "import torchvision.models as models\n",
        "from torch.utils.data import DataLoader\n",
        "import albumentations as album\n",
        "\n",
        "from PIL import Image\n",
        "import requests"
      ]
    },
    {
      "cell_type": "code",
      "source": [
        "#save the model to my drive\n",
        "from google.colab import drive\n",
        "drive.mount('/content/drive')"
      ],
      "metadata": {
        "colab": {
          "base_uri": "https://localhost:8080/"
        },
        "id": "Gui65yNVzkp-",
        "outputId": "d269438e-47b1-4fc5-e494-4ba8cb68e66b"
      },
      "execution_count": 3,
      "outputs": [
        {
          "output_type": "stream",
          "name": "stdout",
          "text": [
            "Mounted at /content/drive\n"
          ]
        }
      ]
    },
    {
      "cell_type": "code",
      "source": [
        "!gdown --id 1-9TGKq9ro7JZ3Oik2Wl2iGn-L4x965im -O /content/model.pth"
      ],
      "metadata": {
        "colab": {
          "base_uri": "https://localhost:8080/"
        },
        "id": "LtDYMUNnb5oT",
        "outputId": "4a69b05d-98c8-4ef6-b17a-4aceac5b1ba0"
      },
      "execution_count": 4,
      "outputs": [
        {
          "output_type": "stream",
          "name": "stdout",
          "text": [
            "/usr/local/lib/python3.10/dist-packages/gdown/cli.py:121: FutureWarning: Option `--id` was deprecated in version 4.3.1 and will be removed in 5.0. You don't need to pass it anymore to use a file ID.\n",
            "  warnings.warn(\n",
            "Downloading...\n",
            "From: https://drive.google.com/uc?id=1-9TGKq9ro7JZ3Oik2Wl2iGn-L4x965im\n",
            "To: /content/model.pth\n",
            "100% 242M/242M [00:05<00:00, 45.6MB/s]\n"
          ]
        }
      ]
    },
    {
      "cell_type": "code",
      "source": [
        "from transformers import ResNetConfig, ResNetForImageClassification\n",
        "\n",
        "# Load the model state dict\n",
        "model_state_dict = torch.load(\"model.pth\")\n",
        "configuration = ResNetConfig()\n",
        "\n",
        "# Create a new model instance\n",
        "model = ResNetForImageClassification(configuration).from_pretrained('microsoft/resnet-152')\n",
        "\n",
        "# Load the state dict into the new model\n",
        "model.load_state_dict(model_state_dict)\n"
      ],
      "metadata": {
        "colab": {
          "base_uri": "https://localhost:8080/",
          "height": 98,
          "referenced_widgets": [
            "5558f0064d264205b443dda25a55ffe4",
            "c9cee8adf3dd43e18edfa1849d9fd88c",
            "93c4a9cb2e854ff58916d829f699528d",
            "b38d86176f7b47c1ad26f7a222b8cb21",
            "94bf10fd4a1e4d2db3684561a46c5300",
            "013684b8884e486090540f78298b0c4d",
            "a93113df91854ba7ba3a673dcf5dc493",
            "375ac6d16b2c40b1ae2be71a9f5bc1e6",
            "8d1fd5000a1f405c8d3d3ac24a054cae",
            "6c530b490c2f430e809d6339341fb42f",
            "7be4943d85374dd99d57ea46d8a18542",
            "9d11ea481f4049479ff7b693646fb2d3",
            "70d7bc2a0c224bceb92321a6ea49c92a",
            "8ae1ef13b93a4e0b8e7346e876d4cf51",
            "cc270037d2984b47b7ceb74a526bff61",
            "0d26397f34024c18a431d803ded67842",
            "94e1a1c1ffee461aaa01d1fabd7ecf87",
            "1ac68c29378444fe92a9ac152f4d62e6",
            "98b5861c60704401b2f70f22dfba2d59",
            "c523d639e14a462a9bbdb3908d6a706c",
            "15005f4279e64071b70cc9600f0cb07c",
            "2e0418a1336e4782a7997167baca78a3"
          ]
        },
        "id": "1o4L3NMTkfPa",
        "outputId": "34227c02-31c2-4669-e883-38d39f458da3"
      },
      "execution_count": 7,
      "outputs": [
        {
          "output_type": "display_data",
          "data": {
            "text/plain": [
              "Downloading (…)lve/main/config.json:   0%|          | 0.00/69.6k [00:00<?, ?B/s]"
            ],
            "application/vnd.jupyter.widget-view+json": {
              "version_major": 2,
              "version_minor": 0,
              "model_id": "5558f0064d264205b443dda25a55ffe4"
            }
          },
          "metadata": {}
        },
        {
          "output_type": "display_data",
          "data": {
            "text/plain": [
              "Downloading model.safetensors:   0%|          | 0.00/242M [00:00<?, ?B/s]"
            ],
            "application/vnd.jupyter.widget-view+json": {
              "version_major": 2,
              "version_minor": 0,
              "model_id": "9d11ea481f4049479ff7b693646fb2d3"
            }
          },
          "metadata": {}
        },
        {
          "output_type": "execute_result",
          "data": {
            "text/plain": [
              "<All keys matched successfully>"
            ]
          },
          "metadata": {},
          "execution_count": 7
        }
      ]
    },
    {
      "cell_type": "code",
      "source": [],
      "metadata": {
        "id": "ndv8oSu60D-d"
      },
      "execution_count": null,
      "outputs": []
    },
    {
      "cell_type": "code",
      "source": [],
      "metadata": {
        "id": "sU_nP_TS0JxR"
      },
      "execution_count": null,
      "outputs": []
    },
    {
      "cell_type": "markdown",
      "source": [
        "#Test the model"
      ],
      "metadata": {
        "id": "kOYGpTi20LXh"
      }
    },
    {
      "cell_type": "code",
      "source": [
        "data_path='/content'\n",
        "os.chdir(data_path)"
      ],
      "metadata": {
        "id": "T53_O-aa1EjU"
      },
      "execution_count": 8,
      "outputs": []
    },
    {
      "cell_type": "code",
      "source": [
        "from google.colab import files\n",
        "files.upload()"
      ],
      "metadata": {
        "colab": {
          "base_uri": "https://localhost:8080/",
          "height": 1000
        },
        "id": "nCjxtHZc0MXy",
        "outputId": "394cc6d2-9a85-4770-e170-c4229bdc237e"
      },
      "execution_count": 9,
      "outputs": [
        {
          "output_type": "display_data",
          "data": {
            "text/plain": [
              "<IPython.core.display.HTML object>"
            ],
            "text/html": [
              "\n",
              "     <input type=\"file\" id=\"files-c7050cdc-dc4f-4bd1-820c-0ee9432f179a\" name=\"files[]\" multiple disabled\n",
              "        style=\"border:none\" />\n",
              "     <output id=\"result-c7050cdc-dc4f-4bd1-820c-0ee9432f179a\">\n",
              "      Upload widget is only available when the cell has been executed in the\n",
              "      current browser session. Please rerun this cell to enable.\n",
              "      </output>\n",
              "      <script>// Copyright 2017 Google LLC\n",
              "//\n",
              "// Licensed under the Apache License, Version 2.0 (the \"License\");\n",
              "// you may not use this file except in compliance with the License.\n",
              "// You may obtain a copy of the License at\n",
              "//\n",
              "//      http://www.apache.org/licenses/LICENSE-2.0\n",
              "//\n",
              "// Unless required by applicable law or agreed to in writing, software\n",
              "// distributed under the License is distributed on an \"AS IS\" BASIS,\n",
              "// WITHOUT WARRANTIES OR CONDITIONS OF ANY KIND, either express or implied.\n",
              "// See the License for the specific language governing permissions and\n",
              "// limitations under the License.\n",
              "\n",
              "/**\n",
              " * @fileoverview Helpers for google.colab Python module.\n",
              " */\n",
              "(function(scope) {\n",
              "function span(text, styleAttributes = {}) {\n",
              "  const element = document.createElement('span');\n",
              "  element.textContent = text;\n",
              "  for (const key of Object.keys(styleAttributes)) {\n",
              "    element.style[key] = styleAttributes[key];\n",
              "  }\n",
              "  return element;\n",
              "}\n",
              "\n",
              "// Max number of bytes which will be uploaded at a time.\n",
              "const MAX_PAYLOAD_SIZE = 100 * 1024;\n",
              "\n",
              "function _uploadFiles(inputId, outputId) {\n",
              "  const steps = uploadFilesStep(inputId, outputId);\n",
              "  const outputElement = document.getElementById(outputId);\n",
              "  // Cache steps on the outputElement to make it available for the next call\n",
              "  // to uploadFilesContinue from Python.\n",
              "  outputElement.steps = steps;\n",
              "\n",
              "  return _uploadFilesContinue(outputId);\n",
              "}\n",
              "\n",
              "// This is roughly an async generator (not supported in the browser yet),\n",
              "// where there are multiple asynchronous steps and the Python side is going\n",
              "// to poll for completion of each step.\n",
              "// This uses a Promise to block the python side on completion of each step,\n",
              "// then passes the result of the previous step as the input to the next step.\n",
              "function _uploadFilesContinue(outputId) {\n",
              "  const outputElement = document.getElementById(outputId);\n",
              "  const steps = outputElement.steps;\n",
              "\n",
              "  const next = steps.next(outputElement.lastPromiseValue);\n",
              "  return Promise.resolve(next.value.promise).then((value) => {\n",
              "    // Cache the last promise value to make it available to the next\n",
              "    // step of the generator.\n",
              "    outputElement.lastPromiseValue = value;\n",
              "    return next.value.response;\n",
              "  });\n",
              "}\n",
              "\n",
              "/**\n",
              " * Generator function which is called between each async step of the upload\n",
              " * process.\n",
              " * @param {string} inputId Element ID of the input file picker element.\n",
              " * @param {string} outputId Element ID of the output display.\n",
              " * @return {!Iterable<!Object>} Iterable of next steps.\n",
              " */\n",
              "function* uploadFilesStep(inputId, outputId) {\n",
              "  const inputElement = document.getElementById(inputId);\n",
              "  inputElement.disabled = false;\n",
              "\n",
              "  const outputElement = document.getElementById(outputId);\n",
              "  outputElement.innerHTML = '';\n",
              "\n",
              "  const pickedPromise = new Promise((resolve) => {\n",
              "    inputElement.addEventListener('change', (e) => {\n",
              "      resolve(e.target.files);\n",
              "    });\n",
              "  });\n",
              "\n",
              "  const cancel = document.createElement('button');\n",
              "  inputElement.parentElement.appendChild(cancel);\n",
              "  cancel.textContent = 'Cancel upload';\n",
              "  const cancelPromise = new Promise((resolve) => {\n",
              "    cancel.onclick = () => {\n",
              "      resolve(null);\n",
              "    };\n",
              "  });\n",
              "\n",
              "  // Wait for the user to pick the files.\n",
              "  const files = yield {\n",
              "    promise: Promise.race([pickedPromise, cancelPromise]),\n",
              "    response: {\n",
              "      action: 'starting',\n",
              "    }\n",
              "  };\n",
              "\n",
              "  cancel.remove();\n",
              "\n",
              "  // Disable the input element since further picks are not allowed.\n",
              "  inputElement.disabled = true;\n",
              "\n",
              "  if (!files) {\n",
              "    return {\n",
              "      response: {\n",
              "        action: 'complete',\n",
              "      }\n",
              "    };\n",
              "  }\n",
              "\n",
              "  for (const file of files) {\n",
              "    const li = document.createElement('li');\n",
              "    li.append(span(file.name, {fontWeight: 'bold'}));\n",
              "    li.append(span(\n",
              "        `(${file.type || 'n/a'}) - ${file.size} bytes, ` +\n",
              "        `last modified: ${\n",
              "            file.lastModifiedDate ? file.lastModifiedDate.toLocaleDateString() :\n",
              "                                    'n/a'} - `));\n",
              "    const percent = span('0% done');\n",
              "    li.appendChild(percent);\n",
              "\n",
              "    outputElement.appendChild(li);\n",
              "\n",
              "    const fileDataPromise = new Promise((resolve) => {\n",
              "      const reader = new FileReader();\n",
              "      reader.onload = (e) => {\n",
              "        resolve(e.target.result);\n",
              "      };\n",
              "      reader.readAsArrayBuffer(file);\n",
              "    });\n",
              "    // Wait for the data to be ready.\n",
              "    let fileData = yield {\n",
              "      promise: fileDataPromise,\n",
              "      response: {\n",
              "        action: 'continue',\n",
              "      }\n",
              "    };\n",
              "\n",
              "    // Use a chunked sending to avoid message size limits. See b/62115660.\n",
              "    let position = 0;\n",
              "    do {\n",
              "      const length = Math.min(fileData.byteLength - position, MAX_PAYLOAD_SIZE);\n",
              "      const chunk = new Uint8Array(fileData, position, length);\n",
              "      position += length;\n",
              "\n",
              "      const base64 = btoa(String.fromCharCode.apply(null, chunk));\n",
              "      yield {\n",
              "        response: {\n",
              "          action: 'append',\n",
              "          file: file.name,\n",
              "          data: base64,\n",
              "        },\n",
              "      };\n",
              "\n",
              "      let percentDone = fileData.byteLength === 0 ?\n",
              "          100 :\n",
              "          Math.round((position / fileData.byteLength) * 100);\n",
              "      percent.textContent = `${percentDone}% done`;\n",
              "\n",
              "    } while (position < fileData.byteLength);\n",
              "  }\n",
              "\n",
              "  // All done.\n",
              "  yield {\n",
              "    response: {\n",
              "      action: 'complete',\n",
              "    }\n",
              "  };\n",
              "}\n",
              "\n",
              "scope.google = scope.google || {};\n",
              "scope.google.colab = scope.google.colab || {};\n",
              "scope.google.colab._files = {\n",
              "  _uploadFiles,\n",
              "  _uploadFilesContinue,\n",
              "};\n",
              "})(self);\n",
              "</script> "
            ]
          },
          "metadata": {}
        },
        {
          "output_type": "stream",
          "name": "stdout",
          "text": [
            "Saving 1dcfeaa9-006d-470c-b3e5-d67609d07d4e___RS_HL 1808.JPG to 1dcfeaa9-006d-470c-b3e5-d67609d07d4e___RS_HL 1808.JPG\n"
          ]
        },
        {
          "output_type": "execute_result",
          "data": {
            "text/plain": [
              "{'1dcfeaa9-006d-470c-b3e5-d67609d07d4e___RS_HL 1808.JPG': b'\\xff\\xd8\\xff\\xe0\\x00\\x10JFIF\\x00\\x01\\x01\\x00\\x00\\x01\\x00\\x01\\x00\\x00\\xff\\xdb\\x00C\\x00\\x08\\x06\\x06\\x07\\x06\\x05\\x08\\x07\\x07\\x07\\t\\t\\x08\\n\\x0c\\x14\\r\\x0c\\x0b\\x0b\\x0c\\x19\\x12\\x13\\x0f\\x14\\x1d\\x1a\\x1f\\x1e\\x1d\\x1a\\x1c\\x1c $.\\' \",#\\x1c\\x1c(7),01444\\x1f\\'9=82<.342\\xff\\xdb\\x00C\\x01\\t\\t\\t\\x0c\\x0b\\x0c\\x18\\r\\r\\x182!\\x1c!22222222222222222222222222222222222222222222222222\\xff\\xc0\\x00\\x11\\x08\\x01\\x00\\x01\\x00\\x03\\x01\"\\x00\\x02\\x11\\x01\\x03\\x11\\x01\\xff\\xc4\\x00\\x1f\\x00\\x00\\x01\\x05\\x01\\x01\\x01\\x01\\x01\\x01\\x00\\x00\\x00\\x00\\x00\\x00\\x00\\x00\\x01\\x02\\x03\\x04\\x05\\x06\\x07\\x08\\t\\n\\x0b\\xff\\xc4\\x00\\xb5\\x10\\x00\\x02\\x01\\x03\\x03\\x02\\x04\\x03\\x05\\x05\\x04\\x04\\x00\\x00\\x01}\\x01\\x02\\x03\\x00\\x04\\x11\\x05\\x12!1A\\x06\\x13Qa\\x07\"q\\x142\\x81\\x91\\xa1\\x08#B\\xb1\\xc1\\x15R\\xd1\\xf0$3br\\x82\\t\\n\\x16\\x17\\x18\\x19\\x1a%&\\'()*456789:CDEFGHIJSTUVWXYZcdefghijstuvwxyz\\x83\\x84\\x85\\x86\\x87\\x88\\x89\\x8a\\x92\\x93\\x94\\x95\\x96\\x97\\x98\\x99\\x9a\\xa2\\xa3\\xa4\\xa5\\xa6\\xa7\\xa8\\xa9\\xaa\\xb2\\xb3\\xb4\\xb5\\xb6\\xb7\\xb8\\xb9\\xba\\xc2\\xc3\\xc4\\xc5\\xc6\\xc7\\xc8\\xc9\\xca\\xd2\\xd3\\xd4\\xd5\\xd6\\xd7\\xd8\\xd9\\xda\\xe1\\xe2\\xe3\\xe4\\xe5\\xe6\\xe7\\xe8\\xe9\\xea\\xf1\\xf2\\xf3\\xf4\\xf5\\xf6\\xf7\\xf8\\xf9\\xfa\\xff\\xc4\\x00\\x1f\\x01\\x00\\x03\\x01\\x01\\x01\\x01\\x01\\x01\\x01\\x01\\x01\\x00\\x00\\x00\\x00\\x00\\x00\\x01\\x02\\x03\\x04\\x05\\x06\\x07\\x08\\t\\n\\x0b\\xff\\xc4\\x00\\xb5\\x11\\x00\\x02\\x01\\x02\\x04\\x04\\x03\\x04\\x07\\x05\\x04\\x04\\x00\\x01\\x02w\\x00\\x01\\x02\\x03\\x11\\x04\\x05!1\\x06\\x12AQ\\x07aq\\x13\"2\\x81\\x08\\x14B\\x91\\xa1\\xb1\\xc1\\t#3R\\xf0\\x15br\\xd1\\n\\x16$4\\xe1%\\xf1\\x17\\x18\\x19\\x1a&\\'()*56789:CDEFGHIJSTUVWXYZcdefghijstuvwxyz\\x82\\x83\\x84\\x85\\x86\\x87\\x88\\x89\\x8a\\x92\\x93\\x94\\x95\\x96\\x97\\x98\\x99\\x9a\\xa2\\xa3\\xa4\\xa5\\xa6\\xa7\\xa8\\xa9\\xaa\\xb2\\xb3\\xb4\\xb5\\xb6\\xb7\\xb8\\xb9\\xba\\xc2\\xc3\\xc4\\xc5\\xc6\\xc7\\xc8\\xc9\\xca\\xd2\\xd3\\xd4\\xd5\\xd6\\xd7\\xd8\\xd9\\xda\\xe2\\xe3\\xe4\\xe5\\xe6\\xe7\\xe8\\xe9\\xea\\xf2\\xf3\\xf4\\xf5\\xf6\\xf7\\xf8\\xf9\\xfa\\xff\\xda\\x00\\x0c\\x03\\x01\\x00\\x02\\x11\\x03\\x11\\x00?\\x00\\xe8\\x9eV[\\x8d\\xc5\\x8e\\xd2F\\xc3\\xdf\\xe8\\x7f\\xcfz\\x8e7\\x7f\\xb4yr.J|\\xc0\\x80F\\x00=\\x7f:x\\x04|\\xd2\\x0eG\\xcc\\xa4\\x12\\x07\\xe2z\\xf6\"\\xa5\\x1f*.\\xde\\n\\x10\\x01bK\\x01\\xcf\\x1e\\xa7=\\x7f\\x1af\\xc0\\x8f\\x84\\x0e\\xc1\\x99\\xce01\\xfd\\x7f?\\xca\\x98TeTq\\x9c\\xb0`2x\\xe9\\xf4\\x15\\xc6\\xeb:\\x85\\xf4\\x1e%\\x92KY\\x0cK\\x1e\\x15\\x90g\\x0f\\xc9l\\x11\\xdf\\x965\\xd2i\\xda\\xa4Z\\xa4 lH\\xe5P<\\xc5c\\x9c\\x1eNF{\\x7f\\x85Dj)6\\x88SM\\xd8\\xd1\\xdcVA\\xb5\\x8a\\x91\\x8f\\x98\\xf4<\\xe3\\xdf=\\xaa\\xc2\\x81\\x18\\xdcG$s\\x81\\xc6p?\\xfa\\xdf\\x9dA\\x9f\\x94\\x07\\x1c\\x81\\x9e8\\xe9\\xc7\\xe5NR\\xcev\\x1d\\xc3\\x07\\x1c\\xf08\\xad\\x0b\\x02>l\\xe3p9\\x03\\xdf\\xe9\\xf9\\xd4\\xb6\\xea\\xe7``A\\x1fs\\x81\\xfe})\\x8e\\xe7\\x00\\xb7\\'=\\x0f\\x14\\xed\\xce\\x9br\\xb9\\x04\\x8c\\xed<u?\\xe7\\xbfJ\\x04M\\x80\\xd2\\x14#o?{\\xbf#\\xebH\\xcc\\xbb\\x1b\\xee\\x021\\x81\\xd8\\xd2\\x1f\\x9d\\xcc\\xac\\xa4\\xfb\\x11\\xd7\\xe9\\xf8qH\\xe3\\xccp\\xad\\xd0\\x7f\\x168>\\x87\\xf5\\xa4\\x03W,\\x17=\\x01\\xeaz\\xf4\\xa4\\x04\\xef\\xc7<\\xf2I\\x19\\xcf\\xa59@\\x006\\t\\xc0;\\xbb\\xf4\\xa6\\xed\\x06\"N\\x00\\xfag\\x14\\xc0PJ\\x96\\xf9r\\x08?.j=\\xa1r0\\t\\xe9\\x95\\x1e\\xd5$R0\\x8c*\\x9d\\xc7<`\\xf5\\xa5\\x01\\x82\\xaf\\xcb\\x95\\x1d\\xff\\x00\\x1e\\x94\\x00\\x91I\\x82B\\x95\\xc9\\x19\\x14\\x07T]\\xdb\\x87zkFREPA\\xc8\\xc1$\\x7f/j\\x02\\x93\\x82\\xe1z\\xf4_O\\xf3\\xfd(\\x18\\xad\\x82\\xc7i$\\xe3==(8Pr\\x0e1\\xd8\\xf7\\xa6\\x01\\xf7\\x93q9\\xe9\\xc7\\xb7J\\x7f\\xcc\\xa8\\x01\\xc6\\xf2Fq\\xe9\\xfeM\\x02\\x15s\\xb3\\xbewdP\\xe4\\xec*\\xa1A\\xc6x\\xa6\\xa3\\x93\\xb5pI\\x1c\\x12zS\\x95T0.\\xbd{P\\x03|\\xcd\\xa0\\x0fNx4\\xa5\\x97h\\x00\\xf1\\xef\\xdf\\xda\\x85\\xda\\xa4\\x027\\x02}:S\\x8a\\x1d\\xc9\\x8c\\x13\\xd0{zS\\x01G\\xcc\\xb8\\xc0&\\x90.\\x00c\\x92I\\xc61\\xd2\\x8d\\x98\\x97\\x01\\xb3\\xcf\\xe1\\x8aE\\xc2;!\\xcf^\\r \\x1d&p\\x08\\xc7L\\xf4\\xa6\\xab\\x90\\x17\\'#\\x074\\x86A\\xb7,F\\xde\\x87\\x8a\\x0e\\xdd\\x98\\xc61\\xc7\\x14\\xc0\\x8eB\\xaay\\xe3\\xb85\\x031,3\\x9c\\x7fZ\\xb30P\\xa0\\x11\\x8e\\x80\\xf3\\xd6\\xaa\\x0c\\xef\\xca\\x9f\\x93\\xafJ\\x00qL\\xf7\\xe1z\\x1e\\xd5\\x1b\\x1d\\xa0\\x03\\x9ex\\xcdH\\xad\\x80wu\\'?\\x8d0\\x95%\\x8198\\xfdh\\x00V\\xea\\xbe\\xbc\\x0c\\xfa\\xd0\\xca\\x03\\x1fn\\xc2\\xa2S\\xb4\\xed\\xcb\\x01\\x9c\\xd5\\x82\\x01 \\x81\\x9c\\xf7\\xf6\\xa6\\x02\\xaa?\\x92\\x17,\\x10|\\xaf\\xbb\\xe5\\'\\xbe8\\xc7\\xad\\x0f!H\\xc9\\xdd\\x96\\\\\\x8c\\x10\\t\\xc8\\xe9\\xd0{\\xf6\\xa5\\xd8\\x1a\\xdd\\x9a6WN\\x03\\xf1\\xf5\\xce\\x07n\\xdd\\xbf\\xa1\\xa4B\\xad\\x92\\x13\\x19S\\x80\\\\\\xf6\\xe7\\xad@\\x1cV\\xb6\\x82mn\\xf1\\x14d)\\x00\\xee?0%\\x15\\xb0\\x7f>\\xfe\\x9e\\xd5\\r\\xb4\\x8d\\x1c\\xeb,\\n\\xc6U8\\'\\xdf\\x1d9\\xebZ\\xda\\xe4\\x16\\xf0j2]\\xab\\x14\\x9a\\xe4\\xab2\\x9e\\x01\\xc0\\x0b\\xf8}\\xd5\\xfdk-vA+J\\xca\\xcc\\x0f\\xcb\\'a\\x8c\\xf5#\\xaf\\x1c\\xff\\x00\\xf5\\xf1\\x8a\\xe4\\x92\\xb4\\x8e*\\x9aM\\x9d\\x15\\x86\\xb5\\xbfj\\xdd6\\xd6nAQ\\xc7\\xbf\\xb8\\xff\\x009\\xad\\xb8\\xee\\xe2\\x90*\\xac\\xaa\\xe1y\\xc2\\x9e\\xdc\\x10O\\x7f\\xce\\xb8}\\xc5\\xae\\x98(!p\\x0e1\\xce?/jp\\x91\\xc0W@\\xca\\xe7\\x1d\\xf2y==\\xabEQ\\xad\\xcb\\x8df\\xb7;\\x86b\\xcaQw\\x12=x\\xc8\\xc7\\x14\\xa5\\x88@\\xb9\\xe3\\xef{\\x1f\\xa1\\xc5qI\\xe2\\x0b\\xbb|\\xa6\\xe2\\xb2\\x01\\xce\\xee\\xf9\\xfc\\xff\\x00>\\x95n/\\x12N\\xd1*\\xb4~p\\xfe,)\\xcf\\xe9W\\xedQ\\xa2\\xaf\\x1e\\xa7X\\x8e\\xc1\\x83\\x9c\\x15\\xf5\\x07\\x8az\\xb8\\x18\\xc8,\\xad\\xd8\\x8f~?\\x1a\\xc2\\xb7\\xf1\\r\\xb1uF\\x84\\x84a\\xd5\\x1b\\xaf\\xe1Va\\xd7\\xac[(\\xd2\\xb2\\x9c\\xe4\\x86\\\\Us\\xc5\\xf5-U\\x83\\xeah+\\xb2\\xc8\\xa3\\n\\xa4\\xb1\\xf6\\xa6\\x19U\\x93\\xa1;{R\\xc7<s\\x82c\\x9dd#\\xae\\xd2?\\xa54\\x02\\xae\\x03d\\x95\\xc68\\xe9\\xf8\\xf1T]\\xee9Tl@\\x08\\x18\\xe4v\\xe3\\xeb\\xfaS\\xd9\\xc9L\\xaag\\x19\\xe4\\xf74\\x80\\xb4LB\\xe0u\\x07#\\x81NU.\\x08b6\\xb0\\xf9s\\xc7?Z`1I+\\x92If\\xc9\\xc1n\\xf4\\xe4pT6s\\x9eHe\\xe74 \"-\\x8c\\x06GN:R\\xa0\\x08\\xdb@\\x04\\xe3\\x19\\xe3\\x9f\\xa5\\x00#m.H\\xc7C\\x8c\\x0e\\xf4\\xcd\\xd8RK\\x0f\\xcb\\xa7\\xf9\\xc59\\xf2\\xa8W \\x923\\xc8\\xe7\\xbdB\\x00.\\x06IRy\\x14\\x0c\\xb3\\xb4\\xa1\\x189C\\xf9S\\x15\\xc1a\\x82s\\x9cq\\xda\\x92&\\x91\\x10\\xa9$\\x00:\\x1e\\xf4\\xe5_\\xde\\x0c)9\\x04\\xfd(\\x01\\xe4(m\\xc8O\\x19\\xfa\\xd0\\xe4\\x15\\xe0p(i1 R\\x99\\x04z\\xd3pH\\xdd\\xf3u\\xe0c\\xa8\\xa0C\\x0c\\xea\\x18+)\\xe0\\xf5\\x15\"2\\xb1\\xcez\\x9e~\\x94\\xcd\\xa0\\xa1rq\\x8fS\\xd7\\x9aU?\\xb9%\\x8f8\\xe8h\\x01\\x1c1\\x1bx\\xdb\\xf4\\xa0\\x0c\\xf1\\x90\\x00\\xedM|\\x16R\\xc5\\xb6\\xf6\\x19\\xa6\\xab|\\xc4c4\\xc0Y\\x98\\x14\\x19<\\x8f_Z\\xad\\xc0\\xc1\\xe3\\x19\\xc1\\xc5N\\xfc\\xf0OA\\xc5U*L\\x87\\x19\\x03\\xda\\x80$e\\xde\\x7f\\x954\\xa7<\\x9f|\\xd4q\\xfd\\xf3\\xf4\\xc9\\x00\\xd3\\xe2\\x90\\x1d\\xcaA\\xc8\\x1d\\xe8\\x00\\\\\\xee\\xc1\\xc7\\\\\\x8a\\x96>\\xbc-1K\\x07\\xeb\\x93\\xda\\xa5\\x0cA\\xe5\\x08\\xe3\\xbd\\x02\\x1d\\xba3\"\\x06W\\xd8z\\x05\\x1f\\x7f\\xf0\\xed\\xc6?\\x11\\xef\\xc3Y_j\\xe0\\x07<\\x8c\\x0c\\xe4(\\x1f\\xfe\\xba\\x8e4\\xf3 X\\xd7\\x0c\\x10\\xf0\\xc3\\x90:z\\xf3\\x9e\\xa7\\xd3\\x1f\\x9dHq\\n(iL\\x9f)\\x19~\\x0fNGN\\xa7\\x8f\\xd6\\xa4\\xa3\\x9d\\xf1,\\x81\\xa7\\xb7\\x81Y\\xa3\\x01yh\\xc0\\x18\\x198\\xc6:\\xf4?\\xe4\\xd6\\t,\\x19w#\\xba\\xfa\\x8e01\\x901Z\\xfa\\xdb\\x93\\xa9:,LYXaw\\x00\\x07\\xca\\x0eGN9\\xac\\xf8\\x9b,\\x17\\xcba#`\\xb1n\\xa0q\\xf8w\\xaeW\\xf1\\x1c\\x15\\x1f\\xbe\\xc5\\x8aE\\x8a]\\x92\\x02\\xab\\'1\\xedl`\\xe3\\xa1\\xef\\xf8U\\x87\\x89\\xd9\\x97\\xcbt\\x99G\\xcf\\x92\\xb8\\xc7Q\\x8fzYaY\\x1b\\x12\\x95+\\xd7#\\xb1\\xe3\\xff\\x00\\xad\\xd2\\xa9\\xa5\\xe0\\x81\\xde\\xd2L\\x0c\\x8d\\xca\\x7f\\xbc\\x08\\xf7\\x03\\xe9\\x8f\\xc6\\x99\\x04\\xf7\\x88nU\\xe4X\\xc2\\xcd\\x1a\\xfc\\xbc\\x00Xt\\xa8\\xade\\xfd\\xccec\\xc2\\x95\\xc9\\xda?\\x99\\xab\\xac\\xccp\\x8a\\xbb\\x86\\xd1\\xb4\\xb0\\xe9\\xdf\\xfc\\xfe5V)E\\xbc\\xb2\\xc7\\xe5\\x823\\xb9}\\xbd\\xbf\\x9d+\\x08\\x8e\\xe4$w\\x1edd\\x95\\x90\\xe4\\x958*\\x7f>?\\xfa\\xd4K\\x04\\x8dlf\\x0c\\xd9\\xcf\\x07\\x1dGqV\\xd5\"`d\\x9a\\x1c!\\x18\\x03\\xae?\\x0f\\xf3\\xd2\\xa2\\x925\\xf3\\x92/3#\\x96\\x1e\\x87\\x1d\\x01\\xfc\\xe9X\\x0c\\xf9n\\xa5\\x89\\x15\\xfa\\x15 \\x12\\xad\\x8a\\xb0\\x9e \\xd4#\\x81\\x98\\\\?\\x19\\x1f1\\xce1\\xf5\\xab\\x93\\xb3\\x0c\\x02\\x14(\\xe3i^\\x08?\\xfe\\xb1Y7vO\\x1cm<Q\\x9f)\\xcex\\xfe\\x0f\\xfe\\xb5N\\xc3RkcA<_yd\\xcb,\\xe7\\xcc\\x85\\x8eX\\xed\\x00\\xaeG\\x1e\\xf8\\xef\\xd7\\xbdoY\\xf8\\xba\\xceR\\xa2d{r\\xe3\\x87?0a\\xd3\\xdb\\x15\\xc0\\xf9Nb\\x91F\\xd2\\xac\\x87#\\xb0\\xf45F9\\xb7\\xda:\\xa8\\xcb \\xde\\xa7\\xd0\\x8e\\xbf\\xa6\\x7f\\xc8\\xa4\\xaaN=M#RK\\xa9\\xed0][\\xdc\\xc2&\\x82`\\xe3\\x1c\\x95ozqb\\x08\\xea\\x0fn\\xb8\\xaf\\x18\\xb6\\xd7.mfFV#\\x8d\\xc0\\x8e1\\xd6\\xba\\xb8<iq\\x12\\x10cY\\xf6\\x1c8e\\xc3.=\\xc1\\xe7\\xbf5\\xb2\\xc4\\x7f27\\x8du\\xf6\\x8e\\xec\\xe3\\x95 \\x86\\xc60\\x7f\\x9dBKq\\xc8\\xc68\"\\xb3\\xec|Ia\\xa9\\x85\\xf2\\xc1\\x8eFm\\xaa\\x18\\xf5\\xcdh7\\x12*\\xb9\\xdc\\xb8\\x07\\x83\\x8cV\\xf1\\x92\\x96\\xc6\\xb1\\x92\\x96\\xc4\\x8b&N\\x03\\xf5=z\\x8f\\xff\\x00UI\\xc9|\\x80\\xca\\x07\\x18\\xc5C\\x18\\xc3\\x9c\\x92\\x00\\xed\\xebN\\xdb\\xbb\\xe5\\x1d1\\xc78\\xc5QD\\x80\\x81\\xdf/\\xd4\\x1a\\x1f\\xdb<\\x7f\\x93K\\xb7\\x0cJ\\x12H\\xef\\xe8qQ\\xbc\\xae\\n\\xeeL\\x93\\xc0\\xeb@\\x0f.\\x0e\\xd0\\xa4\\xe0\\xf1\\xd3\\xad\\x03\\x94l\\x9e{\\x0e\\xe2\\x9a\\x01\\xdf\\x8c\\xe7\\xf1\\xfet\\x87\\xf7g8\\xc0a\\x9fj\\x04!\\n\"`p[<w\\xe7\\xfc*\\x0f02\\xe78 \\xe2\\xa5$\\xbbw-\\xd3\\x8e\\xd5\\x19\\x8c\\x19O$\\xb1\\xe0\\x83LcX\\x95\\xf9\\x88\\xc9=8\\xe9K\\x80#\\'8\\xe7\\xb8\\xa73\\x13\\xf2\\xf0\\x07\\x7fJ\\x8d~b\\xa39\\xfe\\xb4\\x01\\x0c\\xa9\\xb2@\\xe9\\x8c\\x91\\xc8\\xa9\\xe1!\\xc6}\\x07j<\\xb6S\\x93\\xc0<z\\xd3G\\xc8\\xcd\\xb4q\\xe9\\x8e\\xb4\\x08\\x15\\xb9\\xc1\\x1cT\\xad\\xf2\\x9c\\x0e\\x0f\\xf4\\xa6\\x10@\\xe0t<\\x93NBK\\x12\\xcb@\\r_;\\xcfv\\x91\\x80\\'\\x0ep\\xf8\\x1d=\\xa9\\x92\\xe6hN\\x17s(\\n@\\x18\\xf9\\xba\\x0e\\x87\\xdcS\\x88\\x0e\\x08\\n\\xb9\\x1c\\xec\\xe4\\x95\\x18\\xcf\\\\z}=\\xe8\\xe2(\\x9bg]\\xdc\\xb9^B\\x8e\\t\\xed\\x9ey\\xce?\\x98\\xa8c9\\rQ\\xc4\\xba\\x8c\\x8f\\x1fX\\x9c\\xfc\\xb8\\'8\\xed\\xf4\\xeb\\xf8\\xfe\\xad\\x8d\\x95\\xed\\xd5\\xd6 \\xdb\\xb9\\xda?\\x84\\xfd?\\xcf\\\\U{\\x99\\n\\\\\\xe0\\x91&\\xe2\\ti8\\x0b\\xd3\\xa7\\xf9\\xf5\\xa6}\\xc7\"6\\xce@\\xca\\xe7\\xa9\\xf6\\xc7^\\xfc~\\\\\\x9a\\xe4\\xbd\\xd9\\xe77wrW[\\x85\\xdc#&h\\xc7+\\x8f\\xbc9\\xe3\\x9e\\xff\\x00\\xe7\\xadE5\\xbc\\x97\\xd1\\x95G\\xc3\\xe0m<\\x86S\\x8e\\xfc\\xf4\\xcd_\\x8a\\xe2\\x19\\x03<arq\\x8c\\x03\\xc7\\xa0\\x1e\\xb8\\xcf\\xf8T\\xff\\x00bW`.\\x95\\x19\\x978\\x05~\\xees\\xeb\\xfe\\x14\\xd3$\\xcb\\xb0\\xd4<\\xb9\\x9e\\xde\\xf9\\x16\\x19\\x00\\x04g\\xa1\\xf4`}8\\xa9\\xdaGmEHS\\x85\\x1e\\xb9\\xeb\\x91\\xc7\\xb5\\\\\\xba\\xb3\\x83P\\x08\\xbeN\\xe9\\x17\\x01\\x0f~;ds\\x8eH\\xc7\\xff\\x00[\\x14D\\xd1\\xd9^}\\x92Tp\\xe0\\x03\\x93\\xc0\\'\\xd7\\x9f\\xa7\\xe9O\\xd4v/\\xb6\\xf4\\xc4\\x8e\\x8a\\xc1N\\x1b\\x03\\xa0=\\xfd\\xfb\\xd3.c\\x8e\\xe5\\x1b\\xcal\\xb8 \\x82\\x00\\xe0\\xfaQ#\\x19\\x0bJ\\xa7\\x18N\\xdc\\x81\\xfat\\xe9\\xf9TR[+2\\xb5\\xb4\\xa67<4d\\xe5[\\xd7\\x8e\\xb4\\x08X\\x99\\xa6Q\\x86\\x05\\x14rr\\x0eO\\xf95h.\\xf8C\\x05\\xecF\\xe2??\\xe9Y\\xb6\\xcb\\x14\\x8f \\x91\\xd8\\x00\\xc4\\x08\\xf8\\x03<\\xf0\\x0f\\x04\\x9e\\xb5p\\xc4P\\xb9\\x85\\xd8\\x0c\\x0f\\x90\\x9e\\xe3\\xfc\\x9f\\xfe\\xb5&#.{_\\xb1;:\\x7f\\xa8e\\xce\\x18gi\\xeb\\x8f\\xf3\\xf4\\xac\\x95\\x11\\xe9\\xcc\\x93\"\\x16\\x1f\\xc6\\xbdr\\x0fc[\\xf7\\ts=\\xb4\\xf1\\xbd\\xb6\\xdc\\xa1\\n\\xdb\\x81\\xc1\\xf5\\xcek*\\xde?:\\x05Y\\x91$\\x8c\\xae:\\xd4\\xc9\\\\\\xa4\\xcc\\xfb\\xe8-n\\xe37v\\x81b!~xTdc<\\x91\\xe9\\x8f\\xe4?<\\xb8K\\xa8/\\x0b\\x00\\x00\\xf9\\xb7\\x11\\xfaf\\xba+E\\x82\\xc6\\xf7hm\\xa0\\x00\\x06\\xf3\\xc9\\xcf\\xa7\\xf8\\xff\\x00\\x93SQ\\xb4\\xb7\\xb5\\xcd\\xc4,\\x1a\\x19>W\\\\}\\xd2s\\xfaT\\x14\\x99\\x9bm)\\x89\\x1fd\\xd3p7\\x81\\xbb\\xb8\\xff\\x00\\xebd~5\\xd5h\\xbe1\\x91-J\\xb8R\\x88\\xe0\\xe1\\x80\\xe0\\x1c\\xff\\x00R:z\\x1e+\\x9b\\x89E\\xbc\\xca\\xea\\xdf.\\xd2:q\\x83\\x9e*5\\xb7\\x95\\xe5x\"\\x8c\\x95`]H\\\\v\\x07\\xaf\\xa6F9\\xa1;;\\xa1\\xa7mQ\\xec\\x96wq^+<n\\x85z\\x95\\x1d@\\xed\\xc7\\xe3W\\xe0\\xc6\\xecg\\xdf\\xde\\xbc\\x7fK\\xd6\\xa4\\xd3nW\\xf7\\x8e\\x19[\\x0e\\xa1\\xf1\\x8cg\\x8c\\xe0\\xf0A?\\x99\\xed^\\x8b\\xa3\\xebP\\xea\\x03\\xb4r\\x8c\\x1c\\x1c\\xe1\\x81\\xf4?\\x81\\x15\\xd5N\\xb2\\x96\\x8fs\\xa6\\x9d[\\xe9#d(W\\'%J\\x9fN\\xb4\\xf8\\xd8\\xb3\\xe1\\x89)\\x8e)\\xb1\\x92>\\xe8\\xc0~Kw\"\\x9b\\x92I \\x8e\\xbc\\xe2\\xb76\\x17\\x8d\\xa0\\xb3\\x00\\xc3\\x83\\xc61C\\x00B\\xfc\\xd8\\xe9\\xdb\\xaf\\xb5H\\x02\\xb6\\xee\\x80\\x1fZ\\x8c\\xb0-\\x82\\xa4\\x8cp1\\xfa\\xd0\\x03\\\\\\xae1\\x9c\\x91\\xcf\\x03\\x9a\\x8a2Y\\x9c\\xe4\\x10:qO\\x95\\x03\\x01\\xb0\\xe0\\xe3\\x03\\xde\\xa3\\xc6\\xd1\\x82O=s@\\t\\xb7wS\\x80x\\xe9B/f\\xc7\\xb1\\xa9\\x11\\x93\\x00\\x10qNb3\\xc79\\xe9\\xceqL\\x08\\x81p\\x00\\xc0a\\xd8\\x9e\\xd4\\xd22\\x18\\xe4u\\xc8\\xa7\\x86\\xda\\xcc3\\xc1\\xe6\\x90\\x90A\\xe4(\\x02\\x81\\x08\\xed\\xf2p\\xbdi`9\\x8d\\xbd\\x8f \\xd28\\xc67\\x0c\\x0ct\\xa5L\\xa2\\x91\\x8c{\\xf5\\xa0\\x06\\xca\\xdej+\\xef\\x0c\\xa9\\x18$\\xa1\\xc1\\xfb\\xde\\xa7\\x9e3\\x8e\\xd5J\\xedd\\x87O\\x9aL\\xbb3t\\x00\\x1c\\x00\\x0fL\\x8e\\xa3\\x19\\xe7\\xf5\\xab\\xb2o\\xf2\\xc2\\xec\\xdc\\xa5F\\xed\\xc3\\xa1\\x1c\\xf5=\\t\\x00\\xf1\\xcf\\xeb\\x8a\\xads\\n\\x8b\\x19FCH\\x9dT\\xaf\\xe1\\xe9\\xc7q\\xf8\\x0e\\x95\\x9c\\xf6a/\\x85\\x9c=\\xec\\xd3\\x04X\\xa3\\x85\\x9bh\\xc1 \\xf0?\\xbb\\xc0\\xf69\\xee\\x0fZ\\xbe\\xd0Em>\\xf4\\xb7\\n\\xd8\\x05IRy#<~\\x7f\\xa5@\\xae_,\\xd0\\xaf\\x9b+\\tX\\xf2\\xd8\\xe4\\x8e\\x9fS\\x8c\\xd4H\\xb6\\xf6Sy\\xf2\\xa3\\xb2\\xab\\x80J6v\\x8c\\x93\\xfa\\xe3\\xd3\\x8a\\xe3<\\xd2I\\xad\\xd4I\\xe7E\\xfb\\x99I\\x04\\x9eB\\x11\\x9e\\xb8\\xe9\\xef\\xc7O\\xe6\\x91j\\xae\\xc5c\\x9dY\\n\\x03\\x8d\\xa7v\\x00\\xc7!\\xbb\\xe0v\\xed\\xedV`0\\xb8\\x0e\\x142}\\xf2@\\xe3=\\xbf\\x0e\\xf5#4l\\xa66M\\xa5\\xb8*I\\x04\\x83\\xceA\\xfd*\\x90\\x13D\\xe0\\xa0o6@\\xacp\\x15\\x0f\\\\\\xfa{S5K8\\xef\\x88\\xda<\\xa9\\x97\\xa3\\x90r\\x08\\xeb\\xfc\\xff\\x00\\x97\\\\V@\\xb3\\x96\\xcey\\x16\\xd2\\xe4N0X#\\x9c\\x94\\xeb\\xd0\\xf4=0?\\x99\\xa7\\xc7\\xa8\\xce\\x19\\x10Y\\xc8\\x84\\x1f\\x9b\\x18 \\xe3\\xdf\\xd2\\xab\\xd4\\x07[34\\xa2\\x16eB\\xa0\\x97^A\\xf6\\xcf\\x7fJ\\xba\\x02J\\xd8.\\xea{\\x15=*\\xa4\\xb6\\x86\\xee(\\xee\\xe0F%y\\x08\\xcb\\xc9\\x07\\xb7\\x1c\\xe4\\x8f\\xc39\\xfa\\xd4\\xc2f\\x96%1\\xc2\\xc7#i\\xca\\xf4=\\xf9\\xe0\\x8fJ]l\\x1b\\x0e\\xb6\\x81b}\\xb1G&\\xd2\\xc7\\x18N\\x08\\x07\\x04\\x12\\x07\\xae;\\xd4\\x8f(\\xb3|\\xcc\\x98S\\xd3\\xd0\\xf1\\xc6Oo\\xfe\\xbd2\\t1\"\\x96\\x85\\x8c\\xdc\\xb6\\xd5^\\x01\\'<\\xfe\\xb5$\\xd2\\xce\\xfb|\\xc6U\\xc9\\xe0\\x13\\xd3\\x1c\\xe3\\x8f\\xad&\\xc4\\xc1.\\xa0x\\x9b\\xb8 \\xf2\\x0f_\\xaf\\xf9\\xedX\\xf6\\xf0\\x14\\x84\\x95p\\xa3q \\x0f\\xafN+\\\\43\\xc9\\xcc;\\x9f\\x1c\\x94R9\\xf7\\xc7=\\xbfJ\\xa8\\xa1\\x84\\xee\\xac\\xe5\\x97y\\xdd\\xc0\\x05\\x94\\x9e\\xd9\\x1cu\\xfd(\\xdce9\\xad\\x98\\xbf\\x9d\\x11\\x0f\\x1a\\xe0\\xbeI\\xdd\\x19\\xe9\\x9c\\x8c\\x1fO\\xc6\\x98B\\xc9\\x1b\\xc1*)\\x85\\x97\\x05\\x97\\xaf\\xa7\\xbf\\xcc85z\\xe2$\\x06=\\xa0\\x95\\xdd\\xcc|\\x03\\xd3\\xd3\\xaf$\\xf6\\xa8\\x1a\\x0bE>lR\\xcb\\x03\\x05\\xc0\\x03$\\x1e\\xc79\\x1f\\xe7\\xb5H\\x18K\\x99wD\\xe4\\xa4\\xdb\\xb2^C\\x93\\xbb\\x9c\\xfe\\xb5\\x0c\\xe1\\xa0\\xb9\\x11,\\xdf2\\x002\\x07\\x1c\\xf3\\xd7\\xf1\\xab\\xb3\\xc4c\\xbd;\\x9d\\x1a9\\x00}\\xe38\\'\\x1c\\xfeg\\xf9\\xd2\\x98|\\xc5o2\\x162\\x10y\\x07\\x1d\\xb8\\x03\\x1e\\xf5\\x0fB\\xaeE\\x7f\\xbe\\xee\\xcdo$L4j\\x14\\x93\\xd4\\xf3\\x8eO\\xf9\\xc56\\xcbU\\x9a\\xc9\\\\\\xb7;z:\\xf5\\\\\\x91\\x83\\xfe}}pB\\xc7\\x1b<o\\x08g\\xcb\\xe5[\\xcc\\xcfq\\x81\\xd3\\xff\\x00\\xad\\xfaURA\\xb4\\x02@%.\\xa1W\\'\\x04`\\x8e\\x07\\xe5\\xfa\\x8a\\x10\\xcfT\\xf0\\xff\\x00\\x88 \\xd4\\xe1D\\xf3\\x01\\x9b\\xb8\\xcf\\'\\x9e\\x0f\\xeb[i\\xe6\\x17RT)<\\x9a\\xf0\\xe8\\xaf~\\xc6\\xe2[o\\xddK\\x13r\\xaa\\xc4\\x82>\\xbf\\x8e=\\xf2k\\xd5|3\\xad.\\xafd\\xa4\\x95\\x92\\xe1G\\xcepq\\xf5\\xfe\\x95\\xd5J\\xad\\xf4gM*\\x9fe\\x9b\\xe5\\x8e\\xc2B\\xf3\\xd7 p1\\xfeE5Q@,\\xc7\\'\\x07\\'<qNb\\x16\\\\\\x8cm\\xe9H\\xee\\xac\\x06\\x17h\\xe02\\xfa\\x1a\\xe87\\x1b\\xb1\\xdc\\x15\\nA\\xe7\\x15\\x1b(E\\x199\\xc1\\xeaG\\x04T\\xcf\\xbe)7G\\xb7h5\\x03.da\\x8c6z\\xe7\\xad\\x00#\\x0cHFF1\\xc1\\x1d\\xe88 \\x068\\xe3=hnO#\\xe6\\xc7\\x14*\\x06\\xc1$\\x96\\xef\\x8fJ` \\x07v\\xe2\\xfc\\x0e\\xc2\\x9cJ\\x91\\x8e\\xa2\\x87\\xe7\\xe7\\\\c\\xa1&\\xa3e\\x0c\\x85A\\xc3{P\"BI!\\xfa\\x808\\xa5`v\\x82\\x0f=1\\x8e\\xd5\\x1a\\x00\\xb8$\\x93\\xeeM=9\\x03\\x0cH\\x1dx\\xed@\\x10\\xac\\x8f\\x18F\\x9e\\x06A\\xb9\\x84k\\x93\\x8e\\x80\\x11\\x93\\x9f\\xf3\\xc1\\xaa\\xda\\x91v\\xb2\\xb8\\x84\\xb1\\x90\\xb4,\\xc4\\x83\\x9c\\x0f\\xd7\\xdb\\xf9\\xf7\\xab/\\x1f\\x99\\x0b\\xc8\\xee\\xd9\\xc0P\"\\x1c)=9<\\xf3\\x9c\\x9c\\xfbw\\xc9\\xa8n\\x04^D\\xa1I\\xc9\\xca\\x82H\\xc7N\\xbc`v\\x1d\\x7f\\xadg-\\x86\\xf68\\x88\\xc9\\x96\\xf5\\xc3\\xb1\\xf2NI\\x03\\xa9\\xf6\\xc7s\\xd3\\x9f\\xe5\\xd2\\xa66\\xd1,\\xc4\\xa5\\xc5\\xce\\xc1\\xcf\\xce\\x14m\\x1f\\x87\\xa8\\xff\\x00<\\xd5\\x1b\\xb7/t\\xcb\\x0cgp\\xc2\\x87L\\x80y\\xeb\\x9e\\xbe\\x9dj\\xdd\\xb1*v\\xa4\\x8f\\xe6\\x906\\xc9\\xbb\\xa9\\xc8\\x19\\xc1\\xee\\x08\\xf5\\xcdq&y\\xa4\\xd3\\xd8}\\x96)\\x04r\\x92\\x15\\x8e\\xeb~\\x0e\\x08\\xe4\\xe3\\x1d8\\xcf\\xe5\\xedVa\\x9e\\xca\\xe6\\x11r\\x91\\xc6@nx\\xcf\\x1d1\\x9f\\xa9\\xa8\\xbc\\xaf;&Y\\xa3a\\xb7pS\\xc1 s\\xd4\\xf0:c\\xf2\\xaa\\x97V\\xc1$7\\xb6\\xa3td\\xee\\x964l\\x93\\xee\\x07s\\xdf\\xafl\\xf5\\xaa\\xd4F\\xc2F\\x83!m\\xd6?\\x9c\\xb1#\\xae?A\\xd8\\xf6\\xa9S\\xcb\\xf2\\xd1v\\xa0\\xe7\\xa6\\xee8\\xf5\\xee:\\xd6]\\xbd\\xcc\\x92\\x88\\xfc\\xa6A\\x14\\x8aX\\xe7\\x96\\xc1\\xe7\\xd7\\xe9\\xf9{U\\xd7\\x88\\xb4\\x8b\\x1cy\\x0c\\xd9%W\\x90s\\xd4\\xe3\\xb7O\\xd2\\x84\\x04\\xf1,\\x8a\\xfbwg\\xb6\\x18\\x11\\x83\\xd3\\xa1\\xe7\\xff\\x00\\xd4*;\\xb8\\x10\\xae\\xe8\\xdc\\xa0\\xc7\\xdc\\xcf\\x0b\\xd3\\xae\\x07O\\xc2\\x91l\\xa7YD+6\\x19\\x86\\xee\\x9c\\x8f\\xc3\\xfc\\xf5\\xa7\\xf9D30\\xb8f\\x07\\xa1*~\\x84\\xf1\\xce?\\x9d0EX\\x89\\x98\\xacq0\\x0f\\xf7F8\\x1f\\xe1\\xe9\\xedB\\xdb(\\x95\\xc5\\xc3\\xa6\\xecz\\xf7\\xf7=GZ\\x80J\\x16\\xe1\\xfc\\x90\\xcd\\x801\\xb5\\x87\\x079\\xed\\xe83\\xcfn\\x7f\\x02\\xdeV\\x9d\\xd9\\xcc\\xbek\\xe7\\x08\\xa1\\xb7\\x05\\xeb\\x8e\\x99\\xc7\\xbf\\xe1\\xda\\x8d\\xc1\\x84\\xa8\\xf12\\xba\\xab\\x90\\xfc\\x0f\\x94\\x8c\\x8fSU\\xf7\\xc9\\x1d\\xd2\\xcd\\x18\\'r\\x02\\x8c\\x0epr?*\\xd1k\\x8b\\x99$X\\xcccp\\x04\\xe0\\x9c\\x9e\\x99\\xfe\\x9f\\xadQ\\x9e\\xe6b\\xe8\\xb3.cnpFT\\x9f\\xa7\\xad\\x02#\\x8eeV\\xf3\\x19\\x11\\xb2\\xd9\\xdb\\xcf\\x1d?N\\xd9\\xa5H\\xedw\\xc9\\'\\x93\\xba@\\xb8\\x0b\\x82\\xe0\\xf7\\x1ct\\x1c~\\xa2\\xa4\\xb6\\x11$\\x824\\x860\\xa4d\\x80:s\\xd0\\x0cd\\xd4Y\\xfb4\\xe6\\x1f-\\x8f$\\xaa\\x9c\\xf2\\xbe\\x99\\xef\\xf8z\\x1a\\x962\\xb6\\xa1l\\xf2\\xd8H\\xebn\\xa8cp\\xe7j\\x01\\x85\\xce\\x0eGP=~\\x95Q\"\\xcc`\\x02\\x80g\\x1f\\xbb9\\'\\xfc\\xff\\x00\\x9fZ\\xd8P\\xd7\\x16\\xd3\\x07R\\x15\\x95\\x93\\x04\\xf0r=y\\xc7s\\xfeqY\\xd6\\xad\\x1a\\xd8\\x078\\xc7\\x00\\xee\\xc6s\\xdb\\x1c\\xf3\\xef\\xf8\\xf5\\xa4\\xd0\\x15\\xc6\\xe8\\xdaH\\xa1\\x8cH\\x83\\x07v:\\x003\\xd7\\xd3\\x07\\xe9\\xc5A\\x7f`\\xf1\\xdb\\xa5\\xc4i\\xba\\x17$0\\x0b\\xccg\\xb0>\\xdd9\\xef\\xf8\\xf3<\\xc2\\xe9\\xa5\\x13\\xec\\x17\\x11\\x82O\\x96\\x8d\\x86\\x18\\xecG\\x19\\xfc3\\xd2\\xaf\\xd9\\xdc\\x19|\\xd8\\xa4h\\xd1Yv4L\\xbb\\x89\\xea:\\x13\\x9e\\x06A\\xc0\\xc0\\xeb\\x82q\\x99\\xd0\\xa3\\x94\\x95_d\\x8d\\x1f\\xca\\xccH\\xf9I\\xce;\\xf7\\xe9\\x83\\xfey\\xab~\\x1c\\xd5\\xae\\xb4}F)\\x04\\x8c\\x85\\x1b>[\\x03\\x82\\xa7\\x19\\xfaq\\xce}\\xaak\\xfb?\\xb2<\\x91\\xa4\\x8a\\xd1\\x9f\\xf5l\\xc4r1\\xceFz\\xf3\\xde\\xb0\\xe5O,6\\xe1\\xf3\\x83\\xc7\\xa6=\\xc1\\x1c\\xf6\\xab\\x8fb\\xe2\\xcf|\\xd3\\xefa\\xd4l\\xe2\\xba\\x84\\x83\\x0c\\xbf7\\xa9R:\\x83\\xef\\xd6\\xa6\\x94`p0\\xc4\\xf5\\x03\\x1c\\xd7\\x96x#_[[\\xb1kpH\\x8aB\\x01e\\xc0\\xda0\\x00o\\xe7\\x9f\\xf1\\xafP`\\xd1\\x96NK\\xaf\\x0c;\\xe6\\xba\\xe9\\xcf\\x99k\\xb9\\xd5N|\\xcb\\xcc\\x0fQ\\x90\\x07\\x00\\xf1\\xda\\xa3P\\xc5\\t\\x1bw6\\tRz\\x1av\\xe2S\\xe6o\\x94\\xe4\\x13\\xe9Q\\x17\\xc1\\n\\x1b\\xa8\\xec;V\\x86\\x84\\x84\\x8d\\xfb\\x8fn\\xb4\\x8a\\x0e\\xe6\\xdaz\\x1e)$P\\xdc\\x9c\\x9c\\xf4\\xc7sR *\\x0e\\x14\\x81\\xd7\\x9e\\xd4\\xc0s\\xe7\\xa9P3\\xd8\\x1cS<\\xb2\\x18\\x8e\\x9e\\xde\\x82\\xa4,Y\\xb3\\xd7\\x14\\x84\\x80Kl#\\xb6i\\x08\\x8caC.\\xec`\\x8c\\x8fZTF\\r\\xcf\\x1d\\xe9a\\x1c\\xf2r\\x059\\xc19\\x18\\xe9\\xd0\\xf6\\xa62\\xb2\\xb2\\x96tR\\n\\xe4\\x80r>Q\\x83\\x92\\x062y\\xce9\\xe3\\x1f\\x94n\\xa7\\x95\\x901\\x1c\\xa9\\\\rA\\xceOLc\\x90=\\x7f\\xa2\\xc8!\\x8d\\xc3*\\xb3\\x13\\xc3\\x00@\\xc1\\x19<\\x7f\\xf5\\xcf\\xf5\\xa8\\xd9\\x9d\\xa7\\x8eY.e\\xdcF\\xc0\\x14c*G\\xf4\\x1d>\\x80w\\xa8`r\\x129{\\x91\\xff\\x00,\\xdd\\xdbc\\x01\\xf2/\\'\\xa6\\xd1\\x80\\x07N:q\\xd2\\x97\\xec\\xa0\\xae\\xe8\\x9d\\x04\\x99\\xe1\\x93\\x80\\xc3\\x8e\\xbf\\x81\\xef\\xc7Z\\x89`6;m\\xd0\\xcc|\\x8f\\xdd\\x97|\\xabnB~l\\x03\\xc08b9 \\x8a\\x9e\\x1b(\\xe5X\\xd4\\x97\\x120\\xc0Fr0q\\xc7 \\xf7\\x0b\\xf8\\xfe\\x15\\xc5k;\\x1el\\x95\\x99\\x19\\x86{\\xb9T\\xc9$[7\\x14\\x0e1\\xf3u\\xc7_oj}\\xad\\x9cv\\xf7\\x88\\xae\\xf3H\\x0f 3\\xf1\\xdb\\x03h\\xc7\\x1c\\xe7\\xf0\\xa6\\xdb\\xdc\\xc9$\\x86\\x00\\x90\\xe7\\x83\\xbbw$\\x1e\\x80zv\\x1c\\x0e\\xd5a\\xe3\\x1bCF\\x8cb\\xdeP\\xb8N\\x1c\\xf1\\x91\\x92y\\'#\\xf3\\x1e\\xb4]\\x88\\xa9\\x7f\\xa7\\x8b\\xf9\\xfc\\xc8$h[\\x1b\\xb7\\x8erx\\xea;\\xff\\x00\\xf5\\xfb\\xd1\\x10\\xbe\\xb0Fy\\xfc\\xcb\\x80\\x11\\x87\\x99\\t\\xe9\\xe8H\\xc7q\\x9f\\\\U\\xc2\\xae\\xf2lV\\xc0\\'\\r\\x8eG\\xeb\\xff\\x00\\xd7\\x03\\xd2\\x9e\\xaa\\xd6\\xc3dq\\xb8X\\xc6\\xd2w}\\xfc\\xf5\\xc8\\xeb\\x9f\\xf0\\xf5\\xa7t\\x05T\\xd4\\xd4\\x90\\xe7\\nH\\xe4\\x1ew\\x10OL\\x8c\\x83\\xf2\\xf4\\xe4U\\x99o\\xe1\\x98\\x07i\\x925?x\\xae\\x06\\xfc\\xf4\\x18\\xf4\\xe3\\xafn)\\x1a\\xc2)\\xa1\\x02\\xea?1\\xc6\\t_\\xbc\\xab\\x95\\xc8\\x1f\\x9e{\\xf5$`Vi\\xd3\\xecL\\xcd\\n$\\xe4\\xbf;C\\x10;s\\x92\\x0e\\x0f\\x1e\\x87\\xa0\\xe3\\x14\\xd6\\x80\\\\\\xba6v\\xa9:\\xfc\\x88\\xc7\\xe5,\\xc3\\xe7<\\x83\\xeb\\x92s\\xfdj\\xacS\\x98\\xae\\xd2\\xe0\\x12c\\x93o\\x9d\\x95\\x00/\\x01Cp;\\x9e\\xa7\\xd7\\x93\\xc98\\xb5m\\xa5\\xc7\\x92\\xc6B\\xee8\\x1b\\x8e\\xe2{\\x1fl\\xe0\\xfa\\x1c\\x7f-\\x01f\\x91Fe]\\xe0\\xa8)\\x8c\\xe0*\\xff\\x00\\x9e?\\n\\x1ft\\x08d\\xa1N\\xe9\\x04\\x8b$\\xb2\\x02\\xe0G\\xdf\\xdb\\xfc\\xf3\\xd2\\xb2\\xa5F\\x9aC\\xbd\\x9c0\\xc8\\xda\\x7f\\xfd|U\\xdb;X!\\x91R\\'>Y\\xfb\\xab\\xc9\\x19\\xeb\\xe9\\xf4\\xe3\\xa7\\x7fjkFZ7\\xf3\\xd5\\xd8g\\x0c\\xdd\\xf3\\x81\\xc6\\xe1\\xf9\\xe3\\xad\\t\\xdc,T\\x8a]\\x81|\\x92\\x11\\x94\\x1d\\xeaFI\\xe3\\xef\\x0e=1\\xf9\\x1a\\x98]y\\xd1\\xacy\\x0f\\x1b\\x9c\\xbeq\\x80z\\xf5\\xed\\xdb\\xf3\\xfcj\\xbc\\x8c\\xd1\\xb6\\x14\\x80\\x84`\\x109\\xc7\\xf9\\x15\\x14\\x8c\\xea\\xec\\xe0*\\xc4\\xdbK?\\xf7O\\x00\\xe7\\xd3\\xa8\\xfc\\xfb\\xf1R#J\\x1bKv\\x1f-\\xc3F\\x00\\xdb\\xb4\\x1d\\xca>\\xa0\\xf3\\x9e\\x9d\\xeb\\x1e;x\\x92\\xf8\\xc0\\x80\\x94@B\\x83\\x93\\xbb=8\\xf5\\xc1\\x03\\xebW-.\\xed\\x84\\xbb\\x99#\\xdc\\x08\\x1f\\xbd~\\x019\\xee:c\\xfc\\xf5\\xcdU`#\\xd5\\xdc\\xcbl\\x1fs+\\x8d\\xdd\\xc6\\xde0G8\\xc9<{\\x0fJoa\\x92\\x14\\xc4hc\\x88\\xe4\\x1c\\x9cp\\x14t\\xe7\\xf2\\xa8d\\xb0\\xf3n\\xe40\\x941\\xe0\\x1c\\x86\\xce\\xdc\\x83\\xc0\\x18\\xeb\\xd7\\xf2\\xfcj\\xdc\\x99\\x8dUY\\x82\\x81\\x92\\xa5\\x863\\xcf\\xbe}\\xfd:TQ\\xa2\\xddH\\xd3\\xc7q$N\\xe3\\x05\\x00\\x01I\\x0b\\xf2\\x9e\\xbd8>\\xa7\\xadf\\xd6\\xa3+\\xeave\\xf4\\xf0\\xd2\\xb3\\xca\\xe8wD\\xca\\x87\\x98\\xc9 \\xf79\\xe7\\x07\\xf05\\x83rZ\\xe6\\xcb\\xcbY\\xb2\\xa8K\\xf9d\\x9c\\xe5\\x82\\xe4\\xe3\\xdf\\x03\\xf2\\xae\\xbe\\x1bW\\x967\\x80\\x92<\\xe41;\\xa4\\x98\\xc0\\x07\\'9\\xe9\\xdf\\x9c\\x9fz\\xe4\\xe3/$i\\xb1YH,xl\\x16\\xc8\\xe9\\x92}\\xba\\xfb\\xd3\\xf3)32\\xdag\\xb5h\\xe6M\\x9b\\xb20\\x18g<\\xff\\x00\\xf5\\xab\\xd7\\xfc/\\xab\\xff\\x00jh\\xea\\x84\\xfe\\xf6\\x14\\x01\\xb9\\xea\\xbc\\x80x\\x1e\\xd8\\xe6\\xbcy\\xe2\\x116X\\x90rI\\x1dq\\xe8?\\xcf\\xbf\\x15\\xd1xW_};[\\x8c\\xdd6\\xe8\\xd9V\\x19s\\xc9(\\x00\\x00\\x0fp\\x00\\x03\\xe9Z)r\\xb5#X\\xcb\\x95\\xdc\\xf5\\xb5,\\xce\\xca\\xb8\\x0b\\xd0\\xf3\\xcd#\\x02\\xdb\\xd4\\xa78\\xf9s\\xd4RM\\xc7\\xfa\\x92\\xa4c\\x86A\\xc1\\xef\\x9a>U\\x00\\x86$\\x11\\xc9\\xc5v\\xdc\\xeb\\x14\\x12\\xd1\\xaa\\x0c\\x029\\x1e\\xff\\x00QHK1\\xe3 w\\x18\\xe7\\xde\\xa4O\\x98\\x8e\\xf8\\x18\\xe0t\\xa6\\x87\\xe0\\xae>j\\x00\\x95y\\x8fc\\x1c\\x1cd\\x13M|\\xe0`\\x9d\\xc4\\xf1\\x81\\x8c\\xd0FFI\\xc0\\x1cq\\xd4\\x1fZ]\\xe4\\x91\\xf2\\x82\\xb9\\xe7\\x9e\\xd4\\x00#e\\x8es\\xd7=:\\xd4\\x80\\x85c\\x8f\\xcc\\xf6\\xa6m\\xdc\\xe5\\x86\\t\\x1d\\x07\\xb5=\\xc0d\\x05{\\x0e01@\\x19ol$eEc\\xc1\\xdcy\\x1c\\x9e{n\\xe4`\\x8fN\\xe3\\x9a\\x968\\x87\\x97\\x95<)\\xf9w\\xcaF\\xe28\\x19\\xc7\\xd0\\x8c\\x0f_\\xc6\\x98\\xc7tl\\xa5r~\\xfb\\x12\\xa3\\x03\\xa0\\xdd\\xcfNq\\xf9\\xd2\\xc8\\x0c-\\x1f\\x9e%\\xdc#\\x04\\x16<\\x95?w\\x07\\xb8 \\x0f\\xc6\\x90\\xceOSD\\x1a\\xa5\\xc6b\\x91\\x9d\\x91%R$b\\x08l\\x8cd\\xf5\\xfb\\xacx\\xe3\\xf1\\xcdW\\x11,\\xd2\\xa3\\xb2`?WY\\x18\\x0c\\x1fL\\x1e\\x07N\\xa2\\xb6u{?:\\xe6\\x19c\\x12D\\x04e\\x1c\\x81\\x9d\\xe4\\xf2\\xa4\\x9c\\x81\\xc0\\r\\xed\\xf3c\\xd6\\xb1d\\xf3!\\xb9q\\xf24=\\xc8a\\xd4\\xf3\\x9e\\xf9\\x07\\xd7\\xf9W\\x1dEi\\x1c5\\xd5\\xa6\\xc9LQ\\xb4Q\\xc3\\x1a\\x80\\xc83\\xbdW\\xa7\\x03\\x07\\x9e\\xdc\\x0c\\xf7\\xc0\\xfa\\x1a\\xad\\x05\\xdaCs\\xe4M\\x13\\x1b\\xa5o\\xdeJ\\xc9\\x80F\\t\\x18>\\x9cg\\xf3\\xfc\\x16[\\xb7\\x82\"M\\xbb\\x18\\xd8\\x05\\x0c\\x10\\x93\\xd3\\x93\\x9es\\xdf\\xd3\\xbdAun/\\xd1a0\\xc9\\x1c\\xa1\\x86%+\\xc0\\xc8\\x1d\\xfb\\xfe<\\x1aKS#Z{TVo.EV\\x04F\\xdbW\\x19\\x07\\x00`\\xf6\\xfc\\x8e\\x7f\"\\x1a\\xb2\\xa0&96\\xa9%\\x8f\\xcf\\x9c\\x8c\\x8e\\x0f\\x1cg\\'\\x81\\xdf\\xda\\xb0\\xedonm\\x88\\x82\\xe9\\x19]~RJ\\xe7\\x19\\x01\\xb21\\x9eH\\xe7\\x19\\xec=+r\\x07\\x8e\\xf2%\\x89\\xc4.\\x1d\\xc3n\\x99\\x891\\x1e\\x07\\r\\xc8Pzd\\xf1\\xeb\\xd2\\x93\\x02\\xdb2\\xce\\xf1\\x16M\\x89\\xc08\\xf9~R;z\\x93\\xc1\\xcf=i\\xf1\\xb41\\xa8`\\x81v\\x9f\\xde\\xac\\x87\\x05\\x88\\xe4\\x8e\\xb9<`~U\\x9f\\xf6kWB\\xf6\\xea\\x143+:\\x97\\xc08\\x04\\x02\\t=\\x0e}\\xfd\\xfaS\\xe6\\xd3\\x96M\\xa5K\\xa3\\xe3\\x04G2\\x81\\xc1\\xc7$};u\\x199\\xa0E\\x88\\xaew\\xb2\\x07*\\xa5\\xb3\\x9cr\\xc4\\xfb\\x11\\xf4\\xeb\\xd7>\\xf5$\\xd7\\x96\\xf6\\xc1D\\xaf\\x1f-\\xb4\\xe0`\\xfb\\xf1\\x8fo\\xf3\\xc5P[k{(%Q1\\x96f\\xc8\\x12\\x07;\\x94\\xfa\\x8e:v\\xc1\\x1d\\xf3S%\\x95\\xba\\xe1\\x9e09\\xdcZB\\x19\\xb6\\xe4\\xf1\\xcfN9\\xcf\\xe1\\xde\\xaa\\xe0F.\\xc5\\xd5\\xf4q\\xdbD\\x04c\\x0e\\xce\\x0f\\xc9\\x81\\xd7\\x9f\\xc3\\xb5[\\xb8\\xbb`\\x01\\x00\\x88\\xc0$)\\x1f1\\xeep}s\\x8f\\xaf\\xd7\\x82\\xed\\xe9\\x14\\xd2\\xbam\\x93a*\\x15FG\\x19\\xcb\\x0e\\xd8\\xe0UM\\xfb\\xc2\\xf9\\xaeF\\x0e\\x02\\x81\\x81\\xf8\\x9f^\\x86\\xa2J\\xfa\\xa1\\xa6S\\xb9\\xd9\\xb1\\xd9>m\\xc3pe\\xfe\\x1e\\xbd\\x07\\xd4v\\xf4>\\xb5\\x047\\x0fo\\x10T\\x05rH=\\xf84\\xb7\\xb1\\xc8\\xa0\\xdc[\\x90\\xf1\\x00\\xcc\\xe19\\xc6\\x07-\\xf8g\\x91\\xef\\x9f\\\\T\\x17\\t,Lb%\\x99@c\\xc9\\xe7\\xb7C\\xf8\\xfe~\\xf4\\xd3\\xb8\\xack\\xa2\\xda\\xdd\\xe4O\\x18,\\xc01\\x923\\x9e\\x07l\\x8c\\x11\\xe9\\x8f\\xadQ\\xd4\\xad\\xee\\x97R\\x89!\\xc0]\\x9bG\\x98\\xf9\\xc1\\xcf^>\\xbd}\\xaa(\\x14\\xc4C\\xdb\\x03\\xe62\\x96h\\xe3\\xe0\\x0ezs\\xc6s\\xf8TW7M\\x15\\xd4r>Vu^\\x06\\xfc\\x96\\'\\x00\\x0c\\xfe\\x14=\\x80\\xd1\\x8a7FC;F\\xeeU\\x88\\xda\\xdb\\xbfL\\xf1\\xd4u\\xf5\\xaa\\xefh7\\xbd\\xd6\\x9f)\\x08\\xc1Y\\xe2\\r\\xc2\\xe7$m\\xe7\\xaf\\\\\\x0e\\xbdEI\\x13O\\xb4H6\\xc4\\xc88\\x03\\x86>\\xfd\\x80?_\\xa5W\\xf9\\xa3\\x9eKu\\x8d\\x12P\\xe2G\\x04\\xe4\\xb0\\xf4\\x1d\\xbb\\x9a\\x86\\x81\\x13Y\\\\K#\\xa1\\xf9\\x11\\xc1$\\x9d\\xa4p\\x088\\xfc=q\\xebXW\\x90\\\\\\xc5},\\x93\\x1d\\x92\\x197\\xec\\'\\xa8c\\x91\\xdb\\xae\\rt\\xd2\\xdb\\xa6\\xa5w\\x1c\\xa5v\\\\d0\\x9b\\xcb\\xfb\\xc0c9\\x04d\\xf4\\xeb\\xd8\\x0e\\xf5\\x8fx\\xd1\\x7fhI\\x1d\\xc1\\x8c\\x11\\x80N\\xd2B\\x90\\x07\\xa8\\xcfc\\xf9\\xfdhn\\xc8\\xa4a\\\\\\xda\\xc1\\xbbr\\xbb\\x05e\\'\\x0f\\xce\\xd2\\x0fO~\\xdf\\x9f\\xe3U\\x9a\\x16\\xb6\\x99\\x04\\xca\\xc8\\xe0\\xe5\\x81^q\\xd4\\x108\\xed\\xefZr\\xdb,\\xa8d}\\x91\\xae6\\xb2\\xb6I\\xc7r\\xa3\\xf2\\x1f\\x88\\xf7\\xc5[\\xdb\\x16\\x87knF\\x8ce\\x03\\xa0\\x00\\x129\\xec}\\xfa\\xd5E\\xdfr\\xd3=7\\xc2:\\xb4z\\xb6\\x9b\\xe5F\\x19^\\xd9q\\x87`X\\xa7l\\xfa\\xe38\\xcf\\x1cc\\x81[\\xe22\\x88\\xdb\\x14\\xf7\\nG\\xa7\\xe7^K\\xe1=T\\xe9\\xba\\xd5\\xb9\\x121\\x8e\\\\\\tP\\x1d\\xa0\\x8d\\xdc\\x83\\xeb\\xc0\\xff\\x008\\xaf`8S\\xd5\\xb1\\xd4`\\xf5\\xeb\\xe9\\xf8WM\\x19i\\xcb\\xd8\\xea\\xa5+\\xab\\x10\\x85\\xdaA\\xc9,\\x0f zS\\xc3s\\xb8\\x1f\\x94{t\\xa9\\x8a\\x93\\x83\\x1a\\xe1\\x89\\x1f\\xfe\\xbaf_8\\\\m#\\'\\x8e\\xfe\\xbf\\xa5nj\\x0b\\x82\\x15T\\x92\\x0f\\x7f\\xc7\\xf4\\xa9\\xe5E\\xdd\\x9e\\xbd\\xb0*\\x11\\x12\\x89\\x8b\\xf5\\xdb\\xfcY\\xa9Q\\x06\\xe6m\\xf8\\x07\\x8d\\xd9\\xcf\\x14\\x08FC\\x91\\x83\\x83\\xd3>\\xb4\\xe4\\xc9\\xef\\xcf\\xde\\xe9\\xda\\x9c\\x8a\\xd9fo\\x98(\\xe3\\x8aA\\x88\\xc7\\x01\\x8e=9\\xc0\\xa6#)\\x88\\x88\\x0c!V\\x87\\x18#\\xefd\\x129\\x07\\xd0g\\xaf<b\\x9d0E\\xd8`\\x12G\"\\x1f\\x93\\x1c\\x82\\xa4\\x13\\x90:\\x8e\\xa4\\x8eNs\\xecj=\\xf2\\xed1\\xb9h\\xd9NY\\xb7\\x01\\xb8\\xe0\\x0eTs\\xed\\x9f\\\\s\\xc5J\\x06\\xf8LJ\\xce\\xea\\x80\\xb0e$c\\xf0\\x03\\xd7\\xbe9\\xe2\\xa4\\xa37T)\\x1e\\x9c\\xcbp\\x81\\xc4R\\xa8\\xf9\\x18\\x02\\xae\\xcc#\\x18\\'\\xa0\\xf9\\xb1\\xd0\\xf0O\\xbds\\x8c\\xc9\\x1b\\x06I\\x1dy;\\x8b\\r\\x85O\\x1dp:\\x8e8\\xeb\\x93]6\\xa1c\\x05\\xd6\\x99%\\x8b\\x02\\x15\\xad\\xc8\\x12\\x05\\x03\\xcbo\\xbc\\xac\\x08\\xeb\\xb7\\xaf_\\xf1\\xae2\\xd6I.mC\\x14Qp\\x14G*\\x85\\n\\xc2Q\\xf2\\xb0a\\xd8\\xe4g\\x1e\\x87\\xb5s\\xd6\\x8fS\\x97\\x11\\x1d\\x99}\\x11\\xa3;V|m\\x04z\\x83\\xc7a\\x9f\\xaf\\xf9\\xc9\\xa7*\\x19\\'He\\x9f\\xcci\\x86\\xd5)\\x10A\\x92q\\xc3d\\x9cc\\x1d1\\xd4\\xf1\\xc5D\\xd7\\x85P\"\\xc2\\xcc\\x1d\\xb7\\x12W\\x86\\xef\\xf3\\x11\\xf9\\xf5\\xab^hy\\x94C\\xc3\\r\\x81P\\x8e\\x19\\xb0>\\xe8\\xcf^O_\\xfe\\xb5`\\xb49F\\xf9\\xc6\\t\\x11-\\xd4\\xed^\\xe9\\xc8\\xdarO\\x07\\xaf9\\x07>\\xb5\\x96\\xd1Im\\xe6\\xcb\\x04\\x9b\\x91[\\xcd(q\\x8cd\\xe4g?\\xa7\\xa7J\\xd6;\\x1av\\x1f\\xb8\\x8c\\x0eARz\\xe7\\x8c\\xb7L`\\x9e\\xc3\\x9e\\xb8\\xa6<\\x8d\\xbc\\x16\\xfd\\xe1H\\x87C\\xc3\\x0e0\\x7fB\\x0fz\\x10\\x19\\xb1\\xeb\\x11\\xcf\\x1c\\x8a\\xe9\\xfb\\xd5;\\x1a\"\\x81IQ\\xef\\x9c\\x83\\xc9\\'\\x03\\xbd]\\x82\\xe7\\xcf\\x85\\x17\\x0e\\xc0\\x10<\\xcd\\xd9;{\\x03\\xfa\\x9e;\\x0cp1L\\xba\\xb5BU\\xa7\\x8fy(<\\xb6\\xfb\\x84\\x03\\x9c\\x00y\\xe3\\x9c\\xfb\\xf5\\x04\\x13Y\\xcf\\r\\xecs4P\\xc9\\xf6\\xe5(I+\\xcc\\x9fN\\xb9$dq\\xc9\\xe3\\x18\\xc5;\\x0c\\xdc\\xf2\\xe3\\x92$\\x8a6;\\xf8e\\xcbn\\x19\\xcfC\\x8e\\xdc\\xfag\\xda\\x84{\\x8c\\x88\\xfc\\xad\\xac\\x0b|\\xce\\xdbGN8#8 \\xf0z\\x1c\\xfexK\\xa9\\'\\x98\\xab2=\\xbb\\x02F[p\\xc9\\xc69\\x07\\x8c\\xe4\\x7f:\\x98^\\xb3\\xc8\\xb76\\xf2\\xa2\\xf2|\\xc4\\xc3\\x0e\\x839\\xef\\xb8`\\x0e\\xfe\\x94\\x84l9\\xbdx\\xb6\\xc1\\xe4\\x04\\xeey\\x03\\'\\xdc\\x8eG\\xe5\\xd0Uu\\xb2\\xb8\\xbb\\x0c\\xc5\\x8ck\\x93\\xf2\\x86\\xc9\\xc08\\xe4\\xfa\\x7f\\x8d$\\x97\\x9b\\xd1\\x92\\x19U\\xb7\\x8c\\xb6\\x08\\x1bIn\\xbcz\\xd3\\xe3\\xbbHg\\x11y\\x91\\x95\\x94gp\\xe4\\xa1\\xf4>\\x99\\xcf\\xff\\x00Z\\x84\\xc4<G\\x05\\xa3\\xb2\\xc6\\xa7{r\\x9bNX\\x0f\\xaf^+;P\\xd2\\xe4\\x00^\\xe9\\xd8W\\n\\x03\\xc2\\xa7\\xef\\xe0d\\x95\\xe7\\xaf\\x07\\x81\\xc6?!\\xae\\xf76\\xe1\\x03\\x9d\\xa5\\xf3\\xf7\\x81\\xeas\\xdf?\\x85I\\x04\\xa5\\xe4\\x024F/\\xc8\\xe7\\x85nNG\\xa1\\x15V\\xbe\\xc3L\\xe5t\\xadX\\xdb\\xdc\\x10\\xa9\\xe7;\\x02\\xa0\\x16\\xfb\\xbd\\x0f\\x1c{\\x7f?b-\\xddO\\xe7\\xeaq0\\x97j\\x98\\x95\\xb6\\x8f\\x98\\x03\\xe8}9\\xff\\x00&\\xac\\xdf\\xe8f\\xf2O\\xb4\\xd9\\x18\\xa1\\xbf\\x07\\xf7\\xb0\\xa3q\\'8\\xdc\\xb9\\xfdEa\\xdc[L\\xb7\\xae\\x15R\\x1cz\\xf5\\xfc\\xbf:\\xcd\\xcb[\\r\\xa3fO\\xdd\\xb0\\r\\xf2\\xe3\\x1c\\x0eA=8\\xcf\\xe5\\xed\\xfaTOo\\xfb\\xb0\\xc6pga\\xc0gNpp\\x00\\x1f\\xe7\\xb9\\xa6Z\\xc9\\x02;E\"\\x99\\x0f\\xcc\\x01<\\x8f@\\x07=0N:\\xfd{\\xd3\\xa3U\\x86A\\'\\xca\\xd1a\\xb8\\x93\\'v0;c=\\x8d\\x02\\'\\xb6\\xba\\xdb*yAd\\x00g\\x1dN}\\xfd8\\xed\\xecj\\xad\\xd1\\x89\\xf5K\\x93\\xf33g\\x86\\xdb\\xb4)\\xc7Q\\x8f\\xe7\\xc7L\\xd5\\xbf\\xec\\xf8\\xae\\x90\\x0bYv\\xc9\\x81\\xf2\\xca8^G \\x81\\xdb\\xf5\\xfc\\xea\\xa9\\x03\\xfbJ\\xe6)\\xc4H\\xe3j\\xe4}\\xd3\\xc0\\x1c~\\x1f\\xe3C\\xd8h\\xa5(\\x92Y\\xc4\\x88\\xc5c\\x99v9^\\n\\xe4s\\xc7\\xbeO\\x03\\xd2\\xb2e\\x0e\\xd6_4R6\\xc2\\x06@%I;\\xb1\\x9fC\\xd3\\x03\\xdb\\xeb[\\xf3\\x10-\\x83g.\\x0e\\xd8\\xf6\\xbeN\\x0es\\x9e=y\\xfc+6\\xfa\\xe0\\x84u\\x96(\\xdaE;\\xb7\\x94\\x00\\x921\\xd4\\x8ez\\xfb\\xd1\\x17\\xa9h\\xc6\\x85\\xf6\\xc8\\x1c\\xf1\\x82:W\\xb7xz\\xe55/\\x0fZ:c\\x859]\\xd9#\\x07\\xbf\\xff\\x00_\\xda\\xbcD\\x02\\xb9\\x8f\\x80rA\\x02\\xbd\\x0f\\xe1\\xbe\\xa0V\\xe2[,\\xf2\\xeb\\xb9W\\xd4\\x8f\\xeb\\x82kXK\\x96i\\x9a\\xc1\\xdaGz\\x9b\\xc1q\\x9eNq\\x8fZ`V\\xf9\\x89\\xcbu\\xea:\\xf4\\xabM\\xb5U\\xb6\\xe3*6\\xb0\\xe8\\x7f\\xfdu\\x13\\x10\\x1b\\x046\\xdccsp\\x01\\xfaWi\\xd4E\\xcag$\\xec\\xe4\\xb0\\xce*\\xc6\\x17\\xcb\\xc1$\\x9e\\xa2\\x94.b;\\xb3\\x93\\x9d\\xc0w\\xe7\\x14\\x8eV5\\x04\\xe7\\x9ey\\xe9\\xf4\\xa0\\x01N\\xe9\\x8e\\xe6\\xea6ds\\xf4\\xa6}\\xc3\\xb0.F\\xee\\x18\\x1cd\\xff\\x00\\x8dJc\\r\\xcb\\x122r\\x01\\xfc\\xf1Aq\\xbc\\xb1\\'\\xa6=\\x8f\\xe7@\\x8cx\\xe7\\x0cC+\\x96Lg\\x1ds\\x83\\xc6q\\xc8\\x19\\xc8\\xcf\\xbf\\x06\\xa2R\\x9en\\xd9\\x19~UVl\\xb9\\xceB\\xe7\\xa8\\x1e\\xc3\\x8f\\x7fzs\\x81n\\xea\\xca\\x80H\\xc8#\\x8fq \\x03\\x9eO_\\\\\\xf2}\\xf3\\xdcT\\xd1\\x87\\x89U\\xe6\\x89%c\\x80\\x81\\x9c\\x8d\\xaa\\xb9\\xc7\\\\d\\xe5O~\\xf8\\xe3\\x91H\\xa1bfy\\x1ey]\\x8e\"\\xe1\\xf29\\xe9\\x9e\\x7f\\x1c\\xff\\x00^r8MB\\xdd\\xb4\\xbf\\x14M\\x1b16\\xba\\x9a\\x1b\\x85]\\xc3>f~a\\xecO\\'\\xb7n\\xa2\\xbbi\\x86\\xc0dx\\xce\\xd6]\\xbc\\xaes\\xc0\\xc6\\x07Ry\\x1d0\\x07~3X\\xde0\\xd3\\xa5\\xbb\\xd1U\\xac\\xc17\\x90\\x134(\\x9bK\\x8d\\xb9,\\x18\\x0c\\x9eA\\'\\x19\\xe7\\x02\\xa2Q\\xba\\xb15#\\xcd\\x1b\\x19Q\\xb2\\xc503\\xe5aW\\r\\xb8\\xaeq\\xc8$\\x00z{\\xf5\\xebN\\x8c\\xdby\\xc1\\x91\\x07\\x1f3\\x91\\xf2\\x8c\\x92:g\\x19\\xfd?J\\x86\\xc2\\xe1.\\xac-\\xa5\\x80\\xb1GS\\xe6o\\x03#\\x8c\\x91\\x9e\\x01\\x03\\x18\\xce=\\x7f\\x19\\xe41\\xb1\\x91Y<\\xc0B\\xe3\\x9c\\xf6\\xc9\\x07?\\x9f\\xe7\\xef\\x8eM\\xb4<\\xe6\\xac\\xc7\\xb2\\x89\\x0b\\xc5\\x1c\\x8b!\\xdaC\\xca\\x1d\\xbe\\xfe:\\xe3\\xe8\\x07\\xe5\\xdcUG\\xb6\\x92Yv=\\xce\\xf1\\xbf\\x93\\x11\\xc7<d\\xe0\\xe4\\x9f\\xba=*\\xd7\\x98\\xd0\\xde\\x19J\\xb3\\xc7 \\xd8G\\x0c[\\xaeOr\\xa7\\xa9\\xcf^*6x\\xb7ym#\\xee$\\xe5\\xf1\\xf2\\x82F\\x01\\xf7>\\xfd9\\x1cQ\\xcc\\x05g\\xb1\\x86\\xda&f2\\xef\\x19m\\xc3\\nO\\xd4\\x0ce{c\\xde\\xa7\\x83j[\\x17Tg\\x07\\xe6\\xc2\\x8e\\x9c\\x8c\\x9fn\\xc7\\xdf\\x8e\\x94\\xbb\\x0c\\xeb\\xfb\\xb1\\xbb\\x9c,d\\x0cc\\xdc\\xf6\\xef\\xcei u\\xb8}\\xac\\x860y*\\x10\\x82\\x83\\xb7\\'\\xb7=\\x0f\\xb5.f\"[\\xbd\\xaa]\\x9e2e\\x94\\x07%\\xfa\\x9f\\xaf\\x1dy\\'\\xe9\\xfa\\x92[\\xc5sj\\xd6\\xe2\\xdd\\xd8eC0\\x1f0\\x00`\\x0f\\xe9\\xc7\\xaf\\xe3R\\x84\\x8dQ\\x01_\\x99\\xb0\\x06N0\\xdd\\xc6ON\\xdd=)\\xb3J\\xbekG\\x14\\x81\\x90(-\\xb7o\\x1f\\xe7\\x9f\\xae=\\xa8\\xbd\\xc3R\\xa9\\xd2\\xac\\xa2\\xcc\\xd9R\\x0eG\\x96\\xa7\\x96 \\xfa\\x1e\\x9c\\xf6\\x1e\\x9d)\\xefc\\x1d\\xdc\\x0c\\xca\\x8c\\xa8\\x10\\x14\\xf9\\xf6\\xe0\\x9e\\xe0t\\xf5\\xa7\\x0bcsp\\x04\\x880N\\xe5P2\\x08\\xe7<\\xfa\\xe3\\x1c{\\xd6\\xbb \\x8f/\\x19\"2;\\xff\\x00\\x12\\x8c`{\\x9e3\\xd3\\xdc\\xe2\\x8d\\x18\\x18\\t\\xa5A\\x13\\x03\\xe7\\\\H\\xcd\\x90\\xa8\\xec\\x08\\xc9\\x1e\\x98\\xe6\\xb6-\\xed-\\xedg\\x12\\xed\\x0b\\xb5B\\x80\\xacN{c\\x9e\\xf9\\xc7jz\\xc2 \\x9cJ\\xf8\\x0e\\t\\x08U\\x83)\\xc0\\xe4d\\x1cs\\x9f\\xa7\\xa5%\\xc5\\xda\\xdb\\xa8X\\xbfx\\xc4g\\n\\xa4\\x9c\\xfe_N\\x86\\x8d\\x02\\xe4\\xf2\\xde\\xdb\\xa4L\\x8f\\x18\\xdd\\x9c`\\x1f\\xfb\\xe7\\x18\\xe9\\xde\\xb2um%u\\x88\\xc4\\xa1\\x8c7\\xc86\\xab\\xe0*\\xce3\\x8cz\\x03\\xdb\\xdcc\\x1e\\x82X\"\\x91\\x87\\x9bp\\x10>AQ\\x8d\\xc0\\x7f\\xf5\\xfaT\\xaa\\xce\\xaa\\xc79\\xc8\\xc68m\\xde\\x9f\\xe7\\xb6jZLj]\\xce9exgx\\x1dv\\xb2\\xe4<n0\\xd9\\xf4?CW\\xed\\xfc\\xd9\"x\\xe3\\x9bj\\xb9RFF7r;\\x8e\\x08\\xdd\\xf5\\xe4\\xd6\\x95\\xdd\\x9cz\\x8a\\xba\\xb0\\ty\\x18\\x06;\\x92F\\xc29\\xc0v\\xe9\\x9e8>\\xfe\\xb5\\xce\\xbd\\xcd\\xfd\\xb5\\xe9\\x86\\xecyO\\x1eG9\\xf5\\xf6\\xebR\\x985\\xd4\\xd9\\xb6\\x82\\xe1&F\\r\\x15\\xc2\\x1cc\\xcb|\\xe3\\xd3\\x8cg\\xbfn\\x9d\\xf1T^\\x07:\\x9c\\xac\\xd2/\\xd9\\xe4 \\x13\\xb4\\x9c\\xe3\\x07\\x1c\\x0e\\t\\xc0\\xa6\\xda\\xea\\x93\\xc6\\xbdw\\x0c\\x15\\x0f\\xb7\\x95\\xef\\xf4\\xef\\xdf\\xdf\\x154%M\\xe4\\xaf%\\xc7\\x98\\xae\\xc4\\xb38\\xc36\\x0f_c\\xf5\\xcf\\xebWua\\x15\\xc4q\\x14h\\xa7\\x93do\\x96C\\x8d\\xc4\\x1fq\\x9c\\xe3\\x9ad\\xea\\xd7!\\xed\\xee\\n\\xab\\xc6\\xa5rW\\xe6`3\\xeb\\xdb\\x93\\x9f\\xa6j|\\x061\\xc6\\xae#\\x19\\xc7\\x9c\\xd8\\xc6\\x7f\\x1f~\\xa7\\xd3\\xdb\\xaa\\xbc\\xb1_D\\xd6\\x97H\\x8a\\xea\\x08\\x89\\xc2\\xec \\xe7\\xd8c\\xeb\\xed\\xe9P\\xb7)\\x1c\\xb3\\x05\\n]\\\\\\x16,\\xc0\\x8er1\\xdf\\xd3\\x9c\\xfa\\x9e\\x9fL\\xe9\\xe8\\x9a\\x83\\xe9\\xf7\\xb6\\xb7i\\x80\\xca\\xddA\\xeb\\x83\\xc6G\\xe1Y\\xb76\\xedov\\xf6\\xcaK\\xb0`\\x14\\x81\\xf7\\xbd8\\xfci\\xc3\\x05\\xc6\\xc6\\xe3!~\\xee\\x0e=qZI]\\x1a\\xb3\\xe8\\x18\\xe4\\x8e\\xe6\\xda9\\xe3\\r\\xb5\\xd7$\\x11\\xc8\\xfd?:an\\x80`\\x9f\\xff\\x00_\\x18\\xae\\x7f\\xc1\\xb7\\xdfl\\xf0\\xea\\x86`\\x1e\\xdc\\xed\\xe0\\xe7\\x03\\xaf\\xe3\\x9c\\x9f\\xca\\xba0\\x11\\xce\\xe58\\'\\xf8\\xb3\\xce\\x7f\\xfa\\xf5\\xdbN\\\\\\xd1L\\xea\\x8b\\xbaLnN\\x0b\\x11\\x9fL\\x8av3\\x8cg\\x00\\x1e\\xb4\\xf5\\xdc\\xd1\\x95v\\xdd\\xb7\\xa1\\xc9\\xe3\\xe9\\xcf\\xb5$\\x8e\\xa0\\xaau\\xed\\xeb\\x8f\\xf3\\xfd*\\xca#9`\\xa0\\x9c\\xaa\\xe7\\x189\\xcf\\xf9\\xcd6&;px\\x07\\x82\\xde\\xbf\\xfdj\\x9aLyj\\xc3qa\\xd0\\x1c\\xe4\\xff\\x00\\x9f\\xd6\\x9a\\x8c\\x1f\\x1bC\\x8f\\xc3\\x14\\x08\\xcb\\x96az\\xa2\\x06fr0\\xa0+q\\x8c\\xe4d\\x92{\\xf6#\\xf0\\xe3\\x96#\\x11:\\xecm\\xf10B\\t\\x19\\xc0\\xf7\\xef\\x8e\\x07\\xaf?JX\\xa7\\x8c\\xc9,N\\xf1F\\x87\\x9f\\xbb\\x83\\xbb$/E\\xc7\\x19\\'\\x81\\xdb\\xf0\\xa9\\x17aa\\x19*\\xfc\\x13\\x958\\\\\\x10\\x0es\\xc6z\\x1f\\xa7\\x1e\\xd5%\\n\\xe5\\x96\\xe1\\xc4\\x92l\\x93\\x18\\r\\xb1\\xb2\\xa4\\xa9<c\\'>\\x9f\\x8f4\\xc8\\n\\xb4\\xbf\\xbe\\x0cv\\x0c\\xa9F$\\x0c\\xe7\\xdc\\xf0\\t\\xc9\\x1d\\r6P\\xd1\\xdc\\x80\\xaa\\x87(\\xc9\\xb1\\x14\\xe0q\\xc8\\xe7\\xd3\\x83\\xc9\\xcf\\x19\\xcd:b`\\xcb\\xefV9(v`g\\xa1\\x18#\\x9fl\\x8e9\\xeb@\\x1eq<M\\xa1x\\x9e\\xe7N!M\\x85\\xc9i\\xa0VP\\x88I\\x1d\\x07<\\x81\\xd0g\\xd0p2Eh\\xb9o-X\\xb9\\r\\x19\\xe7-\\xcfRs\\x9c\\xf5\\x1c\\x8c\\xf5\\xe8;\\x8a\\xe8<Cb5M \\xdc[4\\xd1\\xdcZ?\\x9fo(\\x1b\\xf3\"\\xa9#\\xd3\\xef\\x11\\x8e\\x9d\\xfb\\xe0g\\x99\\xd25\\x0b{\\xdbK[\\x83\\x02\\x86\\x8d\\xd5e\\x0c\\xcc\\x038\\xeb\\xf8`\\x83\\xd4\\xe3={W=X\\xf59+\\xc2\\xce\\xe5\\xb4\\x89\\x9b\"y\\x14\\xe3\\x9f-O8^z\\xaf\\xb6\\x0fo\\xae\\x0eD\\x11\\x9f\\xb2\\xdc\\xa1\\x13\\xb4\\xb1\\x1e\\x03\\x85\\x00\\xaf\\\\g\\x07\\xd3\\xbf\\xbf=*\\xd9.\\xd7\\x11,\\x8d\\xb2<m`\\xb2uR\\xbc\\x8c\\xf6\\xceO\\xe2:\\x1a\\x8d\\xe7)\\x0f\\x96\\xa8\\x1dO\\x1bA\\xff\\x00w\\xd7$\\xf08\\xff\\x00\\xf5\\xd6\\'3\\x1a\\xb7m.%A\\xb9\\x8ap\\xb8\\xe4\\xb1\\xc7\\x1d}\\xc7o|qV\\xe3\\x96\\x19\\xac\\x84\\xae\\x85\\xb6m\\x1f0\\x00\\xe0\\xe79\\xef\\x93\\x9e>\\xbf\\x9d\\x19m\\xa0\\x9dY\\x90\\x15B\\x98\\xd9\\xb7\\xe5b\\x7f\\x8b\\x18\\xe0\\x1c\\x121\\xf9\\xf1PAoq\\x0c\\x8a\\xf6\\xce\\x8e\\x10\\x83\\xe6I\\xf2\\x1c\\x1c\\xfc\\xa3\\xae8\\x07\\xb8\\xf6\\xc5;\\x0c\\xd3a\\x08\\x98\\x8d\\xca\\xa7!\\xbe\\xf6Xu#\\x93\\xc7\\xe6z\\x8f\\xce\\xccV\\xe8\\x81\\x9a\\x00\\xa0\\x85\\xcb\\x01\\x82\\x14\\x12F9\\xe4\\xf6?\\x9ezVd\\xad+\\x18\\xa7\\x11L\\x919\\x11\\xb3\\xeeS\\xc9=O=\\x0e\\x18\\xf5\\x00\\x9e\\xf8\\x15\\xa5\\x1d\\xfa,\\xb22\\xee\\x05\\x103\\x90\\x08`\\t`Ct\\xee\\xc0c\\x04\\xfeU6\\x0b\\x02\\xecq\"\\xbeB\\x8c\\xb6X}\\xd222x\\x1e\\xdfNs\\xd6\\xa4\\x91\\xa3V\\xdep\\x08\\xf9\\n\\x93\\x90q\\x9c\\xf1\\xd3\\xafo\\xd7\\x8ea\\xb6\\x92\\x19\\\\H\\xb2\"H\\xa8\\x8d\\xb4\\xe3<\\x8c\\xf4\\x19 \\xe0\\x8e\\x9e\\xff\\x00\\x8a]\\xcd$Q\\xc5\"\\xc2\\xc0\\x07\\x04\\x91\\x85\\x12!\\xc2\\x82x\\xc9\\xe81\\xecM\\x16b$\\xf2ZTq\\x87@@s\\x95)\\x9e\\x83\\x18\\xcf\\xd7\\xeb\\xc7\\x14A\\x02\\xdb\\xb1$6s\\xd4\\xb6x=3\\xedP\\xad\\xfaM\\x11>j\\x19[8E\\xf9@\\xcf^\\x9c\\x01\\xd7\\xe9\\x8aV[ed,\\xed\\x86\\xe4>\\xf0H\\x039\\x18\\x1d\\x0f_\\xc3\\x1e\\xbc\\x82%\\x92e#\\nR$$\\xe0\\x10N\\xd1\\x9f\\xc7\\x8c\\x1f\\xf1\\xaa\\xcd\\x17\\x99\\xe6\\r\\xcc\\xca\\x06\\x0f8\\xc7<\\x81\\xc5\\x13yi\\xe7lM\\xdbF\\xe2\\xa4\\xf5\\xc7`\\x7f/J\\xb5cv\\xb2\\xdb%\\xc2\\x05S\\x8e\\x89\\xfc,\\x0f\\xd7\\xfc\\xf3In\\x04h\\xed\\x02\\xa8\\xd8\\xbbwe\\x88$e{\\xe4w\\x1dj\\x0b\\x88m\\xf5h\\xbc\\xa9w\\xdb\\x08~X.\\x1c\\x86\\t\\x92N\\xd3\\xfcAFF\\x0f#\\x9c\\xe7\\xb5]\\x9a\\xe2\\xd1\\x93\\xcbv;I$\\x85=\\t\\xe0t<\\x1e~\\x99\\xf5\\xa6\\x87\\xb1Uh\\xbc\\xc8\\x8a\\x15\\xc4\\xaa\\xecB\\xf4\\xe0t\\xeb\\xfa\\xf1\\xe9\\xc9m&4\\xceX\\x8dCJ\\xb9\\x9a\\xd6\\xee\\x16e\\xc6Kv\\xc7\\xa8\\xf4\\xe34YEm\\xe5\\xe1\\xe5\\xc32\\xe4\\x07|\\x00s\\x81\\xd0~=\\xfaWev\\x8d\\xa8\\xdab\\xeaE\\x96\\x06]\\xb1\\\\\\xe0)\\x85\\xb1\\xc0>\\xc4\\x0f\\xf2:q\\xd2\\xda]i\\xb7\\x8diz\\xad\\x13\\xa7\\xcc\\xb9Q\\xf3/c\\xcf\\xaf\\xe3Q\\xb3\\xb3)\\xad.\\x89cX&c\\x1c\\x88\\xd9\\x7f\\x97\\x1c\\x00\\xbcaX\\x1fA\\xfd*?5\\xedH\\x86HB\\xba7\\x98%\\x19\\x1b\\xb3\\x8cm9\\xe3\\x05s\\x91\\x83\\xc9\\x1d:Z\\x89#\\xda\\x00\\'\\x00\\x10\\x11\\x06[\\x83\\xd4\\xf5>\\xff\\x00\\x85=\\x04W\\x91\\xc2ee]\\x8f\\xb5d\\x03\\x19\\x1dy\\xe7\\x91\\x80G\\x04\\x1e3\\xd4\\x13B\\xdcH\\xe6\\xb5{tk\\xc9g\\x883!\\x0b\\xf3p:\\x81\\x8f\\xd3\\xfa\\xd6z\\x91\\x95>\\xf5\\xaf8&\\xe6h\\x94n\\xda\\xc53\\xb4coA\\x81\\xce?\\xfa\\xd5\\x98\\xc8\\x96\\xd36N\\xf3\\x96P\\xc0\\xe0\\x00A\\x1e\\x9c\\xf5\\xcd\\\\]\\xd5\\x8dS\\xb9\\xd9|<\\xd4\\x8d\\xb6\\xa6\\xd6l\\xc4\\xc78\\xc8\\xc98\\x04t\\xfc\\xf3\\x8f\\xc6\\xbd=\\x11\\xbc\\xac\\xed\\x0c{\\x83\\xce\\xecz\\x9e\\xd5\\xe0\\x967\\x0fiy\\x1c\\xc9\\x94h\\x98\\x11\\x91\\x9e\\x87\\xb85\\xed\\xbau\\xf8\\xd4,!\\xb9\\xc8Q \\xe7\\x900z\\x1e;s\\xe9\\xea+z\\x12\\xd5\\xc4\\xda\\x94\\xba\\x16\\x1a_-v\\x91\\xd4\\x1f\\x9b\\x1c\\x8f_\\xc0R\\xef.\\x99\\x01p\\xa3\\xaa\\x9e\\xdcs\\xfa\\xd2*\\x95P\\xdb\\x00\\xc1\\xeb\\x8c\\x10iK\\xc6\\x85TH\\x019\\n\\x18\\xfd\\xef\\\\z\\xfa\\xd7Q\\xb0\\xf11\\x8c\\x01\\x90A\\xeb\\x83\\xf9\\xd2\\xc6\\xbb\\x89*Wn\\x0b\\r\\xbd\\xf8\\xe0\\x1a\\x86(\\x95A\\'k\\xf4#\\x91\\x93Ro\\x11\\xc6\\n\\r\\xcf\\x9d\\xc4d\\xf3\\x8c\\xfbt\\xff\\x00\\xeb\\xd0\\x06\\\\\\x8c\\x11\\x1c\\x04\\x06\\x07m\\x99`\\x18\\xf1\\xce=\\xb8\\x19\\xce1\\xd7\\xd3\\x02i\\xd9\\xa4b\\'\\x8d3\\x80r6\\x92\\x0e\\x07\\x18\\xe9\\xef\\xd8\\x83\\xee\\x0ek\\x87\\xfb\\x1b\\xe6H\\xd3\\xcc\\x8dJ\\x8d\\xe7\\x1bIc\\xd0\\xe7\\x19\\xdczv\\xc8\\xe3\\x92h\\xda\\x8d7\\xdc\\x01\\x86\\x00up\\xc3n\\xd0}3\\x9eA\\xces\\xce:b\\xa4\\xa2Y%\\x8e\\x02\\xcaG\\xef\\x14n\\t\\xce\\x11p0\\x17\\xf0\\xe7\\xd3\\xf9\\xd4(\\xa9\\x10\\x91\\x8b\\xbc\\x87\\x04\\x81$\\xa1@ \\xf5\\'\\x18$\\x8c\\xf4#\\xfcT\\xe0B\\x9eZ\\xb4r\\xb3\\xb4\\x8c\\x18\\x00\\x1b8\\x00\\x15 \\xf4\\x07\\x8e\\xe0\\xe7\\xf0A\\xb69\\x0e\\xc5v]\\xcd\\x92\\x17\\xe6<d\\x0e\\x98\\xcf\\xf3\\xecrs@\\x12.\\xe3nc\\x8d<\\xa8\\xf6\\x86\\xf98Rp02{\\xfa\\x8f~\\xfd\\x0f\\x9f\\xf8\\x83O\\x8fC\\xd6\\xc6\\xa3k\\x1et\\xfb\\xb0\\x05\\xc7-\\xb692\\x0e\\xe2\\x07@z\\xfe,\\x07j\\xf4\\x1b\\x87X\\xae\\x9f\\xf7d\\x03\\x90\\xc8\\x186y\\x1ds\\x8e2?\"\\x01\\xc9\\xe6\\x92\\xe2\\x08\\xb5H\\x13N\\xbd\\x867\\x82eQ\"\\x03\\x81\\x80\\x06:s\\xc1\\x00\\x0eG$f\\xa5\\xab\\xab\\nQRVg#9\\x8b\\xc9\\x82d\\x0e%a\\x82\\x00 \\xe5q\\xd0g\\x83\\xcf\\xa6;Q\\x08\\x8ft2\\x8d\\xbb\\x94\\x92U\\x8bn\\\\\\x1eO\\xb0\\xea8\\xe7\\xf9\\x9c\\xa5MGG\\x994\\x9b\\xf5\\x8d\\x90\\xc1\\xbe\\xdeM\\xc5D\\x80\\xe3\\x18\\xcb\\x0c\\x9c`\\xe3\\x1c\\xe0ps\\x93\\xa2\\xf1!\\x8cB\\x922\\x86m\\xdb\\xd9|\\xb0>\\xbc\\xe3\\xfcq\\xef\\x9a\\xe4\\x94\\\\]\\x8f>Qqva5\\xc2,\\xed++\\xc8\\xf0\\xb6\\xde\\xa4\\xee\\\\c<z\\xe4q\\xef\\xedMeI\\x1aw\\x8d\\x9e8\\x97#\\x0c~c\\xceCc\\xa60\\x00\\xeb\\xdf=\\x8d;\\xed\\n\\xa5\\x86\\xd8a\\xc9\\xc0\\x0e\\xb8$\\xe3\\xd4\\x901\\xfary\\xe8*O?\\x12$\\xea\\xf2L\\x8a\\xa1s\\t\\xd8\\xc3\\x83\\xc6H\\xea\\t\\x1cz\\nD\\x11\\xfe\\xf9K\\x18\\xb0\\xccp\\x01L\\x85\\xe4g\\xa1\\x1d\\xb2F;\\x9e\\x9c\\x01V\\xe5\\x92\\x0b\\x85\\xf3/Hg\\'\\x01\\xceT\\x91\\x83\\xc0 g\\xd7\\x18\\xe0m\\xf4\\x04\\x1c\\xe9Zg\\x88\\x94\\xb7\\x91\\x91NX\\x1e\\x14\\xee\\xc0\\x00\\xf7\\x1d=Gz{\\xc4ev\\x8ei\\xa3#~\\xe8\\xdc\\x02I\\xc6z\\xe7 \\x13\\x8cw\\xe7\\xb8\\xa6\\xae4Imh\\x81$\\x93M\\xb9\\x95c\\x8c!fu\\x0e\\x81\\x98\\x10K\\x02\\x1b\\x8e\\xfdA\\xce\\x0f\\x18\\xc0\\x99\\xb4\\xc9\\xe4\\x961\\xf6\\xa8^\\x17\\x8c\\x19\\x11T\\xc6\\x17?3g\\x93\\xceK\\x0f^9\\x1d\\xaa(\\xad\\xce\\xd5XV$\\xdcLj\\x0bn \\xf1\\xc6s\\xcf9\\xe7\\xa7\\'\\x9c\\xf4\\x9a\\xdd\\x99\\xf2T\\xeeb\\x81\\x9bf\\x19\\x94c\\x9c\\x03\\xec?\\x00y\\xa1\\xb4\\x04\\t\\xa5\\\\[]!yc\\xb8\\n\\xbb\\x97p(2y\\xe8\\x01\\'<c\\xb7\\xa8\\xedU\\xe5\\xb5\\xd5\\xa2;\\x1c\\xc4\\x12 \\x00;\\x89\\xc6\\x0fN\\x87\\x1c\\xaf\\xe5\\xf5\\xab\\xb2\\xea\\x00\\xc7#%\\xc3\\x06\\x94\\x1d\\xe1\\xa4\\x1bNIl`\\xf1\\x8e\\x07>\\xb9\\x18\\xe3\\x06\\xd1D\\xdaU\\x03\\x14V\\x1b\\x10\\xe0\\xec\\x03\\xaf\\xd7\\xff\\x00\\xd5\\xcd-\\x04f\\xad\\xa5\\xccb9\\x1e[rY\\x82\\x84\\xc3\\x15=\\x0e\\xdc\\x92\\x0f\\x04\\x81\\xf8\\xf5\\xeeV\\xe7E\\x96;\\xed\\xbfo\\x91P\\x9d\\xc4\\x05\\xe8O^\\xfd3V\\xcc+r`\\x08\\x02\\xb6\\xe3\\xf2\\xabderz\\x0eA\\xc6\\xccT\\xa5\\xde\\x16i\\xee_q^\\xa8\\xc4\\x9e:\\x9eG\\x079\\xfa\\x9e\\xfd\\xe8\\xba\\x02\\xad\\xbd\\x85\\x8cs,qM<\\xa1\\x90\\x99VR\\x19y\\xe8A\\x00\\x1e8>\\xbc\\x11\\x9e\\xb5r\\x08\\xadm\\x98\\x85\\x81T\\xa3n\\xc6\\tc\\x9fF\\xea\\x08\\xe3\\xff\\x00\\xd7\\xd6;Da\\x03(F\\xdcN\\xe6\\r\\xd1z`d~\\x1c{U\\xb71\\xff\\x00\\xcbI1\\xf36\\xdf1\\x819\\xc6F~\\xb8\\xc1\\xeb\\xd4\\xd2\\xb8\\xd0\\xef\\xb4\\xbd\\xdcI\\xe7\\xa9r\\xe3\\xcb!\\xb2\\xc7\\x19\\x18\\x00\\xb7a\\x9f\\xc3\\xf0\\x15\\x15\\xcd\\x8cwq}\\x96\\xe5\\xe6x\\xcb\\x13\\x1d\\xd3\\xf2\\xd0\\x13\\x80\\x07\\\\\\xb2\\x9e\\x99\\xed\\xdf\\xa6i\\x12v;V+v\\xdb\\x92\\x14\\x96\\xc0\\xc8\\xc19\\xec1\\xc7\\xe9O\\xbc\\x12\\x19\\x1f\\xcd\\x9bpq\\xbb\\x81\\xf7\\x9c\\x93\\xbb\\x9f\\xae\\x0f\\x1e\\x9e\\xf48\\xab\\x02g;p\\'\\xd1\\xee\\xe4\\xb3\\xbc\\x8f\\xf7\\xe0\\xfc\\xa4\\r\\xcb \\xed\\x8f\\xa7\\xf8\\x8f\\xa1\\xe5\\x1bY<\\xc9!Sj\\xcb\\x90Sh*\\xde\\x87$\\xfag\\x07\\x1c\\x9cq\\xd2\\xb7\\x8d\\x94wv~D\\xe05\\xa0B\\xe1P\\r\\xf0\\xb7\\\\\\xafr\\xb8\\xed\\xcfA\\xea1\\x8a\\xb1\\xdf\\xe9W\\x02\\x19?}l\\xc7ts\\xa0\\xca8#\\x00\\x92\\x7f\\x97\\xd6\\xa3\\xe1\\xdc\\xabv!\\x90;\\xb4\\x87bK\\x11v`Cc\\x8c\\xfa~=k\\x1a\\xe6\\xd2\\x17\\x8a\\x7f0J\\xaeG\\xee\\xdc\\x91\\x8e1\\xd7\\xf9V\\xcd\\xb9\\xb5h\\x94\\xb8,\\xbb6\\x80H\\xf9\\x08\\xe7\\x9e3\\xed\\xef\\xf4\\xe9\\x0c\\xd6\\xe0\\xae\\xe8\\x8e\\xc9\\xe3`_\\x1c\\xa8\\x1d\\x98u$\\x1e\\x0f\\xe2})j\\x813\\x96B\\xa8\\xa0p\\xe7\\x01\\x89 \\xf1\\xc7J\\xef|\\x0b\\xaf\\x18\\xa4\\x1al\\xec\\x1a)9]\\xcd\\xf7H=1\\xef\\xc7\\xff\\x00\\xaa\\xb9k\\x8b1%\\xd4\\x8e\\xeac\\xc3}\\xde0q\\xdb\\xdb\\x81N\\xd3\\x95\\xac\\xf5\\x1by>e\\x01\\xfa\\x828\\x15|\\xf6|\\xcb\\xa1jVwG\\xb2I{\\x05\\x9d\\xbb\\\\\\x152F\\xb1\\xb3\\xb1@0\\x00\\x1f198\\xf6\\xc7^i\\xef\\xe4y\\xae61\\r\\xc3\\x100GR9\\xfa\\x8a\\xc8\\xba\\x92\\t\"\\xb3\\x95\\xa2Pg\\xbaH\\xc2\\xe0t\\x07p\\xcfB\\xdd\\x0f\\x04c\\x9e\\xfd\\xd7U\\x96u\\xd44\\xbb\\x18%\\x11\\t\\xe6b\\xccF~E\\x1b\\x88\\x1f^\\x80\\xd7t\\xbe\\x1b\\x9dm\\xe8l$m\\x9e6\\x90NN\\xe5\\xe4\\x0f\\x7f\\xf3\\xe9J\\x10\\x93\\xb4`G\\xc7~\\xbd\\x7f\\xce+7M\\x1a\\xa4\\x17\\x93%\\xe8/\\x13\\x01\\x89<\\xe0\\xc1\\x888\\xc8\\x1dF@\\x07\\x07\\x1c\\x93\\xc0\\xe85#.\\xe5p\\x9b\\xd0\\x8e?\\x13\\x9f\\xd6\\xae.\\xea\\xe0\\x9d\\xcc\\x91\\x1b\\x05\\xdc\\xccY2\\x0bl\\xef\\x8c\\xe3\\'\\xd3\\x03\\x93\\xdf>\\xc2\\x9a\\xb7k\\x03;\\x89\\x1d\\xd1\\x8b#9\\x04\\xe4dv\\xfc3\\xe9\\xc0\\xe6\\x98\\xc3\\xceRp\\x0eHP\\xd9;\\xb8\\xe9\\xf3\\x13\\xff\\x00\\xeb#\\xda\\x95a\\xde]\\xa4\\x89\\xc3\\x90\\xa8\\xf1\\xed\\xc8<t\\xcfns\\xf9\\x1c\\xf4\\xa4X\\xe4}\\xd2}\\xf2\\xe0\\x1d\\xe4\\xe4\\xf2\\x0fC\\x9e\\xb9\\x07\\xf2\\xf6\\xab2J\\x8b8m\\x81\\xa2vU+,\\xfbrG\\x18\\'#\\x1d\\xf9\\xaa\\xf6\\x91\\xc3q\\xb81\\x08\\xa9\\xf2\\r\\xcf\\xf7{p\\x0fS\\x9c\\xfb\\x81\\x8e\\x99\\xa0\\x99f\\x0b2\\xbf\\xcc\\x8ac-\\xb8>\\x00\\xc0\\xe4\\x1c\\xb2\\x8c\\x00\\x07c\\xc7\\xb5\\x00H\\xd1\\x037\\xfa\\xd9c\\x98\\x80\\tO\\x99H9\\xeaH\\x19\\xf5\\xff\\x00\\x1e\\xb5x\\xc4\\xa5\\x8cN\\xd6\\xef\\xb3\\x96h\\xc8`z\\x13\\x9ey\\xc6\\xe0?\\x1erzV\\x83\\xcb\\x8a\\x15-!l\\x9f\\xbe\\x01\\x05Gn~\\xf0\\xfe.s\\xed\\xc0\\x06\\x94\\x07\\xc4\\x8c\\xea\\xeaU\\x881\\x9e[\\x91\\x8cc\\xbf\\x19\\xe7\\x07\\xdcP\\x06~\\xbf\\xa6C\\xab\\xe9\\x06\\x0b\\xb6R%\\xcb@\\xbb\\xd7\\n\\xd8?2\\x9c\\x8e2N\\x01\\xcf\\xa7<\\xd7\\x19\\x1bOc2i\\xba\\x81\\x8a\\x0b\\xb5Vf\\n\\x08Y\\xd4\\x0e\\x1b8\\xc1\\xce\\xd1\\x80\\x0f\\x0c\\x08\\xe0\\xf0=\\x1c!H\\x13t\\x930\\x1b\\xa4d-\\xc9\\xe7\\x07\\x82=q\\x9fn\\xbc\\xe7\\x19\\x1e \\xd0\\x97U\\xb3\\x92=7\\xcb[\\x88\\xdeF\\xb6\\x9b\\xcb\\xc8;\\xb26\\x8c\\x83\\xf7\\x97\\xd3\\xd4`\\x1e\\rD\\xe1\\xcc\\x8c\\xeaAM\\x1c\\xd4e\\x17.\\xdf\\xbc\\xdeIUs\\x90\\x14\\x02:\\xf6<u\\xfaS\\xd1\"2\\xf9\\xa2\\x13\\x16\\xe4\\xdc\\xb1D\\x80\\x04]\\xc4\\x0e\\xa7\\x9f\\xd7\\xb7=\\x86~e\\xb7\\xbf\\x92\\xd6\\xea#i{\\tf\\x92\\t\\x99~Q\\xd7!\\x8e\\x03\\x03\\x8e\\xdd\\xf8\\xeaE[GI\\x84N\\xf9\\x8a<\\xa8R\\x01\\xcex\\xce@\\x18\\xc0\\xfc\\xff\\x00\\xaf+Mhp\\xb8\\xb5\\xa3%\\x88\\xbc\\xd6\\xac\\xcb2\\x9d\\xa4r\\xa3\\x00q\\xc7N;\\x1e:\\xf3\\xc7qE\\xa5\\x9b>\\x1dDP+7\\r+\\x83\\xb7-\\xdf\\x82}y\\xc7j\\xa8\\xd1\\xdcF\\xe4DQ\\xd5\\x89\\xc4\\x80\\x16\\x00z\\xf1\\xdf\\x18?\\xd2\\x95^\\x7f\\xb3H\\x92\\xec|\\xafW$\\x11\\x91\\x9e>^\\x9c\\x9e\\x98\\xceiXE\\xd5M\\xad\\x12\\xc4\\xfb\\xe0\\x90\\x10]s\\x93\\x9c\\x83\\x83\\x9eO\\xa7<\\x9f\\xadK\\x1cq$\\x922\\x1d\\x98V\\xea\\xc0\\x06\\'\\x8c\\r\\xd9=\\xc0\\xfcA8\\xc5g\\xc7\\xbe\\x17kw\\x8aK\\xa1\\x90C\\xc4\\xe1A\\xc1\\x00\\xe4\\x1e@\\x00\\xff\\x00.x4\\xc4\\xd5R\\xce\\xf69&\\x82t@\\xf8u,\\x13\\xdc\\x10\\xd8#\\xf1\\x00\\xe7\\xf9\\xabh\\x06\\x84\\x08\\xa03H|\\xd7#\\x08q\\xd3 g\\x8fC\\xeb\\xdf\\xaf\\x14\\xc1\\xba\\xd8\\x08%\\x926i\\x7f\\xbcq\\x93\\xcf\\'\\xf4\\xee?\\x11\\x9a\\xad\\x16\\xa0\\xb3\\xecO5T\\xb0\\xda\\x0f@3\\x91\\x92s\\xeeG\\x03\\xb9\\xce9\\xab\\x06Q&\\xebi!X\\xe2\\x0b\\xc0<u\\'\\x18\\xef\\xe89=\\xfd8\\xa3P\\'\\x8c\\t\\xc0\\xc3\\x18\\xca\\xe3o\\xf1\\x07\\xff\\x00h\\xe7\\xeb\\xdc\\xf4\\x1f\\x85 2\\x90\\xcd\"\\xeeP\\xa0l\\x8d\\xb7\\x12{\\xe7=~\\x9c\\xd50$\\xb7_\\xb4\\xee-\\x13\\x10\\xbe`%\\x82\\x9cc$\\x81\\x81\\x9c\\x1c\\x10OC\\xedR\\xb5\\xd2\\xb2\\xe5\\x97\\xa3\\x0f\\x9d_8\\xef\\x83\\x81\\xc0\\xe9\\xe9\\xdb=qE\\x84K\\x16\\xa7k\\xe5FQC\\x01\\x8e_\\xbbg\\x92\\x01\\xeb\\xdb\\xf3\\xfc\\xa7k\\x9bV]\\x9e\\\\\\xbek\\x0c\\x861\\xe3\\xcb9 \\x16\\xe4\\xfa\\xfd\\xe3\\x8f\\xd2\\xa8_[-\\xd1{\\xa8\\xaeS\\xcf$6\\xd5\\xe07\\xd4\\x9e\\xdcc\\xdb\\x8e\\xbd\\xa0\\xb2\\xbd\\x94\\xc8\\x809W\\x8b*\\xca\\x18e{\\x9e{\\x83\\xd7\\x8e\\xb9\\xaa@m\\xd9^\\xa5\\xc2\\xb26\"`\\xc0\\xbca71lr3\\xc7S\\x9e\\xff\\x00N\\xd5c~Y\\x116\\xe4*\\xa9L\\x8c\\xf2s\\xc1\\x1dG8\\x1c{VZ\\xbd\\xab2}\\xa6d\\x13\\x00\\xa4\\x10B\\x10{d\\xb7\\x00\\x1d\\xc4\\x9c\\xf1\\x83\\x9fJH\\xb5X\\xa3\\xc5\\xbc\\x8c\\x81\\x03\\x0f/\\xcbbc\\x93\\x8e\\x9f\\\\\\x93\\xeaG\\xafz,4k\\x88\\x97\\xcf\\x8aC(df!\\x89\\x07\\' \\x1c`\\xf7\\x1d?\\x1e\\x94\\xd6\\x92X \\x96\\xd1\\xe2\\x92h\\xdc\\xa1\\x96\\x02r\\t\\xc9\\xe58\\'\\xa7\\x18\\x1dq\\x9e\\xd8\\xaa\\xb0\\xc9$W\\r\\t\\x12\\x8c`\\x84\\x7f\\x93\\x03\\xa6Wp\\xc7P9\\x07\\xd2\\xac\\x8b\\x99\\x0cq\\xc6aH\\x9d[p|\\xf2\\x06G\\'\\x03h\\x19\\xc9\\x03\\xde\\x89r\\xb5\\xa9J\\xe8\\xc1\\x9a\\xd4\\xe9w\\x1b\\x10Esg3)\\x82\\xe9Td\\x8e\\xc0\\x9e\\xc7\\x07\\xa7\\xf3\\x18\\xaa\\xf7\\xb0\\x8bi\\x19\\xd89@\\x0b&\\xd93\\xbd3\\xf3\\x03\\x8c\\xf3\\xd3\\x93\\xfa\\xf1]9X\\r\\x9b\\xdbJ\\x92=\\xab\\xb9}\\xb9\\x0c\\xaa[\\'!A\\xe3\\xf2\\xfa-b_\\xe9\\xad\\xa6\\x99v\\xb4\\x17\\xb6n?v\\xe4\\xe4\\x11\\x8e\\x06F\\x08\\xe3\\xb8\\xae{\\xdbFW-\\xf5F\\x1d\\xb2\\t\\xa0R\\xc6G\\x90pS<\\x0e}O\\xd4\\xf1\\x8a\\xb5\\xa4\\xd9=\\xfe\\xa3\\n\\xe4\\x92N\\x13h\\xc9\\x07\\xaf\\xa7\\xe2j\\xe6\\x8b\\xa0j:\\x9cl\\xae\\xf1C\\nc\\xe5+\\x96\\x00p0\\xa3\\x19\\xe8\\x07Z\\xectm\\x16\\xcbK\\x0e \\xde\\xce\\xed\\x82\\xf2a\\x8e\\xde\\xc3\\xb0\\xf5\\xfcEk\\n2\\x9e\\xbd\\x0b\\x85&\\xf5{\\x18\\xde$\\xbehu\\x8d\\x0e\\x07e\\x10\\x1b\\x98\\xe7.\\xca~\\\\\\x10=zr{v\\xae\\x9e\\xea\\xd4\\x1b\\xab[\\xdf\\x9c\\x08Y\\x81\\xee~u \\x9f\\xaf>\\x95\\xc4|C\\xb6\\x92\\x1b\\xbb9\\xb7\\x82\\x8c\\x18l\\x03\\x1b\\x0f\\x1d=\\x8f\\xe7\\x90\\xd5\\xd9X\\xea\\xa3R\\xf0\\xef\\xdb\\xda \\xd1\\xb4[\\xa4@p\\x03\\xaeW\\xa7\\xb1\\xcf\\xe0k\\xbez\\xc6\\xc7C\\xeah\\xc6\\t\\x84\\xc8\\x14\\x1c\\x0c7|\\x9f\\xe9I\\xb3\\xf8\\t\\x95\\x02\\xe3\\x8e\\xa3\\x8f_\\xcf\\x8a\\xabcu-\\xc5\\xa6\\xf2$S\\x1a*\\x16\\x1e\\xb8\\xe4\\x13\\xeb\\xcf>\\xfd}\\xef\\xa3\\x97w*\\xdd@$\\xe4g\\xaf@q\\xff\\x00\\xd6\\xe0}(\\xa7.h\\xa9\\r;\\xa3\\x9f\\x95\\x19\\x03\\xaa)\\x91Q\\x80\\x05\\x97\\xa8\\xce=q\\xfc\\xfe\\xb5*3\"H\\xf2F\\x9b\\xb1\\x85\\xf9\\x7f\\xd5\\xc9\\x9e\\x0f\\xe3\\x821\\x8cr3Q\\xf9\\xb1\\xec&C\\x118\\xe3*\\x0eN\\xef\\xa1\\x1e\\x83\\x9fO\\xc6\\xa4|2c\\x95R\\x98]\\xe7\\x91\\x8f\\x9b\\x00g\\xa6p?3\\x8e)\\x96$j\\xa1\\xbc\\xb9\"V/\\xd6F$\\x8e\\xad\\xd3\\xb7$g\\xf0<\\xf3O\\x84\\x88\\xa4\\x01\\x83\\x12\\x03I\\xe5\\xa8\\xfc\\xfeS\\xc7\\xa0 ~]\\xe9\\xaa~h\\xf3\\x8d\\x9b\\x81f\\xc66\\x02\\x01\\x19\\xe0g\\x9f~\\xa7\\xb74\\xa9\\x11\\x85cf\\xf3c\\xf9\\x8aH\\x18\\x90#9<\\xed\\x03\\xea3\\xf4\\xa0\\x06\\xaa#\\xb1i\\x18+\\'\\x0c\\x9f0\\x1d~\\xf0\\xed\\x9f\\xbd\\xff\\x00|\\x9faW.\\xe2,\\xc8\\x1fj(L\\x8d\\xab\\xfe\\xac\\x0c\\xf6\\xcfC\\xed\\x9f^{U/2\\xdd\\x18\\xa3\\x8f\\x82\\xf8\\xd8\\x8cT\\x168\\xcf#\\x9003\\x91\\x8eq\\xce*\\xc0\\x8d\\x92\\xdd%\\x8e\\xe5\\x80\\x18\\xd8\\x0b\\xf2\\xa7\\x07 \\x03\\xdb\\x81\\xce;\\x01\\xee\\x00\\x193\\xbc\\x93H\\xb0#*)\\x1b\\x9d~\\xe3g \\x1c\\x8d\\xa3\\x18\\x07\\x8c\\x9e\\xbc\\xf5\\x15\\r\\x99)r\\xe2\\xea]\\xcc\\xcaH\\x10\\xa0\\n[`\\xc7\\x19\\xdd\\x9e\\x01\\xceq\\x8f\\xa9\\xa9\\x1e&W\\xf9\\xb9\\x8f\\x8d\\xa0?\\xde\\x05~l\\xe0\\xff\\x00\\x16y\\x1e\\xf8<\\xe2\\x94\"H\\xcd\\x1a\\xc5\\x1cL\\xc0\\x95\\x0e2\\xa3q\\xcf\\xb7\\xa99\\xe4\\xf5\\xc6(\\x02\\x8e\\xb3\\xa4Y\\xeb\\xf6\\x8e\\x8f/\\x94\\xe8\\xc5\\xa0\\xb8\\x18\\xdd\\x11\\x00\\x0c\\x80\\x08\\xc2\\x9e\\xfc`\\xe7\\xd4\\x028\\x93\\x14\\x9af\\xa4\\xb6\\x9a\\xccG\\x05\\x0f\\x952\\xed\\x02`\\x0fQ\\xce3\\x8f\\xe1\\xf5\\xe6\\xbd)n&H\\x91%\\x8c\\x86$\\xa0\\n6\\xe4\\xa9\\n=\\xb0@\\x1d\\xbf\\x13Tn\\xac\\xad\\xae\\x84\\x8ds\\x19\\x95\\x15\\xc3\\x15 \\x8d\\xbc\\xe0\\x10@\\xf9\\\\o<\\x8cc\\xb1\\xefQ(s\\x11:jKS\\x8fR\\xb3\\x8f23!lnNs\\x9e\\xf9\\xc9\\x03\\xd7\\xdf\\xd7\\x8e\\x85\\xe8\\x92\\xb3LNCI\\x86\\x08\\xa7\\x80\\x01\\xda:}G=;Uw1\\xe9\\x9a\\x83i\\x17Bg.\\xcc\"\\xb8\\x921\\x96@x\\x19\\x07\\xe7lc$\\x81\\xdf\\x83\\xc1\\xa9\\xe4\\xb61\\xedt\\x94\\x00$\\xc0*0N\\x0e3\\xed\\x9eq\\xcfc\\xed\\\\\\xae-=N\\x19E\\xc5\\xd9\\x89\\xe5\\x00\\x9b\\xe4bD\\x81\\xb0\\xc4\\x86\\xc9\\x1dzz\\x12:\\xfa\\x03\\x9a vTgx!)\\xb4*/@\\xeeT\\x1d\\xc398\\xef\\xd7\\xbf\\xa6AQk.bV;\\x80|I\\xb5\\n\\xa7\\x00\\xed\\x07\\xeb\\x83\\xdf\\xb1\\xe9\\x8a\\xbd3F\\x14D\\xb1\\xa8L\\x02\\xee\\x03m#\\xa6\\x08\\xed\\xc2\\xf6\\xe7\\x83\\x93\\xe8\\xaeIE\\xad\\xac\\xc4/7\\x91\\x1b\\xec\\xc8\\xf2\\x920\\xb8\\x1dKt\\xff\\x00t~|b\\x9fq\\x0c\\x13\\xcd\\x99\\xa2Ut\\x8b\\x0c\\xf09\\xec\\x08\\xc8\\xc1\\xe7\\x04\\x01\\xcejq\\x12L\\xcc\\xf2\\xccQY\\x81\\xfe\\x12v\\x92}\\xbd\\xfa{z\\x1e#v\\r\\xf3\\x12RL\\x12\\xc1\\x80\\xc1\\x19*{\\xfa{v\\xf6\\xa05#K8\\x87*6\\xa0\\x8f\\xe6\\xd8\\xc4\\x11\\xdf8\\xfc\\xfav\\xeax\\xcdGkf\\x92\"&dh\\xe2\\\\\\xc6\\x15\\x88\\xdd\\x91\\x9cu\\xcf\\x05\\xb8\\xf7=\\xfb<\\xf9\\xf3\\xc0\\xdeqM\\x9b\\xb2$\\xea\\x19\\x8f\\\\\\x9e\\xfd\\x01\\xe9\\x93\\xeb\\x8e*\\xc6\\xe5\\xb7\\xb7\\x002y\\x81\\x88\\x1c\\x82\\xdd\\x07\\xe2N=\\xbbt\\xa6\\xd8\\x15\\xa7\\xb7\\xb1H\\x82\\x08\\xa5Y\\x16L)3\\x13\\xf2\\xf59\\xc0\\xeb\\x8f\\xc3\\xdb\\xad*\\xc3\\x1eT\\x18\\xe3t#\\x0b\\xb97\\x1d\\xb8\\xc7^s\\xd3<\\x1e\\xe7\\xd7\\x15\"E\\xbf,@\\xe4\\xee8\\x1b\\x81\\xc1\\xc8\\xe0\\x9c\\x8c\\xfe\\x80\\x8c\\x03\\x9a\\x08\\x8a\\xe1\\xc9\\x8auH\\x99L\\x83hg\\xd82\\x07N\\xa7\\xa7~\\xa0\\x0e\\x94\\x01<\\x83N7v\\xe8\\xb0 \\xd8\\xb8v\\x85\\x14\\x82\\xe0\\xe5O\\xdd\\xe4\\x1e\\x9dNy\\xe81S]\\xb4\\x92\\xcc\\xd2\\x10Z\\x00\\x07\\xcc\\xcb\\xbb\\x07\\'\\x91\\xdc\\xf7\\xeaj\\xa5\\xbe\\xe8\\x80\\x89\\x88^:8;X`\\x02s\\xd7\\xb6\\x7f\\x13\\xf8\\xd9\\xb8kv\\x90\\xc5\\xb7 \\x0c\\tJ\\x90y\\x1d:\\x95\\xc6I\\x03\\x1d\\xb9\\xe2\\x95\\xc2\\xe2FY@#\\x11n\\xe0\\xc8\\x00\\x1c\\x8cg\\xa0\\xc0\\'\\x1f\\xe79:\\x0e\\xd11\\x92eM\\xc8\\x10\\xa6ZN@\\xc0\\x04\\x1c\\x01\\x8f\\xfe\\xbf^\\xa2\\xb3|\\xcf7h\\xdeUw\\x02\\xe7\\xcb\\x0c\\xc3*1\\x8e\\x99\\xe8r{\\xd4\\xa6XZ\\xd8\\xac\\x8c\\xae\\x13\\xe6Q\\x00=\\xf6\\x8c\\x9e\\xca1\\xfe\\x18\\xfe\\xe8\\x80\\xb3;\\xac\"\\x14\\xf3\\x04H\\xa0\\x00\\xfdJ\\xe39\\xc7R\\xbd\\xff\\x00>\\xf5f\\xdd\\x04`\\xc5m\\xfb\\xe8\\xa7\\xc9h|\\xb4r\\xd9\\x1c\\xb0\\xe78\\xe9\\xc6x\\xcf|\\x90)Ow46\\xebl\\x98\\x8c8\\x02@\\xcc\\xcc\\xc5\\xf0y\\xc7\\x18\\xceI\\xe4s\\x8fj\\xc8\\xd5\\xb5\\xb94{r\\xf3\\x0f5\\xcb\\x14\\x11\\x9c/=\\xfaz\\x0e2Fz\\nSI\\xe8\\x96\\xa5\\xc5\\xeb\\xa1\\xd3[\\xb4\\xbaH\\xf3\\xa3-.\\x9a\\xe0\\x10\\xcd\\x93\\xe5z\\x02q\\xca\\xf1\\x8c\\xf6\\xe9\\xedZn\\xd2\\xe1J\\x82\\xfc\\x0eT\\xf0\\xddG\\xf9\\xcfz\\xe24\\x9f\\x13Z^\\xa0T\\xca\\xdcJ\\t6\\xbb\\xb8\\xc8\\xc7#\\x8c\\x1e\\xfd\\xc1\\xe38\\xc7^\\x9bN\\xbd\\xf2J\\xf9m\\x9bY3\\xb3\\r\\x9f+\\x91\\x9e;\\x8e;\\xfe\\x954j\\xca\\x93\\xe4\\x9e\\xdf\\xd7\\xe0tBV\\xd1\\x94<{g+h\\x11O\\xbdB\\xc6\\xcb+/$\\xbeN\\xd0O\\x1c\\x11\\x9e\\xe4p{\\xf1Y\\xbe\\x16\\xba\\x96\\x1f\\x07\\xde,r|\\xd2]yq\\xa0\\x1c\\xb1*\\xa0\\x82}1\\x9a\\xdb\\xf1\\x99\\x8f\\xfe\\x11;\\xb0\\xbbJ\\xfe\\xef\\xe6\\x18\\xc6w\\x8c\\x01\\xef\\xc9\\xf7\\xfc3X\\xfe\\x1c`\\xdaf\\x93\\x1d\\xb2\\x0c,\\xa1\\xae?x1#y\\xa7n\\xe5\\xee\\x00A\\xfeMv\\xd5\\x92T\\xfdK\\x96\\xe7f\\x96\\xc6\\xde\\xd28T\\xabF\\x8awr@R\\x06I\\xcf~\\xbf\\xadX@\\xc6\\xd7\\xa0,\\xea\\x0bp\\x0e?\\x13\\xcf\\x7f\\xd4T\\xad\\xe5\\x94\\xc1\\x8f\\xf7N\\xd9\\x00\\xb7_\\xe4Nq\\xecy\\xfa\\xd3\\x0c!_\\xec\\xd8\\xe1\\\\\\x906\\x92\\x07S\\x93\\x8f\\xf3\\x92kT\\x92VE\\x98(\\x91\\'\\x96\\x1eE\\x1bYK#t\\x90\\x16=\\xb1\\x8e\\xa38\\xfa\\x11Vf\\x8fj\\xc8\\xca\\x8a_h ;\\xa8\\xf2\\x9b\\xdf\\x03\\r\\xe9\\xed\\x91\\xc0\\xaa\\xd1\\x07{T\\x90\\xef\\xcbt\\xe0\\x85$u$\\x9e\\xa3\\x18\\xf5\\xef\\xebS\\xe4$\\xb1\\xc9\\xe5\\x06.\\x98 \\xae\\xd1\\xe8\\xa4\\x8e\\x99\\x00\\x83\\x9c\\xf3\\xc0\\xc7\\xaa(`y\\x84{\\x16M\\xb1\\x82\\xaa\\xac\\xab\\x9c\\x1c\\x1eX7\\xde\\xeb\\xc9\\xe3\\x81\\xc0\\xc6\\x05Z\\x85\\xc0T\\xc3\\x01\\n\\xe0\\xfc\\xca\\x19\\x14s\\xdd\\xb2\\x07$g8\\xedQ\\x18w\\xdc4BP\\xc7\\x1bP\\xee\\xc1#\\x00\\xe3\\x07\\x04p@\\xed\\xf8S\\x91#\\x9e6\\xc9\\x8e<\\x00\\x8c\\xa8\\x1b\\xe5\\x04\\x8c\\xf6\\xe81\\xce};\\xf4\\xa0\\x05i\\xa1\\xf2\\xbc\\xa5\\xd8%\\x04d\\xae\\x08\\x1c\\x10}\\t\\xe9\\x8c\\x7f\\xf5\\xf3b1q\\x1aI\\x1b\\x8f\\x94m\\xda\\xca\\xa44|\\x90\\xc1\\x88l\\x81\\x92>\\x9c\\xf69\\xaa\\xa3qQ\\xe4\\xa1w\\\\\\x07\\xfd\\xd8\\xe0\\xe0\\xf6\\xcf`r\\x0e3\\xdb\\x1d*U\\xbcL\\xb4N\\xd2\\x159\\xcf\\xef7\\x158\\x00\\x8c\\x93\\x8e\\xc7\\xa6A\\xc6\\x088\\xc1\\x00\\x84+\\xbb\\x95D\"D\\xdb\\xf3y\\x9bq\\x8e\\xa4~\\x18\\xe7\\xd3=;M\\x0c\\xcd3\\xbf\\xda\\x19\\xa5^7\\xab1@3\\xd7>\\xb9\\xe0\\xf20\\x0e*@\\xe5\\xa5O)\\xc5\\xca\\x04=[\\x968\\xe0\\xe0\\xf0G\\x07\\xa7\\xe9\\x81Q6\\xe7\\x1ea-\\x85R]\\xa3\\xfd\\xdeN3\\xc19\\x1c\\x1c\\x8e:\\xd0\\x04\\xe9s,\\xc0\\xac\\x88\\x18\\xb0<c \\xb1\\x0cG$\\x93\\x8e\\x0e{a\\xbaz\\xc9\"Cl\\xaa\\xcf\\xbb\\xcd \\xb0M\\xb8,s\\x8eGN\\x85y\\xe4\\xe4t\\x04\\n\\xa6\\xd1#\\xb9\\xc1+\\xb9\\xb2\\x86E\\xf9\\xb7\\x1ep\\x0f\\x1d\\xb0~\\xa7\\xa0\\xceL\\xe1K\\xba\\xca\\x87`E;p\\xa0\\xb6\\x0f@9\\xe3\\x92x\\x07\\x9cu\\xe3\\x90\\x0c\\xef\\x10\\xd8\\xdakV\\xdfd\\x95\\xa4\\xb7\\x908\\x9e\\x0b\\x88\\xf3\\x95+\\x90\\x19T\\x11\\x9cq\\xd39\\xed\\xea8k\\xbb\\xbb\\xef\\x0f\\xdd%\\xbe\\xae\\xbb\\xfc\\xc6\\xfd\\xcd\\xd2\\xc4\\x04n\\x83\\x91\\xd3\\xbf8#\\xb0\\xc7\\\\\\xd7\\xa1\\xab\\x98\\xe3C\\xb3\\r\\x1f\\xcd\\xb8\\x93\\xc9\\x1dx\\'\\xeb\\xf8\\xd1q\\xa7\\rJ\\x16K\\xe4\\x8c\\xc36cx\\x99\\x1b\\xe6\\xc7 \\x1f\\xc8r;\\xf2=D\\xca*[\\x918)-N=\\xcc7\\x96\\x89*N\\x1dN\\x008\\xe3\\'9`O\\x00\\x1c\\x0fL\\xd4^m\\xd2E$fTh$8c\\xb0\\x1c\\xe0\\xf1\\xd4rr3\\x91\\xff\\x00\\xea\\x9a\\xeb\\xc0RZ\\x81{\\xa0^\\x1bINO\\x91)\\xdf\\x1bv\\x18\\xc8$u<\\xb0<\\x91\\xd3\\xa8\\xe7\\x87\\x88\\xe6\\xb4\\x94\\xe9\\xfa\\xac&\\xd6x\\x86\\xd9\\x1e>\\x8c@\\xef\\x8f\\\\\\x0e\\x99\\x199\\xc0\\x15\\xcf*Mlr\\xce\\x8c\\xa2n\\xcb\\xf6\\xa8\\xd0+\\xc8\\x8b\\xb7\\x80\\x1d\\xb3\\x8c\\x8ex \\x8e\\xb8\\xc8\\xea\\x7f:K{}\\xa0M\\xbc\\x14$\\xb3!Q\\x8c\\x0f\\x97\\xd3\\xa1\\'\\xf3\\x14\\t-.\\x15f\\x8aU\\x9c\\xc9\\xc6L\\x9dx\\xc9\\xc7~\\xe3\\x9a\\xb3\\xe7\\xf9Sy\\x91.b+\\x8d\\xa4\\x06\\xdb\\xb9p@\\xfdpNzVf$\\xb0\\xb1\\x16w;c\\x8e8\\xc6\\x1bqS\\xc0 \\x8d\\xb9\\x1f\\xde\\xdf\\x8f|~\\x06\\x98\\x8c\",\\xbbw\\x16\\x1c\\xb2\\x9c\\xaf\\xa1\\x1c\\xf28<\\x8e}zc/\\x94\\xc8\\xb9\\x80\\xc0\\xe8\\xe1\\x8a\\xb1\\x95\\xfat\\xcf\\xcb\\xdb\\x91\\x9f\\xc0Tm\\x08\\x9d\\xd8\\x16v`~\\xea\\xb0o\\x9b\\xbf\\xcb\\xf8f\\x90\\x12\\xdc9\\x99gd?*\\xb8#\\xa0\\xdd\\x80{g\\xb0\\xec:d\\xf2\\x01\\xa2H\\x04Ja\\x12\\xb3\\x94\\xc3\\xb8\\x07aF\\xc7\\xcc\\x0f\\xf2\\xfa\\x81\\xd3\\x9a\\x88\\xce\\xb1Hf\\x8e@N\\xfc\\xc9\\x1a\\xb6YFpN8\\x18\\xe7\\xa1\\xf5\\xe8i\\xae%\\x92M\\xd2\\xb3\\xa4\\xaa\\xa6BH\\xe5\\xb8\\xc8\\xeb\\xd0\\x90x\\xeb\\xda\\x8b\\x81:\\x18\\xa7\"h\\xdd\\xd6h\\x98\\x00T\\x16R2H\\xcex\\xcf\\xa7\\x1c\\xe6\\x9bl\\xff\\x00g\\xbe\\xf2\\xda\\xddnP\\x03\\x90\\t\\xfb\\xb8\\xcf\\'\\x1dFy\\xc8=*\\xa4\\x91\\x82\\x1dcT\\x1c\\xed\\x02@2>\\xb8\\xf4\\xe7\\xaf\\xa75,\\xd3\\xe0\\x05\\x91Jm\\xda\\xca\\x01\\xcez\\x13\\xdf\\x8e\\xb98\\xe3\\xaf\\x1c\\xd3B$\\xb8\\xdb\\x0c\\xab\\x16\\x7fy\\xb41U,\\xb8\\xc8\\xe8s\\xc9\\xe7\\x8e\\x0fA\\xd3\\x9e&\\x91F\\x9e\\xab\\x1c\\x8a\\xe1\\xc6W\\xcbe\\xe1[#9\\x1f\\xec\\x8cg\\xaf\\xbfL\\x1a\\xa0$a_1\\xef\\x91\\xbef\\x00\\xe4\\x0f\\xef\\x1e\\xdd\\xf1\\x91\\xfd\\xdc\\xe3=P\\xcb\\x17\\xda\\x87\\x96\\xe1Y\\x8b,[\\x86\\x1d\\xc6x\\xda\\xbc\\xe4\\xfb\\x0c\\xf2@\\x14\\r+\\x92\\xbc\\xee\\x16X\\xedcx\\xe5\\x90\\x0e7\\xee*\\xad\\xf3a\\xb8\\xe4\\x8e;{\\xf0@\\xad\\xed7D\\x81\\xed$]E\"\\x90\\xc9\\x86\\t2\\x06\\xcf\\x07\\'\\xa7^\\xfc`\\xe7\\x18\\xe7\\xa5\\x8d/H[\\x0bh\\xee\\xa7P\\xb21\\xc3+m\\x05x\\xcb\\x0e;\\x8f\\xaf\\xf1g\\xde\\xb4\\x16?\\xdf\\x9d\\x90(\\x91\\xc1*\\xa2m\\xaaI\\xe7 \\xb1\\xe0\\x1cz\\xf3\\x9e\\xb9\\xad\\xa9\\xd2w\\xe6\\x91\\xd5J\\x8d\\x9f4\\x8f1\\xf1g\\x83\\xe7\\xd1\\xaf\\xe4\\xd4tx\\xdd\\xecU\\xbc\\xdf\\x90\\x16\\xfb9\\xcfNy\\xda8\\xe4\\xfd\\x0eO&\\xdf\\x87|LnfX\\xd9\\xb6^1\\x06H\\xc0\\n\\x92\\xe0\\xf5\\x19\\xe8q\\xcf\\xa7\\xb5z\\x1d\\xeb\\xc3\\x15\\x8c\\xd7\\x17\\x8f\\x12[\\xfc\\xc91\\x98\\x80\\n\\xe4\\x01\\xd4d\\x83\\xf3\\x0f~\\x80W\\x9d\\x18<?.\\xab\\xfd\\xa9\\xa4HZUP\\xc6\\x14V\\x8d\"\\x93\\x8f\\x98g\\x9ey\\xe3\\x901\\xc7l\\x15\\xe9FQ\\xd4\\xba\\x89%s{U\\xb7]SI6\\xbeqH7+\\x80\\xbc\\x84n{g\\x9e\\xa7#\\xdf\\xf2\\x9bD\\xb1[K\\xcbT\\x89\\x83\"0?9\\xc0+\\xd3\\x92\\x0f\\xe7\\x8f\\xff\\x00U[y\\xd67!\\xc0\\xde\\xc3p\\n\\xe1@\\xeeI\\xe3\\x8e\\x9f\\xe7\\xbe\\xde\\x9d\\x02<\\xc2T\\x0c\\xb1\\x95\\x1f1\\x18\\x03\\xeb\\xf5\\xe3\\xf3\\xae\\x18s\\xb9F\\x1eb\\xa6\\xf9\\x91\\xbf\\xb1e\\x91TL\\xb2\\x14\\xe5\\x9bo\\xdd$\\x0f\\x94\\xe7\\x9e\\x84~\\x07\\xbfZl\\xdb\\xa3u\\xc0\\x04\\xe4\\x1e\\x0e\\xe0=\\xba\\x7f\\x87<\\xd2;\\x94r\\xc4\\xedB\\x0b+(\\xf9r\\x06H\\xc9\\x1cc\\xdc\\x7f:A\\x97\\x897\\x06\\xf2I\\xcb\\x11\\x93\\xd0\\xe7<\\xf7\\xc0\\xfat\\xeb\\xcd{\\x06\\xa6D\"(\\xa2\\n\\xaa\\xe5\\xc3\\x97d\\x9dC*\\x8e\\xfcu\\xe4\\xe0g\\xebM\\x95\\x9d\\xc8\\x91QP\\x9f\\x9026\\xe3\\x81\\xc8\\xe8?\\x1c\\xe3\\xd0\\xd4\\xf0;yk\\x16X\\xcc\\x13wQ\\xf5,}\\x8e\\x07c\\xd3\\xda\\x88\\x19fp\\xcf\\xe6o\\x0cb\\x8c\\x05\\xc1\\xdb\\x921\\x9fL\\x1e\\xc2\\xa4\\xb1\\x96\\xf6\\xd3\\x81\"\\xcf\\x1c\\xf1\\xc9\\x13\\x85c\\xb8\\x1d\\xdcu\\xe0\\xe7\\xb6\\x08>\\x86\\x9cf1\\xce\\xaf\\x1c\\xa8#m\\xc0\\xf9n\\xb22!\\xe3\\x00\\xf1\\x9e;t\\x00\\xe0\\xfb\\xb0\\x9f\\x9aAncy\\x17%\\x879<`g\\xae;\\xe3\\x1dz\\xfa\\xe1\\xc4\\xa9\\xb7\\xceUe #2\\xf1\\xb8g\\x198\\xe9\\xc1\\xf7\\xe8(\\x00W?h\\x8bz\\x16\\xdcG\\x04\\x9c\\xf6\\xc9\\x04~\\\\\\xf6\\xc8\\xc0\\xc5N\\xc0I\\x0c\\xf1+\\xba\\x87\\x08\\xbb\\x06>\\xeeA\\xfc[\\x8cg\\xdc\\xf3\\xcdTW\\x8bt\\xa5\\x14\\t\\nd\\x15<\\x11\\xd0u\\xf6\\xdc}1\\xfa\\xce\\x1aFF\\xc6\\xd7\\x03\\x94X\\xf9*wt\\xf5\\xc1\\x19\\x1f\\xfe\\xbab\\x1e\\xb1\\xc7\\x0f\\x9a\\xbb$y~V\\xdd\\x82r1\\xec\\x088\\x07=\\xfa\\n\\x91\\xc4R?\\xc8~Y\\x17p\\xf9v\\x11\\x9e@\\x00\\x0f@=@\\xe7\\xbfGE\\x88J\\x19BI\\xfcNW\\xaap\\x02\\x81\\xc9\\x0e8 \\x83\\xfc9\\xf7\\x01\\x93\\x18\\xca\\xb3[\\xc4\"W,@\\x04\\x8cs\\x9c\\xfb}\\xec\\xe7\\x18\\xfc\\xa8\\x02Exb\\x19\\x92&|\\xa8!\\x91\\x87\\xcb\\x93\\x82;\\xf2@ T\\xe93Cf\\xc2Y\\x15D\\xfc\\x10\\xcd\\x93\\xeb\\x92\\x14u\\xc1#\\xeaz\\xf4\\x06\\'\\xb7\\x8c\\x8f\\xdd\\x059\\x0c\\x15\\x17\\xa8\\xcf9c\\xcf\\xe1\\x8c\\x1e\\xa4\\x8e\\x052I\\x1a\\x05\\x92%\\x10\\x99p\\x15\\x08\\xc1\\xdd\\x83\\xd7nI\\x00\\xed=x\\xe7\\xa7L \\x1a\\xe1\\x1d\\x94Z\\xbb\\xb6_\\x00J\\xa3\\'\\x03\\x9c\\xf3\\xdf\\x8f\\xa6G\\xd6\\xa4\\x8c(\\xb6\\x0c\\xb1$\\x88I,\\xa5\\x86\\xd2\\xb8\\x18\\x19S\\xceA<\\xe0\\xf4\\xe0\\x9c\\x10!W\\xb72\\xefp\\xcf\\x16\\xdd\\xe8\\xbbF1\\xcf\\\\\\x93\\x928\\x1d?3\\x9c\\x90C2\\xa9YU\\xce\\xc6\\'|\\x91\\xff\\x00\\x01\\xc9\\xe0\\x8e\\xbct<\\xf4\\x07\\x14\\x01i\\xd9g\\xb5Y\\xe3\\x94\\x88\\xd4m*\\xa3\\x03\\x18!\\xb0\\x068\\x04\\x9eO=8\\xe8+3S\\xd0\\xac5X\\xd2-F\\xd1\\\\\\x92\\xca\\x8c\\xcb\\x829\\xeb\\xb9r@\\xcf\\xa0\\xed\\xd8qZq\\xddOk!x\\x129bb]\\x94\\x9d\\xfb\\xb9\\xda>\\x8b\\xcf\\\\\\x1c\\xfa\\x1c\\xd2N\\xf2$\\x8e\\x91\\xb0\\x8e)# \\x85 \\x8c\\x8e\\xfc\\x1e\\xc0c\\x1e\\xa3\\xa9\\x04\\xe0\\x11\\xc2\\xcb\\xf0\\xe7O\\x85\\xe7\\x82\\xdbQ\\xd4-\\xa6\\x0c\\xa4r\\xa5U\\xc1\\xc1\\x05~S\\x907\\x90s\\x9cf\\xb3\\xc7\\x86<U\\xa6,\\x82\\xd6k[\\xe4F\\xfd\\xda\\xbc\\x98\\x93\\xaf\\x07\\x04\\x8eH=2q\\x8cW\\xa2N\\xec\\xe1\\x8b\\xa3\\x96P#}\\xeaAV\\xdd\\xc8\\xe0\\xe3\\xa6r?S\\xd8Xc\\x8e\\xe0\\xee\\xd8>R\\xcad;\\xf7\\x122\\x068\\xe0\\x9c~\\x1e\\xf5.)\\xeeK\\x84^\\xe8\\xf3\\xab\\x89\\xb5\\xebUF\\xbb\\xf0\\xdd\\xcaC!\\xca\\xbc_\\xbc\\x03\\x18\\xe9\\xb7\\x18\\xfcOC\\xdf\\x8aX\\xef/\\x8c\\xaf\\xb3C\\xd5U\\xc2\\xe1A\\xb4f$\\x928\\x1c`\\x1e\\t\\xed\\xde\\xbd\\x04 \\x86]\\xbb\\xb0U\\x94\\xef\\x01I\\x18`OA\\x8c\\xfb\\xe2\\xa3\\x9e\\x032\\x1d\\xe5U\\xda2|\\xbd\\xe0u\\xe3\\xafn\\x0eA\\xfa{T{\\x18\\x91\\xec pw\\x17\\xd2\\xd9\\xc3\\xbe]\\x07S\\x10\\x98\\x89\\x12\\xb5\\xb3\\x81\\xcf<\\xee\\xc0\\xeb\\xd7\\x1e\\x9e\\x9ds\\x0e\\xbfb!tvh\\xa5\\x0c\\x13\\x1b\\\\p\\x07Q\\xed\\x91\\x8ey\\xe9\\xf8z\\x82\\xb4d\\xac*F\\xdd\\x81\\x94\\x14\\xf9\\x879\\xc3n\\x1c\\xf7\\xe3=\\xfb\\xe3\\x81\\xad\"\\xbf\\xb4\\x96-AQp>U\\x917\\xae\\x06\\x0f<pwm?\\x90>\\xa0\\xf61\\x17\\xd5\\xe2y\\x9c\\xde#\\xd2\\xdc\\xc6\\x9b\\xb8^\\xbeXq\\x9e\\x0erX\\x1eNq\\xe9\\xed\\xeb]u\\xe8\\x8c\\xaa\\xb6\\xf6\\xf7\\x17\\xb2\\x0c\\x15U\\x00u\\xe7\\xd0\\x9e\\t\\x19\\xe3\\x07\\xd7\\xbdzp\\xf0\\xfe\\x8d%\\xc0\\xff\\x00\\x89E\\x96Q\\xc0\\x05m\\x11B\\xb1\\x04\\x8c\\xf4\\x07\\xd3\\x04c\\xeay\\x17\\x12\\xd2\\xd2\\x18\\xa1H\\xa0)\\x11\\nQUH\\xe0w\\x03\\xb8\\x1f\\x97A\\xd0\\x1a\\x15\\x18\\x89P\\x89\\xe66V\\xbe+\\xd5%U\\x86\\xce;\\x14U2\\x16\\x96=\\xaa@\\x1c\\x02\\x1f=\\xc7\\xa7\\xf1s\\xc7N\\xd3B\\xf0\\xf4Z\"\\xdcHne\\xba\\xbc\\x96/.I\\xe4\\x9b\\xa7L\\xff\\x00\\xba\\x0e\\x179$\\xf1\\x8a\\xd8y\\xc4\\xb3\\xac\\x85\\x038\\x8c\\x96V\\x19,\\xc78\\x07\\x9e\\x00\\xe0\\x1e;t\\xf5E\\x8eD\\x91\\x86\\xd8\\xd8\\xc6\\xcb\\x1e\\x02\\x92\\xdd\\x00>\\x879\\x1c\\xf4\\xef\\xc7\\x1c\\xe8\\xa2\\x96\\xc8\\xd5AGb\\xd2d4o;\\x84i\\x17\\x02M\\xbbs\\xf2\\x93\\x91\\x9e3\\x8e:\\xf1\\xbb5R\\xde8.\\x9d\\xfc\\x99c\\xd9,\\x98<\\xf0\\xac1\\x85\\x1c\\x9e\\xf99\\xf5\\xebR\\x03\\x18(\\xca\\x9bU\\xa4\\x01\\t<\\xe5Gn\\x8b\\x9c\\x9eG`~\\xb5,\\x96\\x8ee\\x00lA\\x92\\xa7v0\\x08\\xfb\\xc5[89\\'#\\xa8\\xc7\\xadQG\\x01\\xf15\\xee\\x05\\x86\\x9c\\x8a\\\\\\xdb\\x16fr\\x07\\xcb\\xbf\\x03nO\\xae\\x0b\\x11\\xf5\\xaf;\\xb6\\x9ax\\'W\\xb7gG\\xfb\\xa0\\xaf\\x7fj\\xfa\\nO\\xf4\\xb8\\x9e\\xdaH\\x94\\xc0\\x03\\t\\x03\\xc5\\x9f\\x9b\\xbe\\xe3\\x8c\\xe0\\xe4\\x9c\\x1f\\xcb<Vt\\x1e\\x1c\\xd3\\xac.E\\xd4\\x1at\\x16\\xf7E\\xb6\\x97\\xf2\\x81Ta\\x8f\\xbb\\x9e\\x10\\xf1\\xd4t\\xcfnI=Hq\\xb9R\\xdf\\xc3h!\\x83\\xedj\\xc2g\\x88Gsn\\x00\\n$`A!\\xd4\\x8e\\x01 q\\x9e{\\xd6\\xdd\\xa2Z\\xdaD\\xd0)\\x01F\\x08@rc \\xe0\\xe4\\xb7$\\xe7\\xa9?\\xaeqM*\\xd6\\xf2\\xb40\\xb3\\xee`U\\xcb\\xe0\\x069\\xc8\\xc79\\x1f\\x8f\\xbf\\x1d(Aq\\xe43\\x15\\x0c\\xecJ\\x90I\\x00\\xff\\x00w\\xd8t#\\xf1\\xf5\\xa9\\x8c#\\x1d\\x86\\xa2\\x96\\xc4\\xed\\x14`#\\x02\\xb1\\x12\\xbf*\\x9e\\x9bF\\x01\\xe3\\x9c\\x9c\\x86\\xff\\x00\\xbeO4\\x91\\x02\\x11\\x96\\x05g\\x93\\x006\\x1c\\x06-\\x9cn\\x00\\x9c\\xe7\\xefv\\xe3\\x06\\xa0\\x95Z\\x1bpcfIO\\x06FB\\xcb\\x8e\\xa4\\xe7#\\x83\\xd3\\xf2\\xe4\\xe2\\xa2A:\\xc9\\xb6Y@\\xde\\xb8\\xe0\\x13\\x93\\xb7\\x03\\xfc\\xe3\\x1c\\xf7\\xe2\\xacg\\xff\\xd9'}"
            ]
          },
          "metadata": {},
          "execution_count": 9
        }
      ]
    },
    {
      "cell_type": "code",
      "source": [],
      "metadata": {
        "id": "wAVlOkIek7SQ"
      },
      "execution_count": null,
      "outputs": []
    },
    {
      "cell_type": "code",
      "source": [
        "classes=['Tomato__Target_Spot',\n",
        " 'Tomato_Late_blight',\n",
        " 'Pepper__bell___healthy',\n",
        " 'Potato___Late_blight',\n",
        " 'Tomato__Tomato_YellowLeaf__Curl_Virus',\n",
        " 'Tomato_Spider_mites_Two_spotted_spider_mite',\n",
        " 'Pepper__bell___Bacterial_spot',\n",
        " 'Tomato_Septoria_leaf_spot',\n",
        " 'Tomato_Leaf_Mold',\n",
        " 'Potato___healthy',\n",
        " 'Tomato__Tomato_mosaic_virus',\n",
        " 'Tomato_Bacterial_spot',\n",
        " 'Tomato_Early_blight',\n",
        " 'Tomato_healthy',\n",
        " 'Potato___Early_blight']"
      ],
      "metadata": {
        "id": "OjVpdwJZk7Vh"
      },
      "execution_count": 12,
      "outputs": []
    },
    {
      "cell_type": "code",
      "source": [
        "# Read the JPEG photo\n",
        "image =Image.open('/content/1dcfeaa9-006d-470c-b3e5-d67609d07d4e___RS_HL 1808.JPG').convert(\"RGB\")\n",
        "\n",
        "# Define a transform to resize the image to 64x64\n",
        "predict_transform = transforms.Compose([\n",
        "    transforms.Resize((64, 64)),\n",
        "    transforms.ToTensor()\n",
        "])\n",
        "\n",
        "# Convert the image to a tensor\n",
        "img_tensor = predict_transform(image).unsqueeze(dim=0)\n",
        "outputs=model(img_tensor)\n",
        "outputs = model(img_tensor)\n",
        "\n",
        "_, predicted = torch.max(outputs.logits, 1)\n",
        "classes[int(predicted)]"
      ],
      "metadata": {
        "colab": {
          "base_uri": "https://localhost:8080/",
          "height": 36
        },
        "id": "goM9O4yQ0rbN",
        "outputId": "8e9e3be5-aa63-4cb5-a629-bd565efa3c04"
      },
      "execution_count": 13,
      "outputs": [
        {
          "output_type": "execute_result",
          "data": {
            "text/plain": [
              "'Potato___healthy'"
            ],
            "application/vnd.google.colaboratory.intrinsic+json": {
              "type": "string"
            }
          },
          "metadata": {},
          "execution_count": 13
        }
      ]
    }
  ],
  "metadata": {
    "accelerator": "GPU",
    "colab": {
      "machine_shape": "hm",
      "provenance": [],
      "gpuType": "T4",
      "authorship_tag": "ABX9TyNXjzTb8UevcNgAGnyRWObp",
      "include_colab_link": true
    },
    "kernelspec": {
      "display_name": "Python 3",
      "name": "python3"
    },
    "language_info": {
      "name": "python"
    },
    "widgets": {
      "application/vnd.jupyter.widget-state+json": {
        "5558f0064d264205b443dda25a55ffe4": {
          "model_module": "@jupyter-widgets/controls",
          "model_name": "HBoxModel",
          "model_module_version": "1.5.0",
          "state": {
            "_dom_classes": [],
            "_model_module": "@jupyter-widgets/controls",
            "_model_module_version": "1.5.0",
            "_model_name": "HBoxModel",
            "_view_count": null,
            "_view_module": "@jupyter-widgets/controls",
            "_view_module_version": "1.5.0",
            "_view_name": "HBoxView",
            "box_style": "",
            "children": [
              "IPY_MODEL_c9cee8adf3dd43e18edfa1849d9fd88c",
              "IPY_MODEL_93c4a9cb2e854ff58916d829f699528d",
              "IPY_MODEL_b38d86176f7b47c1ad26f7a222b8cb21"
            ],
            "layout": "IPY_MODEL_94bf10fd4a1e4d2db3684561a46c5300"
          }
        },
        "c9cee8adf3dd43e18edfa1849d9fd88c": {
          "model_module": "@jupyter-widgets/controls",
          "model_name": "HTMLModel",
          "model_module_version": "1.5.0",
          "state": {
            "_dom_classes": [],
            "_model_module": "@jupyter-widgets/controls",
            "_model_module_version": "1.5.0",
            "_model_name": "HTMLModel",
            "_view_count": null,
            "_view_module": "@jupyter-widgets/controls",
            "_view_module_version": "1.5.0",
            "_view_name": "HTMLView",
            "description": "",
            "description_tooltip": null,
            "layout": "IPY_MODEL_013684b8884e486090540f78298b0c4d",
            "placeholder": "​",
            "style": "IPY_MODEL_a93113df91854ba7ba3a673dcf5dc493",
            "value": "Downloading (…)lve/main/config.json: 100%"
          }
        },
        "93c4a9cb2e854ff58916d829f699528d": {
          "model_module": "@jupyter-widgets/controls",
          "model_name": "FloatProgressModel",
          "model_module_version": "1.5.0",
          "state": {
            "_dom_classes": [],
            "_model_module": "@jupyter-widgets/controls",
            "_model_module_version": "1.5.0",
            "_model_name": "FloatProgressModel",
            "_view_count": null,
            "_view_module": "@jupyter-widgets/controls",
            "_view_module_version": "1.5.0",
            "_view_name": "ProgressView",
            "bar_style": "success",
            "description": "",
            "description_tooltip": null,
            "layout": "IPY_MODEL_375ac6d16b2c40b1ae2be71a9f5bc1e6",
            "max": 69557,
            "min": 0,
            "orientation": "horizontal",
            "style": "IPY_MODEL_8d1fd5000a1f405c8d3d3ac24a054cae",
            "value": 69557
          }
        },
        "b38d86176f7b47c1ad26f7a222b8cb21": {
          "model_module": "@jupyter-widgets/controls",
          "model_name": "HTMLModel",
          "model_module_version": "1.5.0",
          "state": {
            "_dom_classes": [],
            "_model_module": "@jupyter-widgets/controls",
            "_model_module_version": "1.5.0",
            "_model_name": "HTMLModel",
            "_view_count": null,
            "_view_module": "@jupyter-widgets/controls",
            "_view_module_version": "1.5.0",
            "_view_name": "HTMLView",
            "description": "",
            "description_tooltip": null,
            "layout": "IPY_MODEL_6c530b490c2f430e809d6339341fb42f",
            "placeholder": "​",
            "style": "IPY_MODEL_7be4943d85374dd99d57ea46d8a18542",
            "value": " 69.6k/69.6k [00:00&lt;00:00, 357kB/s]"
          }
        },
        "94bf10fd4a1e4d2db3684561a46c5300": {
          "model_module": "@jupyter-widgets/base",
          "model_name": "LayoutModel",
          "model_module_version": "1.2.0",
          "state": {
            "_model_module": "@jupyter-widgets/base",
            "_model_module_version": "1.2.0",
            "_model_name": "LayoutModel",
            "_view_count": null,
            "_view_module": "@jupyter-widgets/base",
            "_view_module_version": "1.2.0",
            "_view_name": "LayoutView",
            "align_content": null,
            "align_items": null,
            "align_self": null,
            "border": null,
            "bottom": null,
            "display": null,
            "flex": null,
            "flex_flow": null,
            "grid_area": null,
            "grid_auto_columns": null,
            "grid_auto_flow": null,
            "grid_auto_rows": null,
            "grid_column": null,
            "grid_gap": null,
            "grid_row": null,
            "grid_template_areas": null,
            "grid_template_columns": null,
            "grid_template_rows": null,
            "height": null,
            "justify_content": null,
            "justify_items": null,
            "left": null,
            "margin": null,
            "max_height": null,
            "max_width": null,
            "min_height": null,
            "min_width": null,
            "object_fit": null,
            "object_position": null,
            "order": null,
            "overflow": null,
            "overflow_x": null,
            "overflow_y": null,
            "padding": null,
            "right": null,
            "top": null,
            "visibility": null,
            "width": null
          }
        },
        "013684b8884e486090540f78298b0c4d": {
          "model_module": "@jupyter-widgets/base",
          "model_name": "LayoutModel",
          "model_module_version": "1.2.0",
          "state": {
            "_model_module": "@jupyter-widgets/base",
            "_model_module_version": "1.2.0",
            "_model_name": "LayoutModel",
            "_view_count": null,
            "_view_module": "@jupyter-widgets/base",
            "_view_module_version": "1.2.0",
            "_view_name": "LayoutView",
            "align_content": null,
            "align_items": null,
            "align_self": null,
            "border": null,
            "bottom": null,
            "display": null,
            "flex": null,
            "flex_flow": null,
            "grid_area": null,
            "grid_auto_columns": null,
            "grid_auto_flow": null,
            "grid_auto_rows": null,
            "grid_column": null,
            "grid_gap": null,
            "grid_row": null,
            "grid_template_areas": null,
            "grid_template_columns": null,
            "grid_template_rows": null,
            "height": null,
            "justify_content": null,
            "justify_items": null,
            "left": null,
            "margin": null,
            "max_height": null,
            "max_width": null,
            "min_height": null,
            "min_width": null,
            "object_fit": null,
            "object_position": null,
            "order": null,
            "overflow": null,
            "overflow_x": null,
            "overflow_y": null,
            "padding": null,
            "right": null,
            "top": null,
            "visibility": null,
            "width": null
          }
        },
        "a93113df91854ba7ba3a673dcf5dc493": {
          "model_module": "@jupyter-widgets/controls",
          "model_name": "DescriptionStyleModel",
          "model_module_version": "1.5.0",
          "state": {
            "_model_module": "@jupyter-widgets/controls",
            "_model_module_version": "1.5.0",
            "_model_name": "DescriptionStyleModel",
            "_view_count": null,
            "_view_module": "@jupyter-widgets/base",
            "_view_module_version": "1.2.0",
            "_view_name": "StyleView",
            "description_width": ""
          }
        },
        "375ac6d16b2c40b1ae2be71a9f5bc1e6": {
          "model_module": "@jupyter-widgets/base",
          "model_name": "LayoutModel",
          "model_module_version": "1.2.0",
          "state": {
            "_model_module": "@jupyter-widgets/base",
            "_model_module_version": "1.2.0",
            "_model_name": "LayoutModel",
            "_view_count": null,
            "_view_module": "@jupyter-widgets/base",
            "_view_module_version": "1.2.0",
            "_view_name": "LayoutView",
            "align_content": null,
            "align_items": null,
            "align_self": null,
            "border": null,
            "bottom": null,
            "display": null,
            "flex": null,
            "flex_flow": null,
            "grid_area": null,
            "grid_auto_columns": null,
            "grid_auto_flow": null,
            "grid_auto_rows": null,
            "grid_column": null,
            "grid_gap": null,
            "grid_row": null,
            "grid_template_areas": null,
            "grid_template_columns": null,
            "grid_template_rows": null,
            "height": null,
            "justify_content": null,
            "justify_items": null,
            "left": null,
            "margin": null,
            "max_height": null,
            "max_width": null,
            "min_height": null,
            "min_width": null,
            "object_fit": null,
            "object_position": null,
            "order": null,
            "overflow": null,
            "overflow_x": null,
            "overflow_y": null,
            "padding": null,
            "right": null,
            "top": null,
            "visibility": null,
            "width": null
          }
        },
        "8d1fd5000a1f405c8d3d3ac24a054cae": {
          "model_module": "@jupyter-widgets/controls",
          "model_name": "ProgressStyleModel",
          "model_module_version": "1.5.0",
          "state": {
            "_model_module": "@jupyter-widgets/controls",
            "_model_module_version": "1.5.0",
            "_model_name": "ProgressStyleModel",
            "_view_count": null,
            "_view_module": "@jupyter-widgets/base",
            "_view_module_version": "1.2.0",
            "_view_name": "StyleView",
            "bar_color": null,
            "description_width": ""
          }
        },
        "6c530b490c2f430e809d6339341fb42f": {
          "model_module": "@jupyter-widgets/base",
          "model_name": "LayoutModel",
          "model_module_version": "1.2.0",
          "state": {
            "_model_module": "@jupyter-widgets/base",
            "_model_module_version": "1.2.0",
            "_model_name": "LayoutModel",
            "_view_count": null,
            "_view_module": "@jupyter-widgets/base",
            "_view_module_version": "1.2.0",
            "_view_name": "LayoutView",
            "align_content": null,
            "align_items": null,
            "align_self": null,
            "border": null,
            "bottom": null,
            "display": null,
            "flex": null,
            "flex_flow": null,
            "grid_area": null,
            "grid_auto_columns": null,
            "grid_auto_flow": null,
            "grid_auto_rows": null,
            "grid_column": null,
            "grid_gap": null,
            "grid_row": null,
            "grid_template_areas": null,
            "grid_template_columns": null,
            "grid_template_rows": null,
            "height": null,
            "justify_content": null,
            "justify_items": null,
            "left": null,
            "margin": null,
            "max_height": null,
            "max_width": null,
            "min_height": null,
            "min_width": null,
            "object_fit": null,
            "object_position": null,
            "order": null,
            "overflow": null,
            "overflow_x": null,
            "overflow_y": null,
            "padding": null,
            "right": null,
            "top": null,
            "visibility": null,
            "width": null
          }
        },
        "7be4943d85374dd99d57ea46d8a18542": {
          "model_module": "@jupyter-widgets/controls",
          "model_name": "DescriptionStyleModel",
          "model_module_version": "1.5.0",
          "state": {
            "_model_module": "@jupyter-widgets/controls",
            "_model_module_version": "1.5.0",
            "_model_name": "DescriptionStyleModel",
            "_view_count": null,
            "_view_module": "@jupyter-widgets/base",
            "_view_module_version": "1.2.0",
            "_view_name": "StyleView",
            "description_width": ""
          }
        },
        "9d11ea481f4049479ff7b693646fb2d3": {
          "model_module": "@jupyter-widgets/controls",
          "model_name": "HBoxModel",
          "model_module_version": "1.5.0",
          "state": {
            "_dom_classes": [],
            "_model_module": "@jupyter-widgets/controls",
            "_model_module_version": "1.5.0",
            "_model_name": "HBoxModel",
            "_view_count": null,
            "_view_module": "@jupyter-widgets/controls",
            "_view_module_version": "1.5.0",
            "_view_name": "HBoxView",
            "box_style": "",
            "children": [
              "IPY_MODEL_70d7bc2a0c224bceb92321a6ea49c92a",
              "IPY_MODEL_8ae1ef13b93a4e0b8e7346e876d4cf51",
              "IPY_MODEL_cc270037d2984b47b7ceb74a526bff61"
            ],
            "layout": "IPY_MODEL_0d26397f34024c18a431d803ded67842"
          }
        },
        "70d7bc2a0c224bceb92321a6ea49c92a": {
          "model_module": "@jupyter-widgets/controls",
          "model_name": "HTMLModel",
          "model_module_version": "1.5.0",
          "state": {
            "_dom_classes": [],
            "_model_module": "@jupyter-widgets/controls",
            "_model_module_version": "1.5.0",
            "_model_name": "HTMLModel",
            "_view_count": null,
            "_view_module": "@jupyter-widgets/controls",
            "_view_module_version": "1.5.0",
            "_view_name": "HTMLView",
            "description": "",
            "description_tooltip": null,
            "layout": "IPY_MODEL_94e1a1c1ffee461aaa01d1fabd7ecf87",
            "placeholder": "​",
            "style": "IPY_MODEL_1ac68c29378444fe92a9ac152f4d62e6",
            "value": "Downloading model.safetensors: 100%"
          }
        },
        "8ae1ef13b93a4e0b8e7346e876d4cf51": {
          "model_module": "@jupyter-widgets/controls",
          "model_name": "FloatProgressModel",
          "model_module_version": "1.5.0",
          "state": {
            "_dom_classes": [],
            "_model_module": "@jupyter-widgets/controls",
            "_model_module_version": "1.5.0",
            "_model_name": "FloatProgressModel",
            "_view_count": null,
            "_view_module": "@jupyter-widgets/controls",
            "_view_module_version": "1.5.0",
            "_view_name": "ProgressView",
            "bar_style": "success",
            "description": "",
            "description_tooltip": null,
            "layout": "IPY_MODEL_98b5861c60704401b2f70f22dfba2d59",
            "max": 241501822,
            "min": 0,
            "orientation": "horizontal",
            "style": "IPY_MODEL_c523d639e14a462a9bbdb3908d6a706c",
            "value": 241501822
          }
        },
        "cc270037d2984b47b7ceb74a526bff61": {
          "model_module": "@jupyter-widgets/controls",
          "model_name": "HTMLModel",
          "model_module_version": "1.5.0",
          "state": {
            "_dom_classes": [],
            "_model_module": "@jupyter-widgets/controls",
            "_model_module_version": "1.5.0",
            "_model_name": "HTMLModel",
            "_view_count": null,
            "_view_module": "@jupyter-widgets/controls",
            "_view_module_version": "1.5.0",
            "_view_name": "HTMLView",
            "description": "",
            "description_tooltip": null,
            "layout": "IPY_MODEL_15005f4279e64071b70cc9600f0cb07c",
            "placeholder": "​",
            "style": "IPY_MODEL_2e0418a1336e4782a7997167baca78a3",
            "value": " 242M/242M [00:13&lt;00:00, 19.9MB/s]"
          }
        },
        "0d26397f34024c18a431d803ded67842": {
          "model_module": "@jupyter-widgets/base",
          "model_name": "LayoutModel",
          "model_module_version": "1.2.0",
          "state": {
            "_model_module": "@jupyter-widgets/base",
            "_model_module_version": "1.2.0",
            "_model_name": "LayoutModel",
            "_view_count": null,
            "_view_module": "@jupyter-widgets/base",
            "_view_module_version": "1.2.0",
            "_view_name": "LayoutView",
            "align_content": null,
            "align_items": null,
            "align_self": null,
            "border": null,
            "bottom": null,
            "display": null,
            "flex": null,
            "flex_flow": null,
            "grid_area": null,
            "grid_auto_columns": null,
            "grid_auto_flow": null,
            "grid_auto_rows": null,
            "grid_column": null,
            "grid_gap": null,
            "grid_row": null,
            "grid_template_areas": null,
            "grid_template_columns": null,
            "grid_template_rows": null,
            "height": null,
            "justify_content": null,
            "justify_items": null,
            "left": null,
            "margin": null,
            "max_height": null,
            "max_width": null,
            "min_height": null,
            "min_width": null,
            "object_fit": null,
            "object_position": null,
            "order": null,
            "overflow": null,
            "overflow_x": null,
            "overflow_y": null,
            "padding": null,
            "right": null,
            "top": null,
            "visibility": null,
            "width": null
          }
        },
        "94e1a1c1ffee461aaa01d1fabd7ecf87": {
          "model_module": "@jupyter-widgets/base",
          "model_name": "LayoutModel",
          "model_module_version": "1.2.0",
          "state": {
            "_model_module": "@jupyter-widgets/base",
            "_model_module_version": "1.2.0",
            "_model_name": "LayoutModel",
            "_view_count": null,
            "_view_module": "@jupyter-widgets/base",
            "_view_module_version": "1.2.0",
            "_view_name": "LayoutView",
            "align_content": null,
            "align_items": null,
            "align_self": null,
            "border": null,
            "bottom": null,
            "display": null,
            "flex": null,
            "flex_flow": null,
            "grid_area": null,
            "grid_auto_columns": null,
            "grid_auto_flow": null,
            "grid_auto_rows": null,
            "grid_column": null,
            "grid_gap": null,
            "grid_row": null,
            "grid_template_areas": null,
            "grid_template_columns": null,
            "grid_template_rows": null,
            "height": null,
            "justify_content": null,
            "justify_items": null,
            "left": null,
            "margin": null,
            "max_height": null,
            "max_width": null,
            "min_height": null,
            "min_width": null,
            "object_fit": null,
            "object_position": null,
            "order": null,
            "overflow": null,
            "overflow_x": null,
            "overflow_y": null,
            "padding": null,
            "right": null,
            "top": null,
            "visibility": null,
            "width": null
          }
        },
        "1ac68c29378444fe92a9ac152f4d62e6": {
          "model_module": "@jupyter-widgets/controls",
          "model_name": "DescriptionStyleModel",
          "model_module_version": "1.5.0",
          "state": {
            "_model_module": "@jupyter-widgets/controls",
            "_model_module_version": "1.5.0",
            "_model_name": "DescriptionStyleModel",
            "_view_count": null,
            "_view_module": "@jupyter-widgets/base",
            "_view_module_version": "1.2.0",
            "_view_name": "StyleView",
            "description_width": ""
          }
        },
        "98b5861c60704401b2f70f22dfba2d59": {
          "model_module": "@jupyter-widgets/base",
          "model_name": "LayoutModel",
          "model_module_version": "1.2.0",
          "state": {
            "_model_module": "@jupyter-widgets/base",
            "_model_module_version": "1.2.0",
            "_model_name": "LayoutModel",
            "_view_count": null,
            "_view_module": "@jupyter-widgets/base",
            "_view_module_version": "1.2.0",
            "_view_name": "LayoutView",
            "align_content": null,
            "align_items": null,
            "align_self": null,
            "border": null,
            "bottom": null,
            "display": null,
            "flex": null,
            "flex_flow": null,
            "grid_area": null,
            "grid_auto_columns": null,
            "grid_auto_flow": null,
            "grid_auto_rows": null,
            "grid_column": null,
            "grid_gap": null,
            "grid_row": null,
            "grid_template_areas": null,
            "grid_template_columns": null,
            "grid_template_rows": null,
            "height": null,
            "justify_content": null,
            "justify_items": null,
            "left": null,
            "margin": null,
            "max_height": null,
            "max_width": null,
            "min_height": null,
            "min_width": null,
            "object_fit": null,
            "object_position": null,
            "order": null,
            "overflow": null,
            "overflow_x": null,
            "overflow_y": null,
            "padding": null,
            "right": null,
            "top": null,
            "visibility": null,
            "width": null
          }
        },
        "c523d639e14a462a9bbdb3908d6a706c": {
          "model_module": "@jupyter-widgets/controls",
          "model_name": "ProgressStyleModel",
          "model_module_version": "1.5.0",
          "state": {
            "_model_module": "@jupyter-widgets/controls",
            "_model_module_version": "1.5.0",
            "_model_name": "ProgressStyleModel",
            "_view_count": null,
            "_view_module": "@jupyter-widgets/base",
            "_view_module_version": "1.2.0",
            "_view_name": "StyleView",
            "bar_color": null,
            "description_width": ""
          }
        },
        "15005f4279e64071b70cc9600f0cb07c": {
          "model_module": "@jupyter-widgets/base",
          "model_name": "LayoutModel",
          "model_module_version": "1.2.0",
          "state": {
            "_model_module": "@jupyter-widgets/base",
            "_model_module_version": "1.2.0",
            "_model_name": "LayoutModel",
            "_view_count": null,
            "_view_module": "@jupyter-widgets/base",
            "_view_module_version": "1.2.0",
            "_view_name": "LayoutView",
            "align_content": null,
            "align_items": null,
            "align_self": null,
            "border": null,
            "bottom": null,
            "display": null,
            "flex": null,
            "flex_flow": null,
            "grid_area": null,
            "grid_auto_columns": null,
            "grid_auto_flow": null,
            "grid_auto_rows": null,
            "grid_column": null,
            "grid_gap": null,
            "grid_row": null,
            "grid_template_areas": null,
            "grid_template_columns": null,
            "grid_template_rows": null,
            "height": null,
            "justify_content": null,
            "justify_items": null,
            "left": null,
            "margin": null,
            "max_height": null,
            "max_width": null,
            "min_height": null,
            "min_width": null,
            "object_fit": null,
            "object_position": null,
            "order": null,
            "overflow": null,
            "overflow_x": null,
            "overflow_y": null,
            "padding": null,
            "right": null,
            "top": null,
            "visibility": null,
            "width": null
          }
        },
        "2e0418a1336e4782a7997167baca78a3": {
          "model_module": "@jupyter-widgets/controls",
          "model_name": "DescriptionStyleModel",
          "model_module_version": "1.5.0",
          "state": {
            "_model_module": "@jupyter-widgets/controls",
            "_model_module_version": "1.5.0",
            "_model_name": "DescriptionStyleModel",
            "_view_count": null,
            "_view_module": "@jupyter-widgets/base",
            "_view_module_version": "1.2.0",
            "_view_name": "StyleView",
            "description_width": ""
          }
        }
      }
    }
  },
  "nbformat": 4,
  "nbformat_minor": 0
}